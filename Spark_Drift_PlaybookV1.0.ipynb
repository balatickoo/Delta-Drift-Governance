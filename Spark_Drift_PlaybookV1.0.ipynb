{
 "cells": [
  {
   "cell_type": "code",
   "execution_count": 0,
   "metadata": {
    "application/vnd.databricks.v1+cell": {
     "cellMetadata": {
      "byteLimit": 2048000,
      "rowLimit": 10000
     },
     "inputWidgets": {},
     "nuid": "1b182e24-4d90-41e6-bc62-cdef3d332fdc",
     "showTitle": false,
     "tableResultSettingsMap": {},
     "title": ""
    }
   },
   "outputs": [
    {
     "output_type": "stream",
     "name": "stdout",
     "output_type": "stream",
     "text": [
      "Spark version: 4.0.0\nCurrent database: default\n\nTables in current DB:\n+--------+----------------+-----------+\n|database|tableName       |isTemporary|\n+--------+----------------+-----------+\n|default |ml_drift_summary|false      |\n|default |prod_predictions|false      |\n+--------+----------------+-----------+\n\n\nSearching all databases for 'prod_predictions' ...\nprod_predictions found in these databases: ['default']\nDescribe table in default.prod_predictions:\n+------+------------------------------------+----------------------------------+-----------+--------+----------------------+-------------------+----------------+-----------------+--------+-----------+-------------------------------------+----------------+----------------+-----------------------------------------+---------------------------------------------------------------+-------------+\n|format|id                                  |name                              |description|location|createdAt             |lastModified       |partitionColumns|clusteringColumns|numFiles|sizeInBytes|properties                           |minReaderVersion|minWriterVersion|tableFeatures                            |statistics                                                     |clusterByAuto|\n+------+------------------------------------+----------------------------------+-----------+--------+----------------------+-------------------+----------------+-----------------+--------+-----------+-------------------------------------+----------------+----------------+-----------------------------------------+---------------------------------------------------------------+-------------+\n|delta |02b93c96-7e42-4303-8466-d63600b59fbb|workspace.default.prod_predictions|NULL       |        |2025-09-29 09:24:34.77|2025-09-29 09:24:40|[]              |[]               |2       |33426      |{delta.enableDeletionVectors -> true}|3               |7               |[appendOnly, deletionVectors, invariants]|{numRowsDeletedByDeletionVectors -> 0, numDeletionVectors -> 0}|false        |\n+------+------------------------------------+----------------------------------+-----------+--------+----------------------+-------------------+----------------+-----------------+--------+-----------+-------------------------------------+----------------+----------------+-----------------------------------------+---------------------------------------------------------------+-------------+\n\n"
     ]
    }
   ],
   "source": [
    "# CELL 1: environment & catalog checks\n",
    "from pyspark.sql import functions as F\n",
    "spark = spark  # using existing session\n",
    "\n",
    "print(\"Spark version:\", spark.version)\n",
    "current_db = spark.catalog.currentDatabase()\n",
    "print(\"Current database:\", current_db)\n",
    "\n",
    "print(\"\\nTables in current DB:\")\n",
    "spark.sql(f\"SHOW TABLES IN {current_db}\").show(truncate=False)\n",
    "\n",
    "# search for table prod_predictions across all databases\n",
    "print(\"\\nSearching all databases for 'prod_predictions' ...\")\n",
    "dbs = [row.databaseName for row in spark.sql(\"SHOW DATABASES\").collect()]\n",
    "found = []\n",
    "for db in dbs:\n",
    "    df = spark.sql(f\"SHOW TABLES IN {db}\")\n",
    "    if df.filter(F.col(\"tableName\") == \"prod_predictions\").count() > 0:\n",
    "        found.append(db)\n",
    "\n",
    "if found:\n",
    "    print(\"prod_predictions found in these databases:\", found)\n",
    "    for db in found:\n",
    "        print(f\"Describe table in {db}.prod_predictions:\")\n",
    "        try:\n",
    "            spark.sql(f\"DESCRIBE DETAIL {db}.prod_predictions\").show(truncate=False)\n",
    "        except Exception as e:\n",
    "            print(\"Could not DESCRIBE DETAIL (maybe permissions):\", e)\n",
    "else:\n",
    "    print(\"prod_predictions not found in any catalog database.\")\n"
   ]
  },
  {
   "cell_type": "code",
   "execution_count": 0,
   "metadata": {
    "application/vnd.databricks.v1+cell": {
     "cellMetadata": {
      "byteLimit": 2048000,
      "rowLimit": 10000
     },
     "inputWidgets": {},
     "nuid": "f52d16ca-719d-4d09-91d2-e0f1817ec079",
     "showTitle": false,
     "tableResultSettingsMap": {},
     "title": ""
    }
   },
   "outputs": [
    {
     "output_type": "stream",
     "name": "stdout",
     "output_type": "stream",
     "text": [
      "Table 'default.prod_predictions' already exists — skipping creation.\nTable created/confirmed: default.prod_predictions\n"
     ]
    }
   ],
   "source": [
    "# CELL 2: create a safe test table (only if missing)\n",
    "from datetime import date, timedelta\n",
    "import pandas as pd\n",
    "import random\n",
    "spark = spark\n",
    "\n",
    "def ensure_test_table(table_name=\"prod_predictions\", rows_per_day=50, days=30):\n",
    "    # check existence in current DB\n",
    "    current_db = spark.catalog.currentDatabase()\n",
    "    tbls = spark.sql(f\"SHOW TABLES IN {current_db}\").toPandas()\n",
    "    if \"prod_predictions\" in tbls[\"tableName\"].values:\n",
    "        print(f\"Table '{current_db}.prod_predictions' already exists — skipping creation.\")\n",
    "        return f\"{current_db}.prod_predictions\"\n",
    "    print(f\"Creating test delta table '{current_db}.prod_predictions' with {rows_per_day*days} rows ...\")\n",
    "    today = date.today()\n",
    "    rows = []\n",
    "    for d in range(1, days+1):\n",
    "        day = (today - timedelta(days=d)).isoformat()\n",
    "        for i in range(rows_per_day):\n",
    "            rows.append({\n",
    "                \"event_date\": day,\n",
    "                \"txn_amount\": float(max(0, random.gauss(60, 25))),\n",
    "                \"model_score\": float(random.random()),\n",
    "                \"request_id\": f\"req_{d}_{i}\"\n",
    "            })\n",
    "    pdf = pd.DataFrame(rows)\n",
    "    sdf = spark.createDataFrame(pdf)\n",
    "    # write as managed delta table in current DB\n",
    "    sdf.write.format(\"delta\").mode(\"overwrite\").saveAsTable(\"prod_predictions\")\n",
    "    print(\"Created prod_predictions.\")\n",
    "    return f\"{current_db}.prod_predictions\"\n",
    "\n",
    "table_fqn = ensure_test_table()\n",
    "print(\"Table created/confirmed:\", table_fqn)\n"
   ]
  },
  {
   "cell_type": "code",
   "execution_count": 0,
   "metadata": {
    "application/vnd.databricks.v1+cell": {
     "cellMetadata": {
      "byteLimit": 2048000,
      "rowLimit": 10000
     },
     "inputWidgets": {},
     "nuid": "2e668933-ca29-4248-8b44-ec0069067f81",
     "showTitle": false,
     "tableResultSettingsMap": {},
     "title": ""
    }
   },
   "outputs": [],
   "source": [
    "# CELL 2b: scalable synthetic data (use if you need larger dataset)\n",
    "from pyspark.sql.functions import expr, rand, floor, col, current_date, date_sub\n",
    "spark = spark\n",
    "\n",
    "def create_large_table(table_name=\"prod_predictions_large\", n_rows=2_000_000, lookback_days=60):\n",
    "    print(f\"Creating scalable dataset '{table_name}' with approx {n_rows} rows ...\")\n",
    "    sdf = spark.range(0, n_rows).withColumn(\"event_date\", expr(f\"date_sub(current_date(), cast(rand()*{lookback_days} as int))\")) \\\n",
    "                                .withColumn(\"txn_amount\", (rand() * 500)) \\\n",
    "                                .withColumn(\"model_score\", rand()) \\\n",
    "                                .withColumn(\"request_id\", expr(\"concat('req_', id)\")) \\\n",
    "                                .drop(\"id\")\n",
    "    sdf.write.format(\"delta\").mode(\"overwrite\").saveAsTable(table_name)\n",
    "    print(\"Created scalable table:\", table_name)\n",
    "\n",
    "# Example call (comment/uncomment to use: careful with very large n_rows on community)\n",
    "# create_large_table(table_name=\"prod_predictions_large\", n_rows=200000, lookback_days=60)\n"
   ]
  },
  {
   "cell_type": "code",
   "execution_count": 0,
   "metadata": {
    "application/vnd.databricks.v1+cell": {
     "cellMetadata": {
      "byteLimit": 2048000,
      "rowLimit": 10000
     },
     "inputWidgets": {},
     "nuid": "94862b25-670f-41be-bf2a-c7fb0a15213d",
     "showTitle": false,
     "tableResultSettingsMap": {},
     "title": ""
    }
   },
   "outputs": [
    {
     "output_type": "stream",
     "name": "stdout",
     "output_type": "stream",
     "text": [
      "Current DB: default\nDESCRIBE TABLE:\n+-----------+---------+-------+\n|col_name   |data_type|comment|\n+-----------+---------+-------+\n|event_date |string   |NULL   |\n|txn_amount |double   |NULL   |\n|model_score|double   |NULL   |\n|request_id |string   |NULL   |\n+-----------+---------+-------+\n\n\nDESCRIBE DETAIL (if available):\n+------+------------------------------------+----------------------------------+-----------+--------+----------------------+-------------------+----------------+-----------------+--------+-----------+-------------------------------------+----------------+----------------+-----------------------------------------+---------------------------------------------------------------+-------------+\n|format|id                                  |name                              |description|location|createdAt             |lastModified       |partitionColumns|clusteringColumns|numFiles|sizeInBytes|properties                           |minReaderVersion|minWriterVersion|tableFeatures                            |statistics                                                     |clusterByAuto|\n+------+------------------------------------+----------------------------------+-----------+--------+----------------------+-------------------+----------------+-----------------+--------+-----------+-------------------------------------+----------------+----------------+-----------------------------------------+---------------------------------------------------------------+-------------+\n|delta |02b93c96-7e42-4303-8466-d63600b59fbb|workspace.default.prod_predictions|NULL       |        |2025-09-29 09:24:34.77|2025-09-29 09:24:40|[]              |[]               |2       |33426      |{delta.enableDeletionVectors -> true}|3               |7               |[appendOnly, deletionVectors, invariants]|{numRowsDeletedByDeletionVectors -> 0, numDeletionVectors -> 0}|false        |\n+------+------------------------------------+----------------------------------+-----------+--------+----------------------+-------------------+----------------+-----------------+--------+-----------+-------------------------------------+----------------+----------------+-----------------------------------------+---------------------------------------------------------------+-------------+\n\n\nSample rows (10):\n+----------+------------------+-------------------+----------+\n|event_date|txn_amount        |model_score        |request_id|\n+----------+------------------+-------------------+----------+\n|2025-09-28|57.74671759674686 |0.9265398436532872 |req_1_0   |\n|2025-09-28|62.90069873713113 |0.7111528982969848 |req_1_4   |\n|2025-09-28|45.741430471004634|0.4707175397163038 |req_1_6   |\n|2025-09-28|69.09587326531778 |0.23227280006786266|req_1_2   |\n|2025-09-28|48.20993083402237 |0.08509880653969004|req_1_1   |\n|2025-09-28|34.99772588806492 |0.6197883372783689 |req_1_7   |\n|2025-09-28|104.50663678511052|0.5061663820355305 |req_1_8   |\n|2025-09-28|27.106026247397793|0.3152894970778334 |req_1_5   |\n|2025-09-28|33.18868356123592 |0.9703613512877695 |req_1_3   |\n|2025-09-28|29.540793048578426|0.7406645262905648 |req_1_9   |\n+----------+------------------+-------------------+----------+\n\n\nCounts per date (recent 7):\n+----------+---+\n|event_date|cnt|\n+----------+---+\n|2025-09-28|50 |\n|2025-09-27|50 |\n|2025-09-26|50 |\n|2025-09-25|50 |\n|2025-09-24|50 |\n|2025-09-23|50 |\n|2025-09-22|50 |\n+----------+---+\n\n"
     ]
    }
   ],
   "source": [
    "# CELL 3: describe schema and show samples\n",
    "table_name = \"prod_predictions\"  # change to db.prod_predictions if found earlier\n",
    "print(\"Current DB:\", spark.catalog.currentDatabase())\n",
    "print(\"DESCRIBE TABLE:\")\n",
    "spark.sql(f\"DESCRIBE TABLE {table_name}\").show(truncate=False)\n",
    "\n",
    "print(\"\\nDESCRIBE DETAIL (if available):\")\n",
    "try:\n",
    "    spark.sql(f\"DESCRIBE DETAIL {table_name}\").show(truncate=False)\n",
    "except Exception as e:\n",
    "    print(\"DESCRIBE DETAIL failed:\", e)\n",
    "\n",
    "print(\"\\nSample rows (10):\")\n",
    "spark.sql(f\"SELECT * FROM {table_name} ORDER BY event_date DESC LIMIT 10\").show(truncate=False)\n",
    "print(\"\\nCounts per date (recent 7):\")\n",
    "spark.sql(f\"\"\"\n",
    "  SELECT event_date, count(*) as cnt\n",
    "  FROM {table_name}\n",
    "  GROUP BY event_date\n",
    "  ORDER BY event_date DESC\n",
    "  LIMIT 7\n",
    "\"\"\").show(truncate=False)\n"
   ]
  },
  {
   "cell_type": "code",
   "execution_count": 0,
   "metadata": {
    "application/vnd.databricks.v1+cell": {
     "cellMetadata": {
      "byteLimit": 2048000,
      "rowLimit": 10000
     },
     "inputWidgets": {},
     "nuid": "75cdcd8a-8f53-4409-8152-1f07cac32072",
     "showTitle": false,
     "tableResultSettingsMap": {},
     "title": ""
    }
   },
   "outputs": [
    {
     "output_type": "stream",
     "name": "stdout",
     "output_type": "stream",
     "text": [
      "Reference window: 2025-09-04 -> 2025-09-26\nCurrent window: 2025-09-27 -> 2025-10-04\nBaseline count: 1150\nCurrent count:  100\n"
     ]
    }
   ],
   "source": [
    "# CELL 4: window selection and counts\n",
    "from datetime import date, timedelta\n",
    "spark = spark\n",
    "\n",
    "REFERENCE_WINDOW_DAYS = 30\n",
    "CURRENT_WINDOW_DAYS = 7\n",
    "today = date.today()\n",
    "ref_start = (today - timedelta(days=REFERENCE_WINDOW_DAYS)).isoformat()\n",
    "ref_end   = (today - timedelta(days=CURRENT_WINDOW_DAYS+1)).isoformat()\n",
    "cur_start = (today - timedelta(days=CURRENT_WINDOW_DAYS)).isoformat()\n",
    "cur_end   = today.isoformat()\n",
    "\n",
    "print(\"Reference window:\", ref_start, \"->\", ref_end)\n",
    "print(\"Current window:\", cur_start, \"->\", cur_end)\n",
    "\n",
    "table_name = \"prod_predictions\"\n",
    "\n",
    "baseline_count = spark.sql(f\"SELECT count(*) as cnt FROM {table_name} WHERE event_date >= '{ref_start}' AND event_date <= '{ref_end}'\").collect()[0][0]\n",
    "current_count = spark.sql(f\"SELECT count(*) as cnt FROM {table_name} WHERE event_date >= '{cur_start}' AND event_date <= '{cur_end}'\").collect()[0][0]\n",
    "print(\"Baseline count:\", baseline_count)\n",
    "print(\"Current count: \", current_count)\n"
   ]
  },
  {
   "cell_type": "code",
   "execution_count": 0,
   "metadata": {
    "application/vnd.databricks.v1+cell": {
     "cellMetadata": {
      "byteLimit": 2048000,
      "rowLimit": 10000
     },
     "collapsed": true,
     "inputWidgets": {},
     "nuid": "961d7f6b-9e91-4a10-b1ef-dc6f6d9aff99",
     "showTitle": false,
     "tableResultSettingsMap": {},
     "title": ""
    }
   },
   "outputs": [],
   "source": [
    "# CELL 5: helpers for binning, freqs, and PSI\n",
    "import math\n",
    "from pyspark.sql import functions as F\n",
    "# Replacement bucketize_df using a Python UDF (works reliably across Databricks versions)\n",
    "from pyspark.sql.types import StringType\n",
    "from pyspark.sql.functions import udf\n",
    "\n",
    "def compute_quantile_bins(ref_df, col, n_bins=10, relative_error=0.01):\n",
    "    probs = [i / n_bins for i in range(n_bins + 1)]\n",
    "    q = ref_df.approxQuantile(col, probs, relative_error)\n",
    "    # sanitize monotonic bins\n",
    "    bins = []\n",
    "    last = -float(\"inf\")\n",
    "    for v in q:\n",
    "        if v is None:\n",
    "            continue\n",
    "        if v <= last:\n",
    "            v = last + 1e-9\n",
    "        bins.append(float(v))\n",
    "        last = v\n",
    "    if not bins:\n",
    "        return [-float(\"inf\"), float(\"inf\")]\n",
    "    bins[0] = -float(\"inf\")\n",
    "    if bins[-1] != float(\"inf\"):\n",
    "        bins[-1] = float(\"inf\")\n",
    "    return bins\n",
    "\n",
    "def make_bucket_udf(bins):\n",
    "    # bins = list of floats with -inf as -float('inf') and +inf as float('inf')\n",
    "    def bucket_val(v):\n",
    "        if v is None:\n",
    "            return None\n",
    "        try:\n",
    "            vv = float(v)\n",
    "        except:\n",
    "            return None\n",
    "        for i in range(len(bins)-1):\n",
    "            low = bins[i]\n",
    "            high = bins[i+1]\n",
    "            if low == -float(\"inf\"):\n",
    "                if vv <= high:\n",
    "                    return f\"(-inf,{high}]\"\n",
    "            elif high == float(\"inf\"):\n",
    "                if vv > low:\n",
    "                    return f\"({low},inf)\"\n",
    "            else:\n",
    "                # open on left, closed on right as in prior code\n",
    "                if vv > low and vv <= high:\n",
    "                    return f\"({low},{high}]\"\n",
    "        return None\n",
    "    return udf(bucket_val, StringType())\n",
    "\n",
    "def bucketize_df_udf(df, col, bins):\n",
    "    \"\"\"\n",
    "    df: Spark DataFrame\n",
    "    col: column name to bucketize\n",
    "    bins: Python list of floats (first should be -inf, last +inf)\n",
    "    returns: DataFrame with new column '<col>_bin'\n",
    "    \"\"\"\n",
    "    bucket_udf = make_bucket_udf(bins)\n",
    "    return df.withColumn(f\"{col}_bin\", bucket_udf(F.col(col)))\n",
    "\n",
    "def bucketize_df(df, col, bins, out_col_suffix=\"_bin\"):\n",
    "    expr = None\n",
    "    out_col = f\"{col}{out_col_suffix}\"\n",
    "    for i in range(len(bins)-1):\n",
    "        low = bins[i]\n",
    "        high = bins[i+1]\n",
    "        if low == -float(\"inf\"):\n",
    "            cond = F.col(col) <= F.lit(high)\n",
    "            label = f\"(-inf,{high}]\"\n",
    "        elif high == float(\"inf\"):\n",
    "            cond = F.col(col) > F.lit(low)\n",
    "            label = f\"({low},inf)\"\n",
    "        else:\n",
    "            cond = (F.col(col) > F.lit(low)) & (F.col(col) <= F.lit(high))\n",
    "            label = f\"({low},{high}]\"\n",
    "        when = F.when(cond, F.lit(label))\n",
    "        expr = when if expr is None else expr.otherwise(when)\n",
    "    return df.withColumn(out_col, expr)\n",
    "\n",
    "def freqs(df, bincol):\n",
    "    total = df.count()\n",
    "    if total == 0:\n",
    "        return {}\n",
    "    rows = df.groupBy(bincol).count().toPandas()\n",
    "    freqs = {}\n",
    "    for _, r in rows.iterrows():\n",
    "        freqs[r[bincol]] = float(r['count']) / float(total)\n",
    "    return freqs\n",
    "\n",
    "def psi_from_freqs(baseline_freqs: dict, current_freqs: dict, eps=1e-8):\n",
    "    all_keys = set(baseline_freqs.keys()).union(set(current_freqs.keys()))\n",
    "    psi = 0.0\n",
    "    for k in all_keys:\n",
    "        b = baseline_freqs.get(k, eps)\n",
    "        c = current_freqs.get(k, eps)\n",
    "        b = max(b, eps)\n",
    "        c = max(c, eps)\n",
    "        psi += (b - c) * math.log(b / c)\n",
    "    return float(psi)\n"
   ]
  },
  {
   "cell_type": "code",
   "execution_count": 0,
   "metadata": {
    "application/vnd.databricks.v1+cell": {
     "cellMetadata": {
      "byteLimit": 2048000,
      "rowLimit": 10000
     },
     "inputWidgets": {},
     "nuid": "9e204e3f-c2a0-4a21-9fef-66bbb2ffc5c4",
     "showTitle": false,
     "tableResultSettingsMap": {},
     "title": ""
    }
   },
   "outputs": [
    {
     "output_type": "stream",
     "name": "stdout",
     "output_type": "stream",
     "text": [
      "events_sdf schema (to write):\nroot\n |-- feature: string (nullable = true)\n |-- baseline_n: double (nullable = true)\n |-- current_n: double (nullable = true)\n |-- psi: double (nullable = true)\n |-- null_rate_change: double (nullable = true)\n |-- window_start: string (nullable = true)\n |-- window_end: string (nullable = true)\n\n\nTable 'ml_drift_summary' exists. Current schema:\nroot\n |-- feature: string (nullable = true)\n |-- baseline_n: double (nullable = true)\n |-- current_n: double (nullable = true)\n |-- psi: double (nullable = true)\n |-- null_rate_change: double (nullable = true)\n |-- window_start: string (nullable = true)\n |-- window_end: string (nullable = true)\n\n\nAttempting to append to existing table...\nAppend succeeded.\n\nFinal table schema & sample rows for ml_drift_summary:\nroot\n |-- feature: string (nullable = true)\n |-- baseline_n: double (nullable = true)\n |-- current_n: double (nullable = true)\n |-- psi: double (nullable = true)\n |-- null_rate_change: double (nullable = true)\n |-- window_start: string (nullable = true)\n |-- window_end: string (nullable = true)\n\n"
     ]
    },
    {
     "output_type": "display_data",
     "data": {
      "text/html": [
       "<style scoped>\n",
       "  .table-result-container {\n",
       "    max-height: 300px;\n",
       "    overflow: auto;\n",
       "  }\n",
       "  table, th, td {\n",
       "    border: 1px solid black;\n",
       "    border-collapse: collapse;\n",
       "  }\n",
       "  th, td {\n",
       "    padding: 5px;\n",
       "  }\n",
       "  th {\n",
       "    text-align: left;\n",
       "  }\n",
       "</style><div class='table-result-container'><table class='table-result'><thead style='background-color: white'><tr><th>feature</th><th>baseline_n</th><th>current_n</th><th>psi</th><th>null_rate_change</th><th>window_start</th><th>window_end</th></tr></thead><tbody><tr><td>txn_amount</td><td>1150.0</td><td>100.0</td><td>0.151988</td><td>0.0</td><td>2025-09-27</td><td>2025-10-04</td></tr><tr><td>model_score</td><td>1150.0</td><td>100.0</td><td>0.180849</td><td>0.0</td><td>2025-09-27</td><td>2025-10-04</td></tr><tr><td>model_score</td><td>1150.0</td><td>100.0</td><td>0.180849</td><td>0.0</td><td>2025-09-27</td><td>2025-10-04</td></tr><tr><td>model_score</td><td>1150.0</td><td>100.0</td><td>0.180849</td><td>0.0</td><td>2025-09-27</td><td>2025-10-04</td></tr><tr><td>txn_amount</td><td>1150.0</td><td>100.0</td><td>0.151988</td><td>0.0</td><td>2025-09-27</td><td>2025-10-04</td></tr><tr><td>txn_amount</td><td>1150.0</td><td>100.0</td><td>0.151988</td><td>0.0</td><td>2025-09-27</td><td>2025-10-04</td></tr></tbody></table></div>"
      ]
     },
     "metadata": {
      "application/vnd.databricks.v1+output": {
       "addedWidgets": {},
       "aggData": [],
       "aggError": "",
       "aggOverflow": false,
       "aggSchema": [],
       "aggSeriesLimitReached": false,
       "aggType": "",
       "arguments": {},
       "columnCustomDisplayInfos": {},
       "data": [
        [
         "txn_amount",
         1150.0,
         100.0,
         0.151988,
         0.0,
         "2025-09-27",
         "2025-10-04"
        ],
        [
         "model_score",
         1150.0,
         100.0,
         0.180849,
         0.0,
         "2025-09-27",
         "2025-10-04"
        ],
        [
         "model_score",
         1150.0,
         100.0,
         0.180849,
         0.0,
         "2025-09-27",
         "2025-10-04"
        ],
        [
         "model_score",
         1150.0,
         100.0,
         0.180849,
         0.0,
         "2025-09-27",
         "2025-10-04"
        ],
        [
         "txn_amount",
         1150.0,
         100.0,
         0.151988,
         0.0,
         "2025-09-27",
         "2025-10-04"
        ],
        [
         "txn_amount",
         1150.0,
         100.0,
         0.151988,
         0.0,
         "2025-09-27",
         "2025-10-04"
        ]
       ],
       "datasetInfos": [],
       "dbfsResultPath": null,
       "isJsonSchema": true,
       "metadata": {},
       "overflow": false,
       "plotOptions": {
        "customPlotOptions": {},
        "displayType": "table",
        "pivotAggregation": null,
        "pivotColumns": null,
        "xColumns": null,
        "yColumns": null
       },
       "removedWidgets": [],
       "schema": [
        {
         "metadata": "{}",
         "name": "feature",
         "type": "\"string\""
        },
        {
         "metadata": "{}",
         "name": "baseline_n",
         "type": "\"double\""
        },
        {
         "metadata": "{}",
         "name": "current_n",
         "type": "\"double\""
        },
        {
         "metadata": "{}",
         "name": "psi",
         "type": "\"double\""
        },
        {
         "metadata": "{}",
         "name": "null_rate_change",
         "type": "\"double\""
        },
        {
         "metadata": "{}",
         "name": "window_start",
         "type": "\"string\""
        },
        {
         "metadata": "{}",
         "name": "window_end",
         "type": "\"string\""
        }
       ],
       "type": "table"
      }
     },
     "output_type": "display_data"
    }
   ],
   "source": [
    "# Diagnostic + safe write for ml_drift_summary (copy -> paste -> run in new cell)\n",
    "from pyspark.sql import functions as F\n",
    "import traceback\n",
    "\n",
    "print(\"events_sdf schema (to write):\")\n",
    "events_sdf.printSchema()\n",
    "\n",
    "table_name = \"ml_drift_summary\"\n",
    "table_exists = False\n",
    "try:\n",
    "    spark.table(table_name)\n",
    "    table_exists = True\n",
    "    print(f\"\\nTable '{table_name}' exists. Current schema:\")\n",
    "    spark.table(table_name).printSchema()\n",
    "except Exception:\n",
    "    print(f\"\\nTable '{table_name}' does not exist yet. We'll create it.\")\n",
    "\n",
    "try:\n",
    "    if table_exists:\n",
    "        print(\"\\nAttempting to append to existing table...\")\n",
    "        events_sdf.write.format(\"delta\").mode(\"append\").saveAsTable(table_name)\n",
    "        print(\"Append succeeded.\")\n",
    "    else:\n",
    "        print(\"\\nTable does not exist — writing new table with overwrite mode.\")\n",
    "        events_sdf.write.format(\"delta\").mode(\"overwrite\").saveAsTable(table_name)\n",
    "        print(\"Table created.\")\n",
    "except Exception:\n",
    "    print(\"\\nAppend failed — attempting overwrite with schema overwrite.\")\n",
    "    traceback.print_exc()\n",
    "    events_sdf.write.format(\"delta\").option(\"overwriteSchema\",\"true\").mode(\"overwrite\").saveAsTable(table_name)\n",
    "    print(\"Overwrite with schema overwrite succeeded.\")\n",
    "\n",
    "print(\"\\nFinal table schema & sample rows for ml_drift_summary:\")\n",
    "t = spark.table(table_name)\n",
    "t.printSchema()\n",
    "display(t.orderBy(F.desc(\"window_start\")).limit(20).toPandas())\n"
   ]
  },
  {
   "cell_type": "code",
   "execution_count": 0,
   "metadata": {
    "application/vnd.databricks.v1+cell": {
     "cellMetadata": {
      "byteLimit": 2048000,
      "rowLimit": 10000
     },
     "inputWidgets": {},
     "nuid": "3f097e2e-10b9-4498-87cd-d4a07fda19e8",
     "showTitle": false,
     "tableResultSettingsMap": {},
     "title": ""
    }
   },
   "outputs": [
    {
     "output_type": "stream",
     "name": "stdout",
     "output_type": "stream",
     "text": [
      "Monitoring columns: ['model_score', 'txn_amount']\nReference window: 2025-09-04 -> 2025-09-26\nCurrent window:   2025-09-27 -> 2025-10-04\nBaseline rows: 1150\nCurrent  rows: 100\nDrift summary:\n"
     ]
    },
    {
     "output_type": "display_data",
     "data": {
      "text/html": [
       "<style scoped>\n",
       "  .table-result-container {\n",
       "    max-height: 300px;\n",
       "    overflow: auto;\n",
       "  }\n",
       "  table, th, td {\n",
       "    border: 1px solid black;\n",
       "    border-collapse: collapse;\n",
       "  }\n",
       "  th, td {\n",
       "    padding: 5px;\n",
       "  }\n",
       "  th {\n",
       "    text-align: left;\n",
       "  }\n",
       "</style><div class='table-result-container'><table class='table-result'><thead style='background-color: white'><tr><th>feature</th><th>baseline_n</th><th>current_n</th><th>psi</th><th>null_rate_change</th></tr></thead><tbody><tr><td>model_score</td><td>1150</td><td>100</td><td>0.180849</td><td>0.0</td></tr><tr><td>txn_amount</td><td>1150</td><td>100</td><td>0.151988</td><td>0.0</td></tr></tbody></table></div>"
      ]
     },
     "metadata": {
      "application/vnd.databricks.v1+output": {
       "addedWidgets": {},
       "aggData": [],
       "aggError": "",
       "aggOverflow": false,
       "aggSchema": [],
       "aggSeriesLimitReached": false,
       "aggType": "",
       "arguments": {},
       "columnCustomDisplayInfos": {},
       "data": [
        [
         "model_score",
         1150,
         100,
         0.180849,
         0.0
        ],
        [
         "txn_amount",
         1150,
         100,
         0.151988,
         0.0
        ]
       ],
       "datasetInfos": [],
       "dbfsResultPath": null,
       "isJsonSchema": true,
       "metadata": {},
       "overflow": false,
       "plotOptions": {
        "customPlotOptions": {},
        "displayType": "table",
        "pivotAggregation": null,
        "pivotColumns": null,
        "xColumns": null,
        "yColumns": null
       },
       "removedWidgets": [],
       "schema": [
        {
         "metadata": "{}",
         "name": "feature",
         "type": "\"string\""
        },
        {
         "metadata": "{}",
         "name": "baseline_n",
         "type": "\"long\""
        },
        {
         "metadata": "{}",
         "name": "current_n",
         "type": "\"long\""
        },
        {
         "metadata": "{}",
         "name": "psi",
         "type": "\"double\""
        },
        {
         "metadata": "{}",
         "name": "null_rate_change",
         "type": "\"double\""
        }
       ],
       "type": "table"
      }
     },
     "output_type": "display_data"
    },
    {
     "output_type": "stream",
     "name": "stdout",
     "output_type": "stream",
     "text": [
      "Appended/created ml_drift_summary - query: SELECT * FROM ml_drift_summary ORDER BY window_start DESC\n"
     ]
    }
   ],
   "source": [
    "# CELL 6 (REPLACEMENT) - compute drift summary and write audit table\n",
    "# --- Ensure you have already executed CELL 5 (helpers) and CELL 5a (bucketize_df_udf) ---\n",
    "import pandas as pd\n",
    "from pyspark.sql import functions as F\n",
    "\n",
    "table_name = \"prod_predictions\"\n",
    "\n",
    "# confirm table exists\n",
    "try:\n",
    "    spark.table(table_name)\n",
    "except Exception as e:\n",
    "    raise RuntimeError(f\"Table '{table_name}' not found in current catalog. Run CELL 2 to create it or qualify the db: {e}\")\n",
    "\n",
    "# pick monitoring columns\n",
    "cols = [c.name for c in spark.table(table_name).schema.fields]\n",
    "monitor_cols = []\n",
    "if \"model_score\" in cols:\n",
    "    monitor_cols.append(\"model_score\")\n",
    "if \"txn_amount\" in cols:\n",
    "    monitor_cols.append(\"txn_amount\")\n",
    "if not monitor_cols:\n",
    "    numeric_cols = [c.name for c in spark.table(table_name).schema.fields if \"DoubleType\" in str(c.dataType) or \"IntegerType\" in str(c.dataType)]\n",
    "    monitor_cols = numeric_cols[:2] if numeric_cols else cols[:1]\n",
    "\n",
    "print(\"Monitoring columns:\", monitor_cols)\n",
    "\n",
    "# window bounds from earlier cells\n",
    "# ensure ref_start, ref_end, cur_start, cur_end are defined (from CELL 4)\n",
    "try:\n",
    "    _ = ref_start; _ = ref_end; _ = cur_start; _ = cur_end\n",
    "except NameError:\n",
    "    from datetime import date, timedelta\n",
    "    today = date.today()\n",
    "    REF_DAYS = 30\n",
    "    CUR_DAYS = 7\n",
    "    ref_start = (today - timedelta(days=REF_DAYS)).isoformat()\n",
    "    ref_end   = (today - timedelta(days=CUR_DAYS+1)).isoformat()\n",
    "    cur_start = (today - timedelta(days=CUR_DAYS)).isoformat()\n",
    "    cur_end   = today.isoformat()\n",
    "\n",
    "print(\"Reference window:\", ref_start, \"->\", ref_end)\n",
    "print(\"Current window:  \", cur_start, \"->\", cur_end)\n",
    "\n",
    "# load windowed DataFrames safely using spark.sql (no stray characters)\n",
    "baseline_df = spark.sql(f\"SELECT * FROM {table_name} WHERE event_date >= '{ref_start}' AND event_date <= '{ref_end}'\")\n",
    "current_df  = spark.sql(f\"SELECT * FROM {table_name} WHERE event_date >= '{cur_start}' AND event_date <= '{cur_end}'\")\n",
    "\n",
    "print(\"Baseline rows:\", baseline_df.count())\n",
    "print(\"Current  rows:\", current_df.count())\n",
    "\n",
    "# compute drift stats\n",
    "results = []\n",
    "MIN_SAMPLE_FOR_TESTS = 50\n",
    "\n",
    "for col in monitor_cols:\n",
    "    try:\n",
    "        bcnt = baseline_df.filter(F.col(col).isNotNull()).count()\n",
    "        ccnt = current_df.filter(F.col(col).isNotNull()).count()\n",
    "        if bcnt < MIN_SAMPLE_FOR_TESTS or ccnt < MIN_SAMPLE_FOR_TESTS:\n",
    "            results.append({\"feature\":col, \"baseline_n\": bcnt, \"current_n\": ccnt, \"psi\": None, \"null_rate_change\": None})\n",
    "            continue\n",
    "\n",
    "        # compute bins from baseline using compute_quantile_bins defined in CELL 5\n",
    "        bins = compute_quantile_bins(baseline_df.filter(F.col(col).isNotNull()), col, n_bins=10)\n",
    "        # use UDF-based bucketizer: bucketize_df_udf\n",
    "        b_buckets = bucketize_df_udf(baseline_df.filter(F.col(col).isNotNull()), col, bins)\n",
    "        c_buckets = bucketize_df_udf(current_df.filter(F.col(col).isNotNull()), col, bins)\n",
    "        b_freqs = freqs(b_buckets, f\"{col}_bin\")\n",
    "        c_freqs = freqs(c_buckets, f\"{col}_bin\")\n",
    "        psi = psi_from_freqs(b_freqs, c_freqs)\n",
    "\n",
    "        b_null_rate = 1.0 - (bcnt / max(1, baseline_df.count()))\n",
    "        c_null_rate = 1.0 - (ccnt / max(1, current_df.count()))\n",
    "        null_rate_change = c_null_rate - b_null_rate\n",
    "\n",
    "        results.append({\"feature\": col, \"baseline_n\": bcnt, \"current_n\": ccnt, \"psi\": round(psi,6), \"null_rate_change\": round(null_rate_change,6)})\n",
    "    except Exception as e:\n",
    "        results.append({\"feature\": col, \"error\": str(e)})\n",
    "\n",
    "# display results\n",
    "res_df = pd.DataFrame(results)\n",
    "print(\"Drift summary:\")\n",
    "display(res_df)\n",
    "\n",
    "# write audit to delta table ml_drift_summary (create if missing)\n",
    "events = []\n",
    "for r in results:\n",
    "    events.append({\n",
    "        \"feature\": r.get(\"feature\"),\n",
    "        \"baseline_n\": float(r.get(\"baseline_n\") or 0),\n",
    "        \"current_n\": float(r.get(\"current_n\") or 0),\n",
    "        \"psi\": float(r.get(\"psi\")) if r.get(\"psi\") is not None else None,\n",
    "        \"null_rate_change\": float(r.get(\"null_rate_change\")) if r.get(\"null_rate_change\") is not None else None,\n",
    "        \"window_start\": cur_start,\n",
    "        \"window_end\": cur_end\n",
    "    })\n",
    "\n",
    "events_sdf = spark.createDataFrame(pd.DataFrame(events))\n",
    "try:\n",
    "    spark.table(\"ml_drift_summary\")\n",
    "    events_sdf.write.format(\"delta\").mode(\"append\").saveAsTable(\"ml_drift_summary\")\n",
    "except Exception:\n",
    "    events_sdf.write.format(\"delta\").mode(\"overwrite\").saveAsTable(\"ml_drift_summary\")\n",
    "\n",
    "print(\"Appended/created ml_drift_summary - query: SELECT * FROM ml_drift_summary ORDER BY window_start DESC\")\n"
   ]
  },
  {
   "cell_type": "markdown",
   "metadata": {
    "application/vnd.databricks.v1+cell": {
     "cellMetadata": {},
     "inputWidgets": {},
     "nuid": "6482068d-40b1-4717-be39-8c280ec6c1e2",
     "showTitle": false,
     "tableResultSettingsMap": {},
     "title": ""
    }
   },
   "source": [
    "# POC Plan — Drift Monitoring (A / B / C)\n",
    "Goal: produce drift summary into Delta (`ml_drift_summary`) and support Splunk ingestion later.\n",
    "\n",
    "A — Monitoring & Visualization\n",
    " - compute PSI/KS/chi2 per feature, store in `ml_drift_summary`\n",
    " - create small visualization in notebook and instructions for Databricks SQL dashboards\n",
    "\n",
    "B — ML-Ops enrichment\n",
    " - extend to multiple features (numerical + categorical)\n",
    " - join labels (if available) and compute AUC/accuracy; store `ml_perf_summary`\n",
    "\n",
    "C — Explainability & RCA\n",
    " - compute per-bin PSI contributions and store `ml_drift_contributions`\n",
    " - generate alerts (psi_threshold) and optionally push to Splunk/Slack\n",
    "\n",
    "Run each code cell after pasting into its own notebook cell.\n"
   ]
  },
  {
   "cell_type": "code",
   "execution_count": 0,
   "metadata": {
    "application/vnd.databricks.v1+cell": {
     "cellMetadata": {
      "byteLimit": 2048000,
      "rowLimit": 10000
     },
     "inputWidgets": {},
     "nuid": "d7f60704-8d0e-4d52-8516-3298c3192eb5",
     "showTitle": false,
     "tableResultSettingsMap": {},
     "title": ""
    }
   },
   "outputs": [],
   "source": [
    "# CELL 7 as per POC PLAN\n",
    "# CELL A1 — Utilities: quantile bins, UDF bucketing, freqs, PSI, KS, Chi2\n",
    "from pyspark.sql import functions as F\n",
    "from pyspark.sql.types import StringType\n",
    "from pyspark.sql.functions import udf\n",
    "import math, numpy as np, pandas as pd\n",
    "\n",
    "def compute_quantile_bins(ref_df, col, n_bins=10, relative_error=0.01):\n",
    "    # returns Python list of bin boundaries with -inf and +inf as endpoints\n",
    "    probs = [i / n_bins for i in range(n_bins + 1)]\n",
    "    q = ref_df.approxQuantile(col, probs, relative_error)\n",
    "    bins = []\n",
    "    last = -float(\"inf\")\n",
    "    for v in q:\n",
    "        if v is None:\n",
    "            continue\n",
    "        if v <= last:\n",
    "            v = last + 1e-9\n",
    "        bins.append(float(v))\n",
    "        last = v\n",
    "    if not bins:\n",
    "        return [-float(\"inf\"), float(\"inf\")]\n",
    "    bins[0] = -float(\"inf\")\n",
    "    if bins[-1] != float(\"inf\"):\n",
    "        bins[-1] = float(\"inf\")\n",
    "    return bins\n",
    "\n",
    "def make_bucket_udf(bins):\n",
    "    def bucket_val(v):\n",
    "        if v is None:\n",
    "            return None\n",
    "        try:\n",
    "            vv = float(v)\n",
    "        except:\n",
    "            return None\n",
    "        for i in range(len(bins)-1):\n",
    "            low = bins[i]\n",
    "            high = bins[i+1]\n",
    "            if low == -float(\"inf\"):\n",
    "                if vv <= high:\n",
    "                    return f\"(-inf,{high}]\"\n",
    "            elif high == float(\"inf\"):\n",
    "                if vv > low:\n",
    "                    return f\"({low},inf)\"\n",
    "            else:\n",
    "                if vv > low and vv <= high:\n",
    "                    return f\"({low},{high}]\"\n",
    "        return None\n",
    "    return udf(bucket_val, StringType())\n",
    "\n",
    "def bucketize_df_udf(df, col, bins):\n",
    "    bucket_udf = make_bucket_udf(bins)\n",
    "    return df.withColumn(f\"{col}_bin\", bucket_udf(F.col(col)))\n",
    "\n",
    "def freqs(df, bincol):\n",
    "    total = df.count()\n",
    "    if total == 0:\n",
    "        return {}\n",
    "    rows = df.groupBy(bincol).count().toPandas()\n",
    "    freqs = {}\n",
    "    for _, r in rows.iterrows():\n",
    "        freqs[r[bincol]] = float(r['count']) / float(total)\n",
    "    return freqs\n",
    "\n",
    "def psi_from_freqs(baseline_freqs: dict, current_freqs: dict, eps=1e-8):\n",
    "    all_keys = set(baseline_freqs.keys()).union(set(current_freqs.keys()))\n",
    "    psi = 0.0\n",
    "    for k in all_keys:\n",
    "        b = baseline_freqs.get(k, eps)\n",
    "        c = current_freqs.get(k, eps)\n",
    "        b = max(b, eps)\n",
    "        c = max(c, eps)\n",
    "        psi += (b - c) * math.log(b / c)\n",
    "    return float(psi)\n",
    "\n",
    "def ks_test_approx(baseline_df, current_df, col, sample_size=2000):\n",
    "    b_count = baseline_df.count()\n",
    "    c_count = current_df.count()\n",
    "    if b_count < 2 or c_count < 2:\n",
    "        return None\n",
    "    b_samp = baseline_df.select(col).where(F.col(col).isNotNull()).limit(sample_size).toPandas()[col].values\n",
    "    c_samp = current_df.select(col).where(F.col(col).isNotNull()).limit(sample_size).toPandas()[col].values\n",
    "    if len(b_samp)==0 or len(c_samp)==0:\n",
    "        return None\n",
    "    data_all = np.sort(np.concatenate([b_samp, c_samp]))\n",
    "    cdf_b = np.searchsorted(np.sort(b_samp), data_all, side='right')/float(len(b_samp))\n",
    "    cdf_c = np.searchsorted(np.sort(c_samp), data_all, side='right')/float(len(c_samp))\n",
    "    d = float(np.max(np.abs(cdf_b - cdf_c)))\n",
    "    return {\"D_stat\": d}\n",
    "\n",
    "def chi2_test_from_counts(baseline_counts: dict, current_counts: dict):\n",
    "    # baseline_counts & current_counts are maps category -> count (absolute)\n",
    "    # compute expected = baseline_prop * current_total\n",
    "    cur_total = sum(current_counts.values())\n",
    "    base_total = sum(baseline_counts.values())\n",
    "    if base_total == 0 or cur_total == 0:\n",
    "        return None\n",
    "    chi2 = 0.0\n",
    "    for k, cur_obs in current_counts.items():\n",
    "        base_count = baseline_counts.get(k, 0)\n",
    "        exp = (base_count / base_total) * cur_total\n",
    "        # avoid zero expected\n",
    "        if exp <= 0:\n",
    "            continue\n",
    "        chi2 += (cur_obs - exp)**2 / exp\n",
    "    df = max(len(set(list(baseline_counts.keys()) + list(current_counts.keys()))) - 1, 1)\n",
    "    return {\"chi2_stat\": float(chi2), \"df\": int(df)}\n"
   ]
  },
  {
   "cell_type": "code",
   "execution_count": 0,
   "metadata": {
    "application/vnd.databricks.v1+cell": {
     "cellMetadata": {
      "byteLimit": 2048000,
      "rowLimit": 10000
     },
     "inputWidgets": {},
     "nuid": "0a270d3d-da5f-4004-8f81-b17d56bfde05",
     "showTitle": false,
     "tableResultSettingsMap": {},
     "title": ""
    }
   },
   "outputs": [],
   "source": [
    "# CELL 8 - As per POC PLAN CELL A2\n",
    "# CELL A2 — get_drift_summary\n",
    "from pyspark.sql import functions as F\n",
    "\n",
    "def get_drift_summary(\n",
    "    delta_table=\"prod_predictions\",\n",
    "    reference_days=30,\n",
    "    current_days=7,\n",
    "    n_bins=10,\n",
    "    min_sample=50,\n",
    "    monitor_cols=None\n",
    "):\n",
    "    \"\"\"\n",
    "    Returns: events_sdf (spark df of summary per feature) and contributions_sdf (per-bin psi components)\n",
    "    \"\"\"\n",
    "    from datetime import date, timedelta\n",
    "    today = date.today()\n",
    "    ref_start = (today - timedelta(days=reference_days)).isoformat()\n",
    "    ref_end   = (today - timedelta(days=current_days+1)).isoformat()\n",
    "    cur_start = (today - timedelta(days=current_days)).isoformat()\n",
    "    cur_end   = today.isoformat()\n",
    "\n",
    "    # read table\n",
    "    full = spark.read.format(\"delta\").table(delta_table)\n",
    "    full = full.withColumn(\"event_date\", F.to_date(F.col(\"event_date\")))\n",
    "    baseline_df = full.filter((F.col(\"event_date\") >= F.lit(ref_start)) & (F.col(\"event_date\") <= F.lit(ref_end)))\n",
    "    current_df  = full.filter((F.col(\"event_date\") >= F.lit(cur_start)) & (F.col(\"event_date\") <= F.lit(cur_end)))\n",
    "\n",
    "    # choose monitor columns automatically if not provided\n",
    "    cols = [c.name for c in full.schema.fields]\n",
    "    if monitor_cols is None:\n",
    "        monitor_cols = []\n",
    "        if \"model_score\" in cols: monitor_cols.append(\"model_score\")\n",
    "        if \"txn_amount\" in cols: monitor_cols.append(\"txn_amount\")\n",
    "        if not monitor_cols:\n",
    "            numeric_cols = [c.name for c in full.schema.fields if \"DoubleType\" in str(c.dataType) or \"IntegerType\" in str(c.dataType)]\n",
    "            monitor_cols = numeric_cols[:3] if numeric_cols else cols[:1]\n",
    "\n",
    "    results = []\n",
    "    contrib_rows = []\n",
    "\n",
    "    for col in monitor_cols:\n",
    "        try:\n",
    "            bcnt = baseline_df.filter(F.col(col).isNotNull()).count()\n",
    "            ccnt = current_df.filter(F.col(col).isNotNull()).count()\n",
    "            if bcnt < min_sample or ccnt < min_sample:\n",
    "                results.append({\"feature\": col, \"baseline_n\": bcnt, \"current_n\": ccnt, \"psi\": None, \"ks\": None, \"chi2\": None, \"null_rate_change\": None, \"window_start\": cur_start, \"window_end\": cur_end})\n",
    "                continue\n",
    "\n",
    "            # numeric handling\n",
    "            # compute bins from baseline\n",
    "            bins = compute_quantile_bins(baseline_df.filter(F.col(col).isNotNull()), col, n_bins=n_bins)\n",
    "            b_buckets = bucketize_df_udf(baseline_df.filter(F.col(col).isNotNull()), col, bins)\n",
    "            c_buckets = bucketize_df_udf(current_df.filter(F.col(col).isNotNull()), col, bins)\n",
    "            b_freqs = freqs(b_buckets, f\"{col}_bin\")\n",
    "            c_freqs = freqs(c_buckets, f\"{col}_bin\")\n",
    "            psi = psi_from_freqs(b_freqs, c_freqs)\n",
    "\n",
    "            # compute per-bin psi contributions for explainability\n",
    "            all_bins = sorted(set(list(b_freqs.keys()) + list(c_freqs.keys())))\n",
    "            for bkt in all_bins:\n",
    "                b_pct = b_freqs.get(bkt, 1e-8)\n",
    "                c_pct = c_freqs.get(bkt, 1e-8)\n",
    "                comp = (b_pct - c_pct) * math.log(b_pct / c_pct) if b_pct>0 and c_pct>0 else 0.0\n",
    "                contrib_rows.append({\"feature\": col, \"bin\": bkt, \"baseline_pct\": b_pct, \"current_pct\": c_pct, \"psi_component\": float(comp), \"window_start\": cur_start, \"window_end\": cur_end})\n",
    "\n",
    "            # KS\n",
    "            ks = ks_test_approx(baseline_df, current_df, col)\n",
    "\n",
    "            # null rates\n",
    "            b_null_rate = 1.0 - (bcnt / max(1, baseline_df.count()))\n",
    "            c_null_rate = 1.0 - (ccnt / max(1, current_df.count()))\n",
    "            null_rate_change = c_null_rate - b_null_rate\n",
    "\n",
    "            # for categorical fallback (if small distinct count), compute chi2 against baseline freq\n",
    "            # get categorical counts if dtype suggests string or low cardinality\n",
    "            unique_count = baseline_df.select(col).distinct().count()\n",
    "            chi2 = None\n",
    "            if unique_count < 50 and not isinstance(bins[0], float) or unique_count < 50:\n",
    "                b_counts = {r[0]: r[1] for r in baseline_df.groupBy(col).count().collect()}\n",
    "                c_counts = {r[0]: r[1] for r in current_df.groupBy(col).count().collect()}\n",
    "                chi2 = chi2_test_from_counts(b_counts, c_counts)\n",
    "\n",
    "            results.append({\"feature\": col, \"baseline_n\": bcnt, \"current_n\": ccnt, \"psi\": round(psi,6) if psi is not None else None, \"ks\": ks, \"chi2\": chi2, \"null_rate_change\": round(null_rate_change,6), \"window_start\": cur_start, \"window_end\": cur_end})\n",
    "        except Exception as e:\n",
    "            results.append({\"feature\": col, \"error\": str(e), \"window_start\": cur_start, \"window_end\": cur_end})\n",
    "\n",
    "    events_pdf = pd.DataFrame(results)\n",
    "    events_sdf = spark.createDataFrame(events_pdf)\n",
    "\n",
    "    contrib_pdf = pd.DataFrame(contrib_rows) if contrib_rows else pd.DataFrame(columns=[\"feature\",\"bin\",\"baseline_pct\",\"current_pct\",\"psi_component\",\"window_start\",\"window_end\"])\n",
    "    contributions_sdf = spark.createDataFrame(contrib_pdf)\n",
    "\n",
    "    return events_sdf, contributions_sdf\n"
   ]
  },
  {
   "cell_type": "code",
   "execution_count": 0,
   "metadata": {
    "application/vnd.databricks.v1+cell": {
     "cellMetadata": {
      "byteLimit": 2048000,
      "rowLimit": 10000
     },
     "inputWidgets": {},
     "nuid": "c7d4ba67-7d7c-4a15-bbb5-154022d34540",
     "showTitle": false,
     "tableResultSettingsMap": {},
     "title": ""
    }
   },
   "outputs": [
    {
     "output_type": "stream",
     "name": "stdout",
     "output_type": "stream",
     "text": [
      "events_sdf already in memory — reusing.\nroot\n |-- feature: string (nullable = true)\n |-- bin: string (nullable = true)\n |-- baseline_pct: double (nullable = true)\n |-- current_pct: double (nullable = true)\n |-- psi_component: double (nullable = true)\n |-- window_start: string (nullable = true)\n |-- window_end: string (nullable = true)\n |-- collected_at: timestamp (nullable = false)\n\nNormalized events_sdf schema:\nroot\n |-- feature: string (nullable = true)\n |-- baseline_n: long (nullable = true)\n |-- current_n: long (nullable = true)\n |-- psi: double (nullable = true)\n |-- ks: string (nullable = true)\n |-- chi2: string (nullable = true)\n |-- null_rate_change: double (nullable = true)\n |-- window_start: string (nullable = true)\n |-- window_end: string (nullable = true)\n |-- collected_at: timestamp (nullable = false)\n\n"
     ]
    },
    {
     "output_type": "display_data",
     "data": {
      "text/html": [
       "<style scoped>\n",
       "  .table-result-container {\n",
       "    max-height: 300px;\n",
       "    overflow: auto;\n",
       "  }\n",
       "  table, th, td {\n",
       "    border: 1px solid black;\n",
       "    border-collapse: collapse;\n",
       "  }\n",
       "  th, td {\n",
       "    padding: 5px;\n",
       "  }\n",
       "  th {\n",
       "    text-align: left;\n",
       "  }\n",
       "</style><div class='table-result-container'><table class='table-result'><thead style='background-color: white'><tr><th>feature</th><th>baseline_n</th><th>current_n</th><th>psi</th><th>ks</th><th>chi2</th><th>null_rate_change</th><th>window_start</th><th>window_end</th><th>collected_at</th></tr></thead><tbody><tr><td>model_score</td><td>1150</td><td>100</td><td>0.180849</td><td>{0.10304347826086957}</td><td>null</td><td>0.0</td><td>2025-09-27</td><td>2025-10-04</td><td>2025-10-04T20:33:11.788Z</td></tr><tr><td>txn_amount</td><td>1150</td><td>100</td><td>0.151988</td><td>{0.14782608695652166}</td><td>null</td><td>0.0</td><td>2025-09-27</td><td>2025-10-04</td><td>2025-10-04T20:33:11.788Z</td></tr></tbody></table></div>"
      ]
     },
     "metadata": {
      "application/vnd.databricks.v1+output": {
       "addedWidgets": {},
       "aggData": [],
       "aggError": "",
       "aggOverflow": false,
       "aggSchema": [],
       "aggSeriesLimitReached": false,
       "aggType": "",
       "arguments": {},
       "columnCustomDisplayInfos": {},
       "data": [
        [
         "model_score",
         1150,
         100,
         0.180849,
         "{0.10304347826086957}",
         null,
         0.0,
         "2025-09-27",
         "2025-10-04",
         "2025-10-04T20:33:11.788Z"
        ],
        [
         "txn_amount",
         1150,
         100,
         0.151988,
         "{0.14782608695652166}",
         null,
         0.0,
         "2025-09-27",
         "2025-10-04",
         "2025-10-04T20:33:11.788Z"
        ]
       ],
       "datasetInfos": [],
       "dbfsResultPath": null,
       "isJsonSchema": true,
       "metadata": {},
       "overflow": false,
       "plotOptions": {
        "customPlotOptions": {},
        "displayType": "table",
        "pivotAggregation": null,
        "pivotColumns": null,
        "xColumns": null,
        "yColumns": null
       },
       "removedWidgets": [],
       "schema": [
        {
         "metadata": "{}",
         "name": "feature",
         "type": "\"string\""
        },
        {
         "metadata": "{}",
         "name": "baseline_n",
         "type": "\"long\""
        },
        {
         "metadata": "{}",
         "name": "current_n",
         "type": "\"long\""
        },
        {
         "metadata": "{}",
         "name": "psi",
         "type": "\"double\""
        },
        {
         "metadata": "{}",
         "name": "ks",
         "type": "\"string\""
        },
        {
         "metadata": "{}",
         "name": "chi2",
         "type": "\"void\""
        },
        {
         "metadata": "{}",
         "name": "null_rate_change",
         "type": "\"double\""
        },
        {
         "metadata": "{}",
         "name": "window_start",
         "type": "\"string\""
        },
        {
         "metadata": "{}",
         "name": "window_end",
         "type": "\"string\""
        },
        {
         "metadata": "{}",
         "name": "collected_at",
         "type": "\"timestamp\""
        }
       ],
       "type": "table"
      }
     },
     "output_type": "display_data"
    },
    {
     "output_type": "stream",
     "name": "stdout",
     "output_type": "stream",
     "text": [
      "\nNormalized contributions_sdf schema:\nroot\n |-- feature: string (nullable = true)\n |-- bin: string (nullable = true)\n |-- baseline_pct: double (nullable = true)\n |-- current_pct: double (nullable = true)\n |-- psi_component: double (nullable = true)\n |-- window_start: string (nullable = true)\n |-- window_end: string (nullable = true)\n |-- collected_at: timestamp (nullable = false)\n\n"
     ]
    },
    {
     "output_type": "display_data",
     "data": {
      "text/html": [
       "<style scoped>\n",
       "  .table-result-container {\n",
       "    max-height: 300px;\n",
       "    overflow: auto;\n",
       "  }\n",
       "  table, th, td {\n",
       "    border: 1px solid black;\n",
       "    border-collapse: collapse;\n",
       "  }\n",
       "  th, td {\n",
       "    padding: 5px;\n",
       "  }\n",
       "  th {\n",
       "    text-align: left;\n",
       "  }\n",
       "</style><div class='table-result-container'><table class='table-result'><thead style='background-color: white'><tr><th>feature</th><th>bin</th><th>baseline_pct</th><th>current_pct</th><th>psi_component</th><th>window_start</th><th>window_end</th><th>collected_at</th></tr></thead><tbody><tr><td>model_score</td><td>(-inf,0.09170324198238156]</td><td>0.09130434782608696</td><td>0.07</td><td>0.0056606326612683765</td><td>2025-09-27</td><td>2025-10-04</td><td>2025-10-04T20:33:12.431Z</td></tr><tr><td>model_score</td><td>(0.09170324198238156,0.2181725005845795]</td><td>0.10782608695652174</td><td>0.17</td><td>0.028306465381006472</td><td>2025-09-27</td><td>2025-10-04</td><td>2025-10-04T20:33:12.431Z</td></tr><tr><td>model_score</td><td>(0.2181725005845795,0.30484471042761485]</td><td>0.09565217391304348</td><td>0.04</td><td>0.048519733943837004</td><td>2025-09-27</td><td>2025-10-04</td><td>2025-10-04T20:33:12.431Z</td></tr><tr><td>model_score</td><td>(0.30484471042761485,0.4022104484786737]</td><td>0.1</td><td>0.05</td><td>0.03465735902799726</td><td>2025-09-27</td><td>2025-10-04</td><td>2025-10-04T20:33:12.431Z</td></tr><tr><td>model_score</td><td>(0.4022104484786737,0.48697717274286734]</td><td>0.09739130434782609</td><td>0.07</td><td>0.009045750553411445</td><td>2025-09-27</td><td>2025-10-04</td><td>2025-10-04T20:33:12.431Z</td></tr></tbody></table></div>"
      ]
     },
     "metadata": {
      "application/vnd.databricks.v1+output": {
       "addedWidgets": {},
       "aggData": [],
       "aggError": "",
       "aggOverflow": false,
       "aggSchema": [],
       "aggSeriesLimitReached": false,
       "aggType": "",
       "arguments": {},
       "columnCustomDisplayInfos": {},
       "data": [
        [
         "model_score",
         "(-inf,0.09170324198238156]",
         0.09130434782608696,
         0.07,
         0.0056606326612683765,
         "2025-09-27",
         "2025-10-04",
         "2025-10-04T20:33:12.431Z"
        ],
        [
         "model_score",
         "(0.09170324198238156,0.2181725005845795]",
         0.10782608695652174,
         0.17,
         0.028306465381006472,
         "2025-09-27",
         "2025-10-04",
         "2025-10-04T20:33:12.431Z"
        ],
        [
         "model_score",
         "(0.2181725005845795,0.30484471042761485]",
         0.09565217391304348,
         0.04,
         0.048519733943837004,
         "2025-09-27",
         "2025-10-04",
         "2025-10-04T20:33:12.431Z"
        ],
        [
         "model_score",
         "(0.30484471042761485,0.4022104484786737]",
         0.1,
         0.05,
         0.03465735902799726,
         "2025-09-27",
         "2025-10-04",
         "2025-10-04T20:33:12.431Z"
        ],
        [
         "model_score",
         "(0.4022104484786737,0.48697717274286734]",
         0.09739130434782609,
         0.07,
         0.009045750553411445,
         "2025-09-27",
         "2025-10-04",
         "2025-10-04T20:33:12.431Z"
        ]
       ],
       "datasetInfos": [],
       "dbfsResultPath": null,
       "isJsonSchema": true,
       "metadata": {},
       "overflow": false,
       "plotOptions": {
        "customPlotOptions": {},
        "displayType": "table",
        "pivotAggregation": null,
        "pivotColumns": null,
        "xColumns": null,
        "yColumns": null
       },
       "removedWidgets": [],
       "schema": [
        {
         "metadata": "{}",
         "name": "feature",
         "type": "\"string\""
        },
        {
         "metadata": "{}",
         "name": "bin",
         "type": "\"string\""
        },
        {
         "metadata": "{}",
         "name": "baseline_pct",
         "type": "\"double\""
        },
        {
         "metadata": "{}",
         "name": "current_pct",
         "type": "\"double\""
        },
        {
         "metadata": "{}",
         "name": "psi_component",
         "type": "\"double\""
        },
        {
         "metadata": "{}",
         "name": "window_start",
         "type": "\"string\""
        },
        {
         "metadata": "{}",
         "name": "window_end",
         "type": "\"string\""
        },
        {
         "metadata": "{}",
         "name": "collected_at",
         "type": "\"timestamp\""
        }
       ],
       "type": "table"
      }
     },
     "output_type": "display_data"
    },
    {
     "output_type": "stream",
     "name": "stdout",
     "output_type": "stream",
     "text": [
      "\nWriting to ml_drift_summary_v2 and ml_drift_contributions_v2\nWrote ml_drift_summary_v2\nWrote ml_drift_contributions_v2\n\nPreview ml_drift_summary_v2\n"
     ]
    },
    {
     "output_type": "display_data",
     "data": {
      "text/html": [
       "<style scoped>\n",
       "  .table-result-container {\n",
       "    max-height: 300px;\n",
       "    overflow: auto;\n",
       "  }\n",
       "  table, th, td {\n",
       "    border: 1px solid black;\n",
       "    border-collapse: collapse;\n",
       "  }\n",
       "  th, td {\n",
       "    padding: 5px;\n",
       "  }\n",
       "  th {\n",
       "    text-align: left;\n",
       "  }\n",
       "</style><div class='table-result-container'><table class='table-result'><thead style='background-color: white'><tr><th>feature</th><th>baseline_n</th><th>current_n</th><th>psi</th><th>ks</th><th>chi2</th><th>null_rate_change</th><th>window_start</th><th>window_end</th><th>collected_at</th></tr></thead><tbody><tr><td>model_score</td><td>1150</td><td>100</td><td>0.180849</td><td>{0.10304347826086957}</td><td>null</td><td>0.0</td><td>2025-09-27</td><td>2025-10-04</td><td>2025-10-04T20:33:14.518Z</td></tr><tr><td>txn_amount</td><td>1150</td><td>100</td><td>0.151988</td><td>{0.14782608695652166}</td><td>null</td><td>0.0</td><td>2025-09-27</td><td>2025-10-04</td><td>2025-10-04T20:33:14.518Z</td></tr></tbody></table></div>"
      ]
     },
     "metadata": {
      "application/vnd.databricks.v1+output": {
       "addedWidgets": {},
       "aggData": [],
       "aggError": "",
       "aggOverflow": false,
       "aggSchema": [],
       "aggSeriesLimitReached": false,
       "aggType": "",
       "arguments": {},
       "columnCustomDisplayInfos": {},
       "data": [
        [
         "model_score",
         1150,
         100,
         0.180849,
         "{0.10304347826086957}",
         null,
         0.0,
         "2025-09-27",
         "2025-10-04",
         "2025-10-04T20:33:14.518Z"
        ],
        [
         "txn_amount",
         1150,
         100,
         0.151988,
         "{0.14782608695652166}",
         null,
         0.0,
         "2025-09-27",
         "2025-10-04",
         "2025-10-04T20:33:14.518Z"
        ]
       ],
       "datasetInfos": [],
       "dbfsResultPath": null,
       "isJsonSchema": true,
       "metadata": {},
       "overflow": false,
       "plotOptions": {
        "customPlotOptions": {},
        "displayType": "table",
        "pivotAggregation": null,
        "pivotColumns": null,
        "xColumns": null,
        "yColumns": null
       },
       "removedWidgets": [],
       "schema": [
        {
         "metadata": "{}",
         "name": "feature",
         "type": "\"string\""
        },
        {
         "metadata": "{}",
         "name": "baseline_n",
         "type": "\"long\""
        },
        {
         "metadata": "{}",
         "name": "current_n",
         "type": "\"long\""
        },
        {
         "metadata": "{}",
         "name": "psi",
         "type": "\"double\""
        },
        {
         "metadata": "{}",
         "name": "ks",
         "type": "\"string\""
        },
        {
         "metadata": "{}",
         "name": "chi2",
         "type": "\"string\""
        },
        {
         "metadata": "{}",
         "name": "null_rate_change",
         "type": "\"double\""
        },
        {
         "metadata": "{}",
         "name": "window_start",
         "type": "\"string\""
        },
        {
         "metadata": "{}",
         "name": "window_end",
         "type": "\"string\""
        },
        {
         "metadata": "{}",
         "name": "collected_at",
         "type": "\"timestamp\""
        }
       ],
       "type": "table"
      }
     },
     "output_type": "display_data"
    },
    {
     "output_type": "stream",
     "name": "stdout",
     "output_type": "stream",
     "text": [
      "\nPreview ml_drift_contributions_v2\n"
     ]
    },
    {
     "output_type": "display_data",
     "data": {
      "text/html": [
       "<style scoped>\n",
       "  .table-result-container {\n",
       "    max-height: 300px;\n",
       "    overflow: auto;\n",
       "  }\n",
       "  table, th, td {\n",
       "    border: 1px solid black;\n",
       "    border-collapse: collapse;\n",
       "  }\n",
       "  th, td {\n",
       "    padding: 5px;\n",
       "  }\n",
       "  th {\n",
       "    text-align: left;\n",
       "  }\n",
       "</style><div class='table-result-container'><table class='table-result'><thead style='background-color: white'><tr><th>feature</th><th>bin</th><th>baseline_pct</th><th>current_pct</th><th>psi_component</th><th>window_start</th><th>window_end</th><th>collected_at</th></tr></thead><tbody><tr><td>txn_amount</td><td>(79.71172069784367,89.93500237266898]</td><td>0.09913043478260869</td><td>0.04</td><td>0.053664243069188884</td><td>2025-09-27</td><td>2025-10-04</td><td>2025-10-04T20:33:17.335Z</td></tr><tr><td>txn_amount</td><td>(46.14011443685155,53.642070700768016]</td><td>0.10173913043478261</td><td>0.1</td><td>2.998575032087984E-5</td><td>2025-09-27</td><td>2025-10-04</td><td>2025-10-04T20:33:17.335Z</td></tr><tr><td>txn_amount</td><td>(65.18096525232735,72.20556031573985]</td><td>0.10260869565217391</td><td>0.08</td><td>0.005627214985071507</td><td>2025-09-27</td><td>2025-10-04</td><td>2025-10-04T20:33:17.335Z</td></tr><tr><td>txn_amount</td><td>(72.20556031573985,79.71172069784367]</td><td>0.09826086956521739</td><td>0.09</td><td>7.254382235353993E-4</td><td>2025-09-27</td><td>2025-10-04</td><td>2025-10-04T20:33:17.335Z</td></tr><tr><td>txn_amount</td><td>(-inf,26.74467958979205]</td><td>0.09391304347826086</td><td>0.08</td><td>0.0022308542619155366</td><td>2025-09-27</td><td>2025-10-04</td><td>2025-10-04T20:33:17.335Z</td></tr><tr><td>txn_amount</td><td>(39.21533011219421,46.14011443685155]</td><td>0.09826086956521739</td><td>0.11</td><td>0.0013248135718657958</td><td>2025-09-27</td><td>2025-10-04</td><td>2025-10-04T20:33:17.335Z</td></tr><tr><td>model_score</td><td>(0.8907478773877181,inf)</td><td>0.10956521739130434</td><td>0.11</td><td>1.7219135722161172E-6</td><td>2025-09-27</td><td>2025-10-04</td><td>2025-10-04T20:33:17.335Z</td></tr><tr><td>txn_amount</td><td>(59.82053247330101,65.18096525232735]</td><td>0.09652173913043478</td><td>0.1</td><td>1.231371375684035E-4</td><td>2025-09-27</td><td>2025-10-04</td><td>2025-10-04T20:33:17.335Z</td></tr><tr><td>model_score</td><td>(0.7927922783564506,0.8907478773877181]</td><td>0.1</td><td>0.09</td><td>0.0010536051565782645</td><td>2025-09-27</td><td>2025-10-04</td><td>2025-10-04T20:33:17.335Z</td></tr><tr><td>model_score</td><td>(0.7061424879127087,0.7927922783564506]</td><td>0.09739130434782609</td><td>0.09</td><td>5.83375389575827E-4</td><td>2025-09-27</td><td>2025-10-04</td><td>2025-10-04T20:33:17.335Z</td></tr><tr><td>model_score</td><td>(0.09170324198238156,0.2181725005845795]</td><td>0.10782608695652174</td><td>0.17</td><td>0.028306465381006472</td><td>2025-09-27</td><td>2025-10-04</td><td>2025-10-04T20:33:17.335Z</td></tr><tr><td>model_score</td><td>(0.48697717274286734,0.6019088705460546]</td><td>0.10173913043478261</td><td>0.18</td><td>0.04465133674963926</td><td>2025-09-27</td><td>2025-10-04</td><td>2025-10-04T20:33:17.335Z</td></tr><tr><td>model_score</td><td>(0.4022104484786737,0.48697717274286734]</td><td>0.09739130434782609</td><td>0.07</td><td>0.009045750553411445</td><td>2025-09-27</td><td>2025-10-04</td><td>2025-10-04T20:33:17.335Z</td></tr><tr><td>txn_amount</td><td>(26.74467958979205,39.21533011219421]</td><td>0.10521739130434783</td><td>0.15</td><td>0.01588021267830058</td><td>2025-09-27</td><td>2025-10-04</td><td>2025-10-04T20:33:17.335Z</td></tr><tr><td>model_score</td><td>(-inf,0.09170324198238156]</td><td>0.09130434782608696</td><td>0.07</td><td>0.0056606326612683765</td><td>2025-09-27</td><td>2025-10-04</td><td>2025-10-04T20:33:17.335Z</td></tr><tr><td>model_score</td><td>(0.6019088705460546,0.7061424879127087]</td><td>0.09913043478260869</td><td>0.13</td><td>0.008368675676075415</td><td>2025-09-27</td><td>2025-10-04</td><td>2025-10-04T20:33:17.335Z</td></tr><tr><td>model_score</td><td>(0.30484471042761485,0.4022104484786737]</td><td>0.1</td><td>0.05</td><td>0.03465735902799726</td><td>2025-09-27</td><td>2025-10-04</td><td>2025-10-04T20:33:17.335Z</td></tr><tr><td>txn_amount</td><td>(53.642070700768016,59.82053247330101]</td><td>0.09478260869565218</td><td>0.18</td><td>0.054655955897000064</td><td>2025-09-27</td><td>2025-10-04</td><td>2025-10-04T20:33:17.335Z</td></tr><tr><td>model_score</td><td>(0.2181725005845795,0.30484471042761485]</td><td>0.09565217391304348</td><td>0.04</td><td>0.048519733943837004</td><td>2025-09-27</td><td>2025-10-04</td><td>2025-10-04T20:33:17.335Z</td></tr><tr><td>txn_amount</td><td>(89.93500237266898,inf)</td><td>0.10956521739130434</td><td>0.07</td><td>0.017726195543457987</td><td>2025-09-27</td><td>2025-10-04</td><td>2025-10-04T20:33:17.335Z</td></tr></tbody></table></div>"
      ]
     },
     "metadata": {
      "application/vnd.databricks.v1+output": {
       "addedWidgets": {},
       "aggData": [],
       "aggError": "",
       "aggOverflow": false,
       "aggSchema": [],
       "aggSeriesLimitReached": false,
       "aggType": "",
       "arguments": {},
       "columnCustomDisplayInfos": {},
       "data": [
        [
         "txn_amount",
         "(79.71172069784367,89.93500237266898]",
         0.09913043478260869,
         0.04,
         0.053664243069188884,
         "2025-09-27",
         "2025-10-04",
         "2025-10-04T20:33:17.335Z"
        ],
        [
         "txn_amount",
         "(46.14011443685155,53.642070700768016]",
         0.10173913043478261,
         0.1,
         2.998575032087984E-5,
         "2025-09-27",
         "2025-10-04",
         "2025-10-04T20:33:17.335Z"
        ],
        [
         "txn_amount",
         "(65.18096525232735,72.20556031573985]",
         0.10260869565217391,
         0.08,
         0.005627214985071507,
         "2025-09-27",
         "2025-10-04",
         "2025-10-04T20:33:17.335Z"
        ],
        [
         "txn_amount",
         "(72.20556031573985,79.71172069784367]",
         0.09826086956521739,
         0.09,
         7.254382235353993E-4,
         "2025-09-27",
         "2025-10-04",
         "2025-10-04T20:33:17.335Z"
        ],
        [
         "txn_amount",
         "(-inf,26.74467958979205]",
         0.09391304347826086,
         0.08,
         0.0022308542619155366,
         "2025-09-27",
         "2025-10-04",
         "2025-10-04T20:33:17.335Z"
        ],
        [
         "txn_amount",
         "(39.21533011219421,46.14011443685155]",
         0.09826086956521739,
         0.11,
         0.0013248135718657958,
         "2025-09-27",
         "2025-10-04",
         "2025-10-04T20:33:17.335Z"
        ],
        [
         "model_score",
         "(0.8907478773877181,inf)",
         0.10956521739130434,
         0.11,
         1.7219135722161172E-6,
         "2025-09-27",
         "2025-10-04",
         "2025-10-04T20:33:17.335Z"
        ],
        [
         "txn_amount",
         "(59.82053247330101,65.18096525232735]",
         0.09652173913043478,
         0.1,
         1.231371375684035E-4,
         "2025-09-27",
         "2025-10-04",
         "2025-10-04T20:33:17.335Z"
        ],
        [
         "model_score",
         "(0.7927922783564506,0.8907478773877181]",
         0.1,
         0.09,
         0.0010536051565782645,
         "2025-09-27",
         "2025-10-04",
         "2025-10-04T20:33:17.335Z"
        ],
        [
         "model_score",
         "(0.7061424879127087,0.7927922783564506]",
         0.09739130434782609,
         0.09,
         5.83375389575827E-4,
         "2025-09-27",
         "2025-10-04",
         "2025-10-04T20:33:17.335Z"
        ],
        [
         "model_score",
         "(0.09170324198238156,0.2181725005845795]",
         0.10782608695652174,
         0.17,
         0.028306465381006472,
         "2025-09-27",
         "2025-10-04",
         "2025-10-04T20:33:17.335Z"
        ],
        [
         "model_score",
         "(0.48697717274286734,0.6019088705460546]",
         0.10173913043478261,
         0.18,
         0.04465133674963926,
         "2025-09-27",
         "2025-10-04",
         "2025-10-04T20:33:17.335Z"
        ],
        [
         "model_score",
         "(0.4022104484786737,0.48697717274286734]",
         0.09739130434782609,
         0.07,
         0.009045750553411445,
         "2025-09-27",
         "2025-10-04",
         "2025-10-04T20:33:17.335Z"
        ],
        [
         "txn_amount",
         "(26.74467958979205,39.21533011219421]",
         0.10521739130434783,
         0.15,
         0.01588021267830058,
         "2025-09-27",
         "2025-10-04",
         "2025-10-04T20:33:17.335Z"
        ],
        [
         "model_score",
         "(-inf,0.09170324198238156]",
         0.09130434782608696,
         0.07,
         0.0056606326612683765,
         "2025-09-27",
         "2025-10-04",
         "2025-10-04T20:33:17.335Z"
        ],
        [
         "model_score",
         "(0.6019088705460546,0.7061424879127087]",
         0.09913043478260869,
         0.13,
         0.008368675676075415,
         "2025-09-27",
         "2025-10-04",
         "2025-10-04T20:33:17.335Z"
        ],
        [
         "model_score",
         "(0.30484471042761485,0.4022104484786737]",
         0.1,
         0.05,
         0.03465735902799726,
         "2025-09-27",
         "2025-10-04",
         "2025-10-04T20:33:17.335Z"
        ],
        [
         "txn_amount",
         "(53.642070700768016,59.82053247330101]",
         0.09478260869565218,
         0.18,
         0.054655955897000064,
         "2025-09-27",
         "2025-10-04",
         "2025-10-04T20:33:17.335Z"
        ],
        [
         "model_score",
         "(0.2181725005845795,0.30484471042761485]",
         0.09565217391304348,
         0.04,
         0.048519733943837004,
         "2025-09-27",
         "2025-10-04",
         "2025-10-04T20:33:17.335Z"
        ],
        [
         "txn_amount",
         "(89.93500237266898,inf)",
         0.10956521739130434,
         0.07,
         0.017726195543457987,
         "2025-09-27",
         "2025-10-04",
         "2025-10-04T20:33:17.335Z"
        ]
       ],
       "datasetInfos": [],
       "dbfsResultPath": null,
       "isJsonSchema": true,
       "metadata": {},
       "overflow": false,
       "plotOptions": {
        "customPlotOptions": {},
        "displayType": "table",
        "pivotAggregation": null,
        "pivotColumns": null,
        "xColumns": null,
        "yColumns": null
       },
       "removedWidgets": [],
       "schema": [
        {
         "metadata": "{}",
         "name": "feature",
         "type": "\"string\""
        },
        {
         "metadata": "{}",
         "name": "bin",
         "type": "\"string\""
        },
        {
         "metadata": "{}",
         "name": "baseline_pct",
         "type": "\"double\""
        },
        {
         "metadata": "{}",
         "name": "current_pct",
         "type": "\"double\""
        },
        {
         "metadata": "{}",
         "name": "psi_component",
         "type": "\"double\""
        },
        {
         "metadata": "{}",
         "name": "window_start",
         "type": "\"string\""
        },
        {
         "metadata": "{}",
         "name": "window_end",
         "type": "\"string\""
        },
        {
         "metadata": "{}",
         "name": "collected_at",
         "type": "\"timestamp\""
        }
       ],
       "type": "table"
      }
     },
     "output_type": "display_data"
    }
   ],
   "source": [
    "# REPLACEMENT CELL A3 : generate drift summary, normalize and FORCE-WRITE to *_v2 tables\n",
    "from pyspark.sql import functions as F\n",
    "import pandas as pd, traceback\n",
    "\n",
    "# 1) Generate (or reuse) events_sdf, contributions_sdf\n",
    "try:\n",
    "    # if you already have events_sdf from prior cell, this will skip recomputing\n",
    "    events_sdf, contributions_sdf\n",
    "    print(\"events_sdf already in memory — reusing.\")\n",
    "except NameError:\n",
    "    print(\"Calling get_drift_summary(...) now to produce events_sdf & contributions_sdf\")\n",
    "    events_sdf, contributions_sdf = get_drift_summary(delta_table=\"prod_predictions\", reference_days=30, current_days=7, n_bins=10, min_sample=50)\n",
    "\n",
    "# 2) Normalize: ensure ks/chi2 are strings and collected_at exists\n",
    "for colname in (\"ks\", \"chi2\"):\n",
    "    if colname in events_sdf.columns:\n",
    "        events_sdf = events_sdf.withColumn(colname, F.col(colname).cast(\"string\"))\n",
    "    else:\n",
    "        events_sdf = events_sdf.withColumn(colname, F.lit(None).cast(\"string\"))\n",
    "\n",
    "if \"collected_at\" not in events_sdf.columns:\n",
    "    events_sdf = events_sdf.withColumn(\"collected_at\", F.current_timestamp())\n",
    "\n",
    "# Ensure contributions_sdf exists and has collected_at\n",
    "try:\n",
    "    contributions_sdf.printSchema()\n",
    "except NameError:\n",
    "    contributions_sdf = spark.createDataFrame(pd.DataFrame(columns=[\"feature\",\"bin\",\"baseline_pct\",\"current_pct\",\"psi_component\",\"window_start\",\"window_end\"]))\n",
    "if \"collected_at\" not in contributions_sdf.columns:\n",
    "    contributions_sdf = contributions_sdf.withColumn(\"collected_at\", F.current_timestamp())\n",
    "\n",
    "# 3) Show normalized schemas for quick sanity check\n",
    "print(\"Normalized events_sdf schema:\")\n",
    "events_sdf.printSchema()\n",
    "display(events_sdf.limit(5).toPandas())\n",
    "\n",
    "print(\"\\nNormalized contributions_sdf schema:\")\n",
    "contributions_sdf.printSchema()\n",
    "display(contributions_sdf.limit(5).toPandas())\n",
    "\n",
    "# 4) FORCE-WRITE to safe v2 tables using overwriteSchema (safe for POC)\n",
    "summary_table_v2 = \"ml_drift_summary_v2\"\n",
    "contrib_table_v2  = \"ml_drift_contributions_v2\"\n",
    "\n",
    "print(\"\\nWriting to\", summary_table_v2, \"and\", contrib_table_v2)\n",
    "try:\n",
    "    events_sdf.write.format(\"delta\").option(\"overwriteSchema\",\"true\").mode(\"overwrite\").saveAsTable(summary_table_v2)\n",
    "    print(\"Wrote\", summary_table_v2)\n",
    "except Exception:\n",
    "    print(\"Write to summary_table_v2 failed; printing traceback:\")\n",
    "    traceback.print_exc()\n",
    "    raise\n",
    "\n",
    "try:\n",
    "    contributions_sdf.write.format(\"delta\").option(\"overwriteSchema\",\"true\").mode(\"overwrite\").saveAsTable(contrib_table_v2)\n",
    "    print(\"Wrote\", contrib_table_v2)\n",
    "except Exception:\n",
    "    print(\"Write to contrib_table_v2 failed; printing traceback:\")\n",
    "    traceback.print_exc()\n",
    "    raise\n",
    "\n",
    "# 5) Preview newly created tables\n",
    "print(\"\\nPreview\", summary_table_v2)\n",
    "display(spark.table(summary_table_v2).orderBy(F.desc(\"collected_at\")).limit(50))\n",
    "\n",
    "print(\"\\nPreview\", contrib_table_v2)\n",
    "display(spark.table(contrib_table_v2).orderBy(F.desc(\"collected_at\")).limit(50))\n"
   ]
  },
  {
   "cell_type": "code",
   "execution_count": 0,
   "metadata": {
    "application/vnd.databricks.v1+cell": {
     "cellMetadata": {
      "byteLimit": 2048000,
      "rowLimit": 10000
     },
     "collapsed": true,
     "inputWidgets": {},
     "nuid": "e5e60f25-2738-4abc-a712-74e319d9f94e",
     "showTitle": false,
     "tableResultSettingsMap": {},
     "title": ""
    }
   },
   "outputs": [
    {
     "output_type": "stream",
     "name": "stdout",
     "output_type": "stream",
     "text": [
      "Summary rows (latest 10):\n"
     ]
    },
    {
     "output_type": "display_data",
     "data": {
      "text/html": [
       "<style scoped>\n",
       "  .table-result-container {\n",
       "    max-height: 300px;\n",
       "    overflow: auto;\n",
       "  }\n",
       "  table, th, td {\n",
       "    border: 1px solid black;\n",
       "    border-collapse: collapse;\n",
       "  }\n",
       "  th, td {\n",
       "    padding: 5px;\n",
       "  }\n",
       "  th {\n",
       "    text-align: left;\n",
       "  }\n",
       "</style><div class='table-result-container'><table class='table-result'><thead style='background-color: white'><tr><th>feature</th><th>baseline_n</th><th>current_n</th><th>psi</th><th>ks</th><th>chi2</th><th>null_rate_change</th><th>window_start</th><th>window_end</th><th>collected_at</th></tr></thead><tbody><tr><td>model_score</td><td>1150</td><td>100</td><td>0.180849</td><td>{0.10304347826086957}</td><td>null</td><td>0.0</td><td>2025-09-27</td><td>2025-10-04</td><td>2025-10-04T20:33:14.518Z</td></tr><tr><td>txn_amount</td><td>1150</td><td>100</td><td>0.151988</td><td>{0.14782608695652166}</td><td>null</td><td>0.0</td><td>2025-09-27</td><td>2025-10-04</td><td>2025-10-04T20:33:14.518Z</td></tr></tbody></table></div>"
      ]
     },
     "metadata": {
      "application/vnd.databricks.v1+output": {
       "addedWidgets": {},
       "aggData": [],
       "aggError": "",
       "aggOverflow": false,
       "aggSchema": [],
       "aggSeriesLimitReached": false,
       "aggType": "",
       "arguments": {},
       "columnCustomDisplayInfos": {},
       "data": [
        [
         "model_score",
         1150,
         100,
         0.180849,
         "{0.10304347826086957}",
         null,
         0.0,
         "2025-09-27",
         "2025-10-04",
         "2025-10-04T20:33:14.518Z"
        ],
        [
         "txn_amount",
         1150,
         100,
         0.151988,
         "{0.14782608695652166}",
         null,
         0.0,
         "2025-09-27",
         "2025-10-04",
         "2025-10-04T20:33:14.518Z"
        ]
       ],
       "datasetInfos": [],
       "dbfsResultPath": null,
       "isJsonSchema": true,
       "metadata": {},
       "overflow": false,
       "plotOptions": {
        "customPlotOptions": {},
        "displayType": "table",
        "pivotAggregation": null,
        "pivotColumns": null,
        "xColumns": null,
        "yColumns": null
       },
       "removedWidgets": [],
       "schema": [
        {
         "metadata": "{}",
         "name": "feature",
         "type": "\"string\""
        },
        {
         "metadata": "{}",
         "name": "baseline_n",
         "type": "\"long\""
        },
        {
         "metadata": "{}",
         "name": "current_n",
         "type": "\"long\""
        },
        {
         "metadata": "{}",
         "name": "psi",
         "type": "\"double\""
        },
        {
         "metadata": "{}",
         "name": "ks",
         "type": "\"string\""
        },
        {
         "metadata": "{}",
         "name": "chi2",
         "type": "\"string\""
        },
        {
         "metadata": "{}",
         "name": "null_rate_change",
         "type": "\"double\""
        },
        {
         "metadata": "{}",
         "name": "window_start",
         "type": "\"string\""
        },
        {
         "metadata": "{}",
         "name": "window_end",
         "type": "\"string\""
        },
        {
         "metadata": "{}",
         "name": "collected_at",
         "type": "\"timestamp\""
        }
       ],
       "type": "table"
      }
     },
     "output_type": "display_data"
    },
    {
     "output_type": "stream",
     "name": "stdout",
     "output_type": "stream",
     "text": [
      "Distinct windows in summary:\n"
     ]
    },
    {
     "output_type": "display_data",
     "data": {
      "text/html": [
       "<style scoped>\n",
       "  .table-result-container {\n",
       "    max-height: 300px;\n",
       "    overflow: auto;\n",
       "  }\n",
       "  table, th, td {\n",
       "    border: 1px solid black;\n",
       "    border-collapse: collapse;\n",
       "  }\n",
       "  th, td {\n",
       "    padding: 5px;\n",
       "  }\n",
       "  th {\n",
       "    text-align: left;\n",
       "  }\n",
       "</style><div class='table-result-container'><table class='table-result'><thead style='background-color: white'><tr><th>window_start</th></tr></thead><tbody><tr><td>2025-09-27</td></tr></tbody></table></div>"
      ]
     },
     "metadata": {
      "application/vnd.databricks.v1+output": {
       "addedWidgets": {},
       "aggData": [],
       "aggError": "",
       "aggOverflow": false,
       "aggSchema": [],
       "aggSeriesLimitReached": false,
       "aggType": "",
       "arguments": {},
       "columnCustomDisplayInfos": {},
       "data": [
        [
         "2025-09-27"
        ]
       ],
       "datasetInfos": [],
       "dbfsResultPath": null,
       "isJsonSchema": true,
       "metadata": {},
       "overflow": false,
       "plotOptions": {
        "customPlotOptions": {},
        "displayType": "table",
        "pivotAggregation": null,
        "pivotColumns": null,
        "xColumns": null,
        "yColumns": null
       },
       "removedWidgets": [],
       "schema": [
        {
         "metadata": "{}",
         "name": "window_start",
         "type": "\"string\""
        }
       ],
       "type": "table"
      }
     },
     "output_type": "display_data"
    }
   ],
   "source": [
    "# quick checks: confirm data exists\n",
    "from pyspark.sql import functions as F\n",
    "\n",
    "summary_table = \"ml_drift_summary_v2\"\n",
    "contrib_table  = \"ml_drift_contributions_v2\"\n",
    "\n",
    "print(\"Summary rows (latest 10):\")\n",
    "display(spark.table(summary_table).orderBy(F.desc(\"collected_at\")).limit(10))\n",
    "\n",
    "print(\"Distinct windows in summary:\")\n",
    "display(spark.sql(f\"SELECT DISTINCT window_start FROM {summary_table} ORDER BY window_start DESC LIMIT 20\"))\n"
   ]
  },
  {
   "cell_type": "code",
   "execution_count": 0,
   "metadata": {
    "application/vnd.databricks.v1+cell": {
     "cellMetadata": {
      "byteLimit": 2048000,
      "rowLimit": 10000
     },
     "collapsed": true,
     "inputWidgets": {},
     "nuid": "7627147e-c1ca-49dc-89b8-3928393e48c7",
     "showTitle": false,
     "tableResultSettingsMap": {},
     "title": ""
    }
   },
   "outputs": [
    {
     "output_type": "display_data",
     "data": {
      "image/png": "[encoded data removed]",
      "text/plain": [
       "<Figure size 1000x400 with 1 Axes>"
      ]
     },
     "metadata": {},
     "output_type": "display_data"
    }
   ],
   "source": [
    "# Time-series plot: mean PSI per window by feature (matplotlib)\n",
    "import pandas as pd\n",
    "import matplotlib.pyplot as plt\n",
    "from datetime import datetime\n",
    "\n",
    "summary_table = \"ml_drift_summary_v2\"\n",
    "\n",
    "sql = f\"\"\"\n",
    "SELECT window_start, feature, AVG(psi) as mean_psi\n",
    "FROM {summary_table}\n",
    "WHERE psi IS NOT NULL\n",
    "GROUP BY window_start, feature\n",
    "ORDER BY window_start\n",
    "\"\"\"\n",
    "pdf = spark.sql(sql).toPandas()\n",
    "\n",
    "if pdf.empty:\n",
    "    print(\"No PSI rows found. Run the drift summary generation first.\")\n",
    "else:\n",
    "    # convert window_start column to datetime\n",
    "    pdf['window_start'] = pd.to_datetime(pdf['window_start'])\n",
    "    # pivot so each feature is a column\n",
    "    pivot = pdf.pivot(index='window_start', columns='feature', values='mean_psi').sort_index()\n",
    "    plt.figure(figsize=(10,4))\n",
    "    for col in pivot.columns:\n",
    "        plt.plot(pivot.index, pivot[col], marker='o', label=col)\n",
    "    plt.xlabel('window_start')\n",
    "    plt.ylabel('mean PSI')\n",
    "    plt.title('Mean PSI by feature over windows')\n",
    "    plt.legend(title='feature')\n",
    "    plt.grid(True)\n",
    "    plt.tight_layout()\n",
    "    plt.show()\n"
   ]
  },
  {
   "cell_type": "code",
   "execution_count": 0,
   "metadata": {
    "application/vnd.databricks.v1+cell": {
     "cellMetadata": {
      "byteLimit": 2048000,
      "rowLimit": 10000
     },
     "collapsed": true,
     "inputWidgets": {},
     "nuid": "56bce6a4-691a-4c55-868e-7b5ce8958481",
     "showTitle": false,
     "tableResultSettingsMap": {},
     "title": ""
    }
   },
   "outputs": [
    {
     "output_type": "display_data",
     "data": {
      "image/png": "[encoded data removed]",
      "text/plain": [
       "<Figure size 600x400 with 2 Axes>"
      ]
     },
     "metadata": {},
     "output_type": "display_data"
    }
   ],
   "source": [
    "# Heatmap of PSI (feature x window_start)\n",
    "import pandas as pd\n",
    "import matplotlib.pyplot as plt\n",
    "import numpy as np\n",
    "\n",
    "summary_table = \"ml_drift_summary_v2\"\n",
    "\n",
    "sql = f\"\"\"\n",
    "SELECT window_start, feature, psi\n",
    "FROM {summary_table}\n",
    "WHERE psi IS NOT NULL\n",
    "ORDER BY window_start, feature\n",
    "\"\"\"\n",
    "pdf = spark.sql(sql).toPandas()\n",
    "\n",
    "if pdf.empty:\n",
    "    print(\"No PSI rows found. Run the drift summary generation first.\")\n",
    "else:\n",
    "    pdf['window_start'] = pd.to_datetime(pdf['window_start'])\n",
    "    # pivot\n",
    "    pivot = pdf.pivot(index='feature', columns='window_start', values='psi')\n",
    "    # Replace NaN with 0 for display\n",
    "    matrix = pivot.fillna(0).values\n",
    "    fig, ax = plt.subplots(figsize=(max(6, matrix.shape[1]*0.6), max(4, matrix.shape[0]*0.6)))\n",
    "    im = ax.imshow(matrix, aspect='auto')  # do not set colors\n",
    "    ax.set_yticks(np.arange(len(pivot.index)))\n",
    "    ax.set_yticklabels(pivot.index)\n",
    "    ax.set_xticks(np.arange(len(pivot.columns)))\n",
    "    ax.set_xticklabels([d.strftime(\"%Y-%m-%d\") for d in pivot.columns], rotation=45, ha='right')\n",
    "    ax.set_title('PSI heatmap (feature x window_start)')\n",
    "    fig.colorbar(im, ax=ax, orientation='vertical', label='psi')\n",
    "    plt.tight_layout()\n",
    "    plt.show()\n"
   ]
  },
  {
   "cell_type": "code",
   "execution_count": 0,
   "metadata": {
    "application/vnd.databricks.v1+cell": {
     "cellMetadata": {
      "byteLimit": 2048000,
      "rowLimit": 10000
     },
     "inputWidgets": {},
     "nuid": "d09c0245-ad19-4c69-ad21-5b85640bf167",
     "showTitle": false,
     "tableResultSettingsMap": {},
     "title": ""
    }
   },
   "outputs": [
    {
     "output_type": "stream",
     "name": "stdout",
     "output_type": "stream",
     "text": [
      "✅ Latest drift summary entries:\n"
     ]
    },
    {
     "output_type": "display_data",
     "data": {
      "text/html": [
       "<style scoped>\n",
       "  .table-result-container {\n",
       "    max-height: 300px;\n",
       "    overflow: auto;\n",
       "  }\n",
       "  table, th, td {\n",
       "    border: 1px solid black;\n",
       "    border-collapse: collapse;\n",
       "  }\n",
       "  th, td {\n",
       "    padding: 5px;\n",
       "  }\n",
       "  th {\n",
       "    text-align: left;\n",
       "  }\n",
       "</style><div class='table-result-container'><table class='table-result'><thead style='background-color: white'><tr><th>feature</th><th>baseline_n</th><th>current_n</th><th>psi</th><th>ks</th><th>chi2</th><th>null_rate_change</th><th>window_start</th><th>window_end</th><th>collected_at</th></tr></thead><tbody><tr><td>model_score</td><td>1150</td><td>100</td><td>0.180849</td><td>{0.10304347826086957}</td><td>null</td><td>0.0</td><td>2025-09-27</td><td>2025-10-04</td><td>2025-10-04T20:33:14.518Z</td></tr><tr><td>txn_amount</td><td>1150</td><td>100</td><td>0.151988</td><td>{0.14782608695652166}</td><td>null</td><td>0.0</td><td>2025-09-27</td><td>2025-10-04</td><td>2025-10-04T20:33:14.518Z</td></tr></tbody></table></div>"
      ]
     },
     "metadata": {
      "application/vnd.databricks.v1+output": {
       "addedWidgets": {},
       "aggData": [],
       "aggError": "",
       "aggOverflow": false,
       "aggSchema": [],
       "aggSeriesLimitReached": false,
       "aggType": "",
       "arguments": {},
       "columnCustomDisplayInfos": {},
       "data": [
        [
         "model_score",
         1150,
         100,
         0.180849,
         "{0.10304347826086957}",
         null,
         0.0,
         "2025-09-27",
         "2025-10-04",
         "2025-10-04T20:33:14.518Z"
        ],
        [
         "txn_amount",
         1150,
         100,
         0.151988,
         "{0.14782608695652166}",
         null,
         0.0,
         "2025-09-27",
         "2025-10-04",
         "2025-10-04T20:33:14.518Z"
        ]
       ],
       "datasetInfos": [],
       "dbfsResultPath": null,
       "isJsonSchema": true,
       "metadata": {},
       "overflow": false,
       "plotOptions": {
        "customPlotOptions": {},
        "displayType": "table",
        "pivotAggregation": null,
        "pivotColumns": null,
        "xColumns": null,
        "yColumns": null
       },
       "removedWidgets": [],
       "schema": [
        {
         "metadata": "{}",
         "name": "feature",
         "type": "\"string\""
        },
        {
         "metadata": "{}",
         "name": "baseline_n",
         "type": "\"long\""
        },
        {
         "metadata": "{}",
         "name": "current_n",
         "type": "\"long\""
        },
        {
         "metadata": "{}",
         "name": "psi",
         "type": "\"double\""
        },
        {
         "metadata": "{}",
         "name": "ks",
         "type": "\"string\""
        },
        {
         "metadata": "{}",
         "name": "chi2",
         "type": "\"string\""
        },
        {
         "metadata": "{}",
         "name": "null_rate_change",
         "type": "\"double\""
        },
        {
         "metadata": "{}",
         "name": "window_start",
         "type": "\"string\""
        },
        {
         "metadata": "{}",
         "name": "window_end",
         "type": "\"string\""
        },
        {
         "metadata": "{}",
         "name": "collected_at",
         "type": "\"timestamp\""
        }
       ],
       "type": "table"
      }
     },
     "output_type": "display_data"
    },
    {
     "output_type": "stream",
     "name": "stdout",
     "output_type": "stream",
     "text": [
      "\uD83D\uDCCA Distinct monitoring windows available:\n"
     ]
    },
    {
     "output_type": "display_data",
     "data": {
      "text/html": [
       "<style scoped>\n",
       "  .table-result-container {\n",
       "    max-height: 300px;\n",
       "    overflow: auto;\n",
       "  }\n",
       "  table, th, td {\n",
       "    border: 1px solid black;\n",
       "    border-collapse: collapse;\n",
       "  }\n",
       "  th, td {\n",
       "    padding: 5px;\n",
       "  }\n",
       "  th {\n",
       "    text-align: left;\n",
       "  }\n",
       "</style><div class='table-result-container'><table class='table-result'><thead style='background-color: white'><tr><th>window_start</th><th>window_end</th></tr></thead><tbody><tr><td>2025-09-27</td><td>2025-10-04</td></tr></tbody></table></div>"
      ]
     },
     "metadata": {
      "application/vnd.databricks.v1+output": {
       "addedWidgets": {},
       "aggData": [],
       "aggError": "",
       "aggOverflow": false,
       "aggSchema": [],
       "aggSeriesLimitReached": false,
       "aggType": "",
       "arguments": {},
       "columnCustomDisplayInfos": {},
       "data": [
        [
         "2025-09-27",
         "2025-10-04"
        ]
       ],
       "datasetInfos": [],
       "dbfsResultPath": null,
       "isJsonSchema": true,
       "metadata": {},
       "overflow": false,
       "plotOptions": {
        "customPlotOptions": {},
        "displayType": "table",
        "pivotAggregation": null,
        "pivotColumns": null,
        "xColumns": null,
        "yColumns": null
       },
       "removedWidgets": [],
       "schema": [
        {
         "metadata": "{}",
         "name": "window_start",
         "type": "\"string\""
        },
        {
         "metadata": "{}",
         "name": "window_end",
         "type": "\"string\""
        }
       ],
       "type": "table"
      }
     },
     "output_type": "display_data"
    }
   ],
   "source": [
    "# ===============================================\n",
    "# CELL A4.1 — Overview: Latest Drift Summary\n",
    "# Replaced errorprone A4\n",
    "# ===============================================\n",
    "# Purpose:\n",
    "#   Display the most recent drift summary and contextual metrics\n",
    "#   This verifies that drift records were saved correctly to ml_drift_summary_v2.\n",
    "\n",
    "from pyspark.sql import functions as F\n",
    "\n",
    "summary_table = \"ml_drift_summary_v2\"\n",
    "contrib_table = \"ml_drift_contributions_v2\"\n",
    "\n",
    "print(\"✅ Latest drift summary entries:\")\n",
    "display(\n",
    "    spark.table(summary_table)\n",
    "         .orderBy(F.desc(\"collected_at\"))\n",
    "         .limit(20)\n",
    ")\n",
    "\n",
    "print(\"\uD83D\uDCCA Distinct monitoring windows available:\")\n",
    "display(\n",
    "    spark.sql(f\"SELECT DISTINCT window_start, window_end FROM {summary_table} ORDER BY window_start DESC\")\n",
    ")\n"
   ]
  },
  {
   "cell_type": "code",
   "execution_count": 0,
   "metadata": {
    "application/vnd.databricks.v1+cell": {
     "cellMetadata": {
      "byteLimit": 2048000,
      "rowLimit": 10000
     },
     "inputWidgets": {},
     "nuid": "ce1f2e76-ca5b-464f-8f4f-a82a8abbdd69",
     "showTitle": false,
     "tableResultSettingsMap": {},
     "title": ""
    }
   },
   "outputs": [
    {
     "output_type": "stream",
     "name": "stderr",
     "output_type": "stream",
     "text": [
      "/home/spark-3dc39ac1-38aa-43f2-bcdf-d4/.ipykernel/2464/command-4583028534972340-3817304924:35: UserWarning: Glyph 128200 (\\N{CHART WITH UPWARDS TREND}) missing from current font.\n  plt.tight_layout()\n/databricks/python/lib/python3.12/site-packages/IPython/core/pylabtools.py:170: UserWarning: Glyph 128200 (\\N{CHART WITH UPWARDS TREND}) missing from current font.\n  fig.canvas.print_figure(bytes_io, **kw)\n"
     ]
    },
    {
     "output_type": "display_data",
     "data": {
      "image/png": "[encoded data removed]",
      "text/plain": [
       "<Figure size 1000x400 with 1 Axes>"
      ]
     },
     "metadata": {},
     "output_type": "display_data"
    }
   ],
   "source": [
    "# ===============================================\n",
    "# CELL A4.2 — PSI Trend Visualization (Matplotlib Line Chart)\n",
    "# ===============================================\n",
    "# Purpose:\n",
    "#   Plot feature-wise PSI values over time\n",
    "#   Use this to identify when a specific feature started drifting.\n",
    "\n",
    "import pandas as pd\n",
    "import matplotlib.pyplot as plt\n",
    "\n",
    "sql = f\"\"\"\n",
    "SELECT window_start, feature, AVG(psi) AS mean_psi\n",
    "FROM ml_drift_summary_v2\n",
    "WHERE psi IS NOT NULL\n",
    "GROUP BY window_start, feature\n",
    "ORDER BY window_start\n",
    "\"\"\"\n",
    "pdf = spark.sql(sql).toPandas()\n",
    "\n",
    "if pdf.empty:\n",
    "    print(\"⚠️ No PSI data found. Please re-run A3 to regenerate drift summary.\")\n",
    "else:\n",
    "    pdf['window_start'] = pd.to_datetime(pdf['window_start'])\n",
    "    pivot = pdf.pivot(index='window_start', columns='feature', values='mean_psi').sort_index()\n",
    "\n",
    "    plt.figure(figsize=(10,4))\n",
    "    for col in pivot.columns:\n",
    "        plt.plot(pivot.index, pivot[col], marker='o', label=col)\n",
    "\n",
    "    plt.xlabel(\"Window Start Date\")\n",
    "    plt.ylabel(\"Mean PSI\")\n",
    "    plt.title(\"\uD83D\uDCC8 Mean PSI by Feature over Windows\")\n",
    "    plt.legend(title=\"Feature\")\n",
    "    plt.grid(True)\n",
    "    plt.tight_layout()\n",
    "    plt.show()\n"
   ]
  },
  {
   "cell_type": "code",
   "execution_count": 0,
   "metadata": {
    "application/vnd.databricks.v1+cell": {
     "cellMetadata": {
      "byteLimit": 2048000,
      "rowLimit": 10000
     },
     "collapsed": true,
     "inputWidgets": {},
     "nuid": "ef672dc6-6dd6-44b7-99a1-ff90313cd01b",
     "showTitle": false,
     "tableResultSettingsMap": {},
     "title": ""
    }
   },
   "outputs": [
    {
     "output_type": "display_data",
     "data": {
      "text/html": [
       "<style scoped>\n",
       "  .table-result-container {\n",
       "    max-height: 300px;\n",
       "    overflow: auto;\n",
       "  }\n",
       "  table, th, td {\n",
       "    border: 1px solid black;\n",
       "    border-collapse: collapse;\n",
       "  }\n",
       "  th, td {\n",
       "    padding: 5px;\n",
       "  }\n",
       "  th {\n",
       "    text-align: left;\n",
       "  }\n",
       "</style><div class='table-result-container'><table class='table-result'><thead style='background-color: white'><tr><th>feature</th><th>window_start</th><th>psi</th></tr></thead><tbody><tr><td>model_score</td><td>2025-09-01</td><td>0.15365649923061275</td></tr><tr><td>txn_amount</td><td>2025-09-01</td><td>0.12693832030751576</td></tr><tr><td>model_score</td><td>2025-09-08</td><td>0.18320390906228387</td></tr><tr><td>txn_amount</td><td>2025-09-08</td><td>0.13596571507577973</td></tr><tr><td>model_score</td><td>2025-09-15</td><td>0.1755421858101371</td></tr><tr><td>txn_amount</td><td>2025-09-15</td><td>0.17895574699250413</td></tr><tr><td>model_score</td><td>2025-09-22</td><td>0.22656714704597714</td></tr><tr><td>txn_amount</td><td>2025-09-22</td><td>0.2019396629598099</td></tr><tr><td>model_score</td><td>2025-09-29</td><td>0.254187765569914</td></tr><tr><td>txn_amount</td><td>2025-09-29</td><td>0.255465526808259</td></tr></tbody></table></div>"
      ]
     },
     "metadata": {
      "application/vnd.databricks.v1+output": {
       "addedWidgets": {},
       "aggData": [],
       "aggError": "",
       "aggOverflow": false,
       "aggSchema": [],
       "aggSeriesLimitReached": false,
       "aggType": "",
       "arguments": {},
       "columnCustomDisplayInfos": {},
       "data": [
        [
         "model_score",
         "2025-09-01",
         0.15365649923061275
        ],
        [
         "txn_amount",
         "2025-09-01",
         0.12693832030751576
        ],
        [
         "model_score",
         "2025-09-08",
         0.18320390906228387
        ],
        [
         "txn_amount",
         "2025-09-08",
         0.13596571507577973
        ],
        [
         "model_score",
         "2025-09-15",
         0.1755421858101371
        ],
        [
         "txn_amount",
         "2025-09-15",
         0.17895574699250413
        ],
        [
         "model_score",
         "2025-09-22",
         0.22656714704597714
        ],
        [
         "txn_amount",
         "2025-09-22",
         0.2019396629598099
        ],
        [
         "model_score",
         "2025-09-29",
         0.254187765569914
        ],
        [
         "txn_amount",
         "2025-09-29",
         0.255465526808259
        ]
       ],
       "datasetInfos": [],
       "dbfsResultPath": null,
       "isJsonSchema": true,
       "metadata": {},
       "overflow": false,
       "plotOptions": {
        "customPlotOptions": {},
        "displayType": "table",
        "pivotAggregation": null,
        "pivotColumns": null,
        "xColumns": null,
        "yColumns": null
       },
       "removedWidgets": [],
       "schema": [
        {
         "metadata": "{}",
         "name": "feature",
         "type": "\"string\""
        },
        {
         "metadata": "{}",
         "name": "window_start",
         "type": "\"string\""
        },
        {
         "metadata": "{}",
         "name": "psi",
         "type": "\"double\""
        }
       ],
       "type": "table"
      }
     },
     "output_type": "display_data"
    }
   ],
   "source": [
    "# ===============================================\n",
    "# CELL A4.3B — Simulate multiple drift windows for visual testing\n",
    "# ===============================================\n",
    "import pandas as pd\n",
    "import random\n",
    "from datetime import datetime, timedelta\n",
    "\n",
    "summary_table = \"ml_drift_summary_v2\"\n",
    "\n",
    "# Load current PSI data\n",
    "pdf = spark.table(summary_table).toPandas()\n",
    "\n",
    "# Create 5 synthetic windows of PSI drift\n",
    "base_date = datetime(2025, 9, 1)\n",
    "synthetic = []\n",
    "for i in range(5):\n",
    "    w_date = base_date + timedelta(days=7*i)\n",
    "    for feat in pdf[\"feature\"].unique():\n",
    "        psi_value = max(0, min(0.35, random.gauss(0.12 + 0.03*i, 0.02)))  # simulate slight drift each week\n",
    "        synthetic.append({\n",
    "            \"feature\": feat,\n",
    "            \"window_start\": w_date.strftime(\"%Y-%m-%d\"),\n",
    "            \"psi\": psi_value\n",
    "        })\n",
    "synthetic_df = pd.DataFrame(synthetic)\n",
    "display(synthetic_df)\n"
   ]
  },
  {
   "cell_type": "code",
   "execution_count": 0,
   "metadata": {
    "application/vnd.databricks.v1+cell": {
     "cellMetadata": {
      "byteLimit": 2048000,
      "rowLimit": 10000
     },
     "inputWidgets": {},
     "nuid": "e829964c-55c5-4cb4-a69f-fb6d73637bf0",
     "showTitle": false,
     "tableResultSettingsMap": {},
     "title": ""
    }
   },
   "outputs": [
    {
     "output_type": "stream",
     "name": "stderr",
     "output_type": "stream",
     "text": [
      "/home/spark-3dc39ac1-38aa-43f2-bcdf-d4/.ipykernel/2464/command-4583028534972343-2286580406:33: UserWarning: Glyph 129517 (\\N{COMPASS}) missing from current font.\n  plt.tight_layout()\n/databricks/python/lib/python3.12/site-packages/IPython/core/pylabtools.py:170: UserWarning: Glyph 129517 (\\N{COMPASS}) missing from current font.\n  fig.canvas.print_figure(bytes_io, **kw)\n"
     ]
    },
    {
     "output_type": "display_data",
     "data": {
      "image/png": "[encoded data removed]",
      "text/plain": [
       "<Figure size 800x400 with 2 Axes>"
      ]
     },
     "metadata": {},
     "output_type": "display_data"
    }
   ],
   "source": [
    "# ===============================================\n",
    "# CELL A4.3C — Enhanced PSI Heatmap with value annotations\n",
    "# ===============================================\n",
    "import matplotlib.pyplot as plt\n",
    "import numpy as np\n",
    "import pandas as pd\n",
    "\n",
    "pdf = synthetic_df.copy()  # or use spark.table if you have real data\n",
    "pdf['window_start'] = pd.to_datetime(pdf['window_start'])\n",
    "pivot = pdf.pivot(index='feature', columns='window_start', values='psi').fillna(0)\n",
    "\n",
    "# Define color intensity limits for PSI thresholds\n",
    "vmin, vmax = 0, 0.3\n",
    "fig, ax = plt.subplots(figsize=(8, 4))\n",
    "im = ax.imshow(pivot.values, aspect='auto', vmin=vmin, vmax=vmax)\n",
    "\n",
    "# Axis labels\n",
    "ax.set_yticks(np.arange(len(pivot.index)))\n",
    "ax.set_yticklabels(pivot.index)\n",
    "ax.set_xticks(np.arange(len(pivot.columns)))\n",
    "ax.set_xticklabels([d.strftime(\"%Y-%m-%d\") for d in pivot.columns], rotation=45, ha='right')\n",
    "\n",
    "# Annotate PSI values on heatmap\n",
    "for i in range(pivot.shape[0]):\n",
    "    for j in range(pivot.shape[1]):\n",
    "        val = pivot.values[i, j]\n",
    "        color = \"white\" if val > 0.15 else \"black\"\n",
    "        ax.text(j, i, f\"{val:.2f}\", ha=\"center\", va=\"center\", color=color, fontsize=8)\n",
    "\n",
    "# Colorbar and labels\n",
    "ax.set_title(\"\uD83E\uDDED PSI Drift Map (Feature × Window Start)\")\n",
    "fig.colorbar(im, ax=ax, label='PSI')\n",
    "plt.tight_layout()\n",
    "plt.show()\n"
   ]
  },
  {
   "cell_type": "code",
   "execution_count": 0,
   "metadata": {
    "application/vnd.databricks.v1+cell": {
     "cellMetadata": {
      "byteLimit": 2048000,
      "rowLimit": 10000
     },
     "inputWidgets": {},
     "nuid": "86c8a143-436a-4ea1-98a4-107e18b36822",
     "showTitle": false,
     "tableResultSettingsMap": {},
     "title": ""
    }
   },
   "outputs": [
    {
     "output_type": "stream",
     "name": "stderr",
     "output_type": "stream",
     "text": [
      "/home/spark-3dc39ac1-38aa-43f2-bcdf-d4/.ipykernel/2464/command-4583028534972344-11188586:33: UserWarning: Glyph 129517 (\\N{COMPASS}) missing from current font.\n  plt.tight_layout()\n/databricks/python/lib/python3.12/site-packages/IPython/core/pylabtools.py:170: UserWarning: Glyph 129517 (\\N{COMPASS}) missing from current font.\n  fig.canvas.print_figure(bytes_io, **kw)\n"
     ]
    },
    {
     "output_type": "display_data",
     "data": {
      "image/png": "[encoded data removed]",
      "text/plain": [
       "<Figure size 800x400 with 2 Axes>"
      ]
     },
     "metadata": {},
     "output_type": "display_data"
    },
    {
     "output_type": "stream",
     "name": "stdout",
     "output_type": "stream",
     "text": [
      "Legend:\n\uD83D\uDFE2 PSI < 0.1 → No Drift\n\uD83D\uDFE1 0.1 ≤ PSI < 0.25 → Moderate Drift\n\uD83D\uDD34 PSI ≥ 0.25 → High Drift\n"
     ]
    }
   ],
   "source": [
    "# ===============================================\n",
    "# CELL A4.3C — Enhanced PSI Heatmap with value annotations\n",
    "# ===============================================\n",
    "import matplotlib.pyplot as plt\n",
    "import numpy as np\n",
    "import pandas as pd\n",
    "\n",
    "pdf = synthetic_df.copy()  # or use spark.table if you have real data\n",
    "pdf['window_start'] = pd.to_datetime(pdf['window_start'])\n",
    "pivot = pdf.pivot(index='feature', columns='window_start', values='psi').fillna(0)\n",
    "\n",
    "# Define color intensity limits for PSI thresholds\n",
    "vmin, vmax = 0, 0.3\n",
    "fig, ax = plt.subplots(figsize=(8, 4))\n",
    "im = ax.imshow(pivot.values, aspect='auto', vmin=vmin, vmax=vmax)\n",
    "\n",
    "# Axis labels\n",
    "ax.set_yticks(np.arange(len(pivot.index)))\n",
    "ax.set_yticklabels(pivot.index)\n",
    "ax.set_xticks(np.arange(len(pivot.columns)))\n",
    "ax.set_xticklabels([d.strftime(\"%Y-%m-%d\") for d in pivot.columns], rotation=45, ha='right')\n",
    "\n",
    "# Annotate PSI values on heatmap\n",
    "for i in range(pivot.shape[0]):\n",
    "    for j in range(pivot.shape[1]):\n",
    "        val = pivot.values[i, j]\n",
    "        color = \"white\" if val > 0.15 else \"black\"\n",
    "        ax.text(j, i, f\"{val:.2f}\", ha=\"center\", va=\"center\", color=color, fontsize=8)\n",
    "\n",
    "# Colorbar and labels\n",
    "ax.set_title(\"\uD83E\uDDED PSI Drift Map (Feature × Window Start)\")\n",
    "fig.colorbar(im, ax=ax, label='PSI')\n",
    "plt.tight_layout()\n",
    "plt.show()\n",
    "\n",
    "print(\"Legend:\")\n",
    "print(\"\uD83D\uDFE2 PSI < 0.1 → No Drift\")\n",
    "print(\"\uD83D\uDFE1 0.1 ≤ PSI < 0.25 → Moderate Drift\")\n",
    "print(\"\uD83D\uDD34 PSI ≥ 0.25 → High Drift\")\n",
    "\n"
   ]
  },
  {
   "cell_type": "code",
   "execution_count": 0,
   "metadata": {
    "application/vnd.databricks.v1+cell": {
     "cellMetadata": {
      "byteLimit": 2048000,
      "rowLimit": 10000
     },
     "inputWidgets": {},
     "nuid": "9bf23b56-97dd-41e1-b1ba-21e13a017349",
     "showTitle": false,
     "tableResultSettingsMap": {},
     "title": ""
    }
   },
   "outputs": [
    {
     "output_type": "stream",
     "name": "stdout",
     "output_type": "stream",
     "text": [
      "✅ Latest drift window: 2025-09-27\n"
     ]
    },
    {
     "output_type": "display_data",
     "data": {
      "text/html": [
       "<style scoped>\n",
       "  .table-result-container {\n",
       "    max-height: 300px;\n",
       "    overflow: auto;\n",
       "  }\n",
       "  table, th, td {\n",
       "    border: 1px solid black;\n",
       "    border-collapse: collapse;\n",
       "  }\n",
       "  th, td {\n",
       "    padding: 5px;\n",
       "  }\n",
       "  th {\n",
       "    text-align: left;\n",
       "  }\n",
       "</style><div class='table-result-container'><table class='table-result'><thead style='background-color: white'><tr><th>feature</th><th>baseline_n</th><th>current_n</th><th>psi</th><th>ks</th><th>chi2</th><th>null_rate_change</th><th>window_start</th><th>window_end</th><th>collected_at</th></tr></thead><tbody><tr><td>model_score</td><td>1150</td><td>100</td><td>0.180849</td><td>{0.10304347826086957}</td><td>null</td><td>0.0</td><td>2025-09-27</td><td>2025-10-04</td><td>2025-10-04T20:33:14.518Z</td></tr><tr><td>txn_amount</td><td>1150</td><td>100</td><td>0.151988</td><td>{0.14782608695652166}</td><td>null</td><td>0.0</td><td>2025-09-27</td><td>2025-10-04</td><td>2025-10-04T20:33:14.518Z</td></tr></tbody></table></div>"
      ]
     },
     "metadata": {
      "application/vnd.databricks.v1+output": {
       "addedWidgets": {},
       "aggData": [],
       "aggError": "",
       "aggOverflow": false,
       "aggSchema": [],
       "aggSeriesLimitReached": false,
       "aggType": "",
       "arguments": {},
       "columnCustomDisplayInfos": {},
       "data": [
        [
         "model_score",
         1150,
         100,
         0.180849,
         "{0.10304347826086957}",
         null,
         0.0,
         "2025-09-27",
         "2025-10-04",
         "2025-10-04T20:33:14.518Z"
        ],
        [
         "txn_amount",
         1150,
         100,
         0.151988,
         "{0.14782608695652166}",
         null,
         0.0,
         "2025-09-27",
         "2025-10-04",
         "2025-10-04T20:33:14.518Z"
        ]
       ],
       "datasetInfos": [],
       "dbfsResultPath": null,
       "isJsonSchema": true,
       "metadata": {},
       "overflow": false,
       "plotOptions": {
        "customPlotOptions": {},
        "displayType": "table",
        "pivotAggregation": null,
        "pivotColumns": null,
        "xColumns": null,
        "yColumns": null
       },
       "removedWidgets": [],
       "schema": [
        {
         "metadata": "{}",
         "name": "feature",
         "type": "\"string\""
        },
        {
         "metadata": "{}",
         "name": "baseline_n",
         "type": "\"long\""
        },
        {
         "metadata": "{}",
         "name": "current_n",
         "type": "\"long\""
        },
        {
         "metadata": "{}",
         "name": "psi",
         "type": "\"double\""
        },
        {
         "metadata": "{}",
         "name": "ks",
         "type": "\"string\""
        },
        {
         "metadata": "{}",
         "name": "chi2",
         "type": "\"string\""
        },
        {
         "metadata": "{}",
         "name": "null_rate_change",
         "type": "\"double\""
        },
        {
         "metadata": "{}",
         "name": "window_start",
         "type": "\"string\""
        },
        {
         "metadata": "{}",
         "name": "window_end",
         "type": "\"string\""
        },
        {
         "metadata": "{}",
         "name": "collected_at",
         "type": "\"timestamp\""
        }
       ],
       "type": "table"
      }
     },
     "output_type": "display_data"
    }
   ],
   "source": [
    "# CELL A5.1 — Extract latest drift summary snapshot for external monitoring\n",
    "from pyspark.sql import functions as F\n",
    "\n",
    "table_name = \"ml_drift_summary_v2\"\n",
    "\n",
    "# Read full table and get latest window_start\n",
    "df = spark.table(table_name)\n",
    "latest_window = df.select(F.max(\"window_start\")).collect()[0][0]\n",
    "\n",
    "latest_drift_df = df.filter(F.col(\"window_start\") == latest_window)\n",
    "\n",
    "print(f\"✅ Latest drift window: {latest_window}\")\n",
    "display(latest_drift_df)\n"
   ]
  },
  {
   "cell_type": "code",
   "execution_count": 0,
   "metadata": {
    "application/vnd.databricks.v1+cell": {
     "cellMetadata": {
      "byteLimit": 2048000,
      "rowLimit": 10000
     },
     "inputWidgets": {},
     "nuid": "b8939473-8cdc-4f6b-ab15-8e621c7197dd",
     "showTitle": false,
     "tableResultSettingsMap": {},
     "title": ""
    }
   },
   "outputs": [
    {
     "output_type": "stream",
     "name": "stdout",
     "output_type": "stream",
     "text": [
      "[\n  {\n    \"feature\": \"model_score\",\n    \"baseline_n\": 1150,\n    \"current_n\": 100,\n    \"psi\": 0.180849,\n    \"ks\": \"{0.10304347826086957}\",\n    \"chi2\": null,\n    \"null_rate_change\": 0.0,\n    \"window_start\": \"2025-09-27\",\n    \"window_end\": \"2025-10-04\",\n    \"collected_at\": \"2025-10-04 20:33:14.518281\"\n  },\n  {\n    \"feature\": \"txn_amount\",\n    \"baseline_n\": 1150,\n    \"current_n\": 100,\n    \"psi\": 0.151988,\n    \"ks\": \"{0.14782608695652166}\",\n    \"chi2\": null,\n    \"null_rate_change\": 0.0,\n    \"window_start\": \"2025-09-27\",\n    \"window_end\": \"2025-10-04\",\n    \"collected_at\": \"2025-10-04 20:33:14.518281\"\n  }\n]\n"
     ]
    }
   ],
   "source": [
    "# CELL A5.2 — Convert drift summary to JSON records (with timestamp fix)\n",
    "\n",
    "import json\n",
    "import pandas as pd\n",
    "\n",
    "# Convert Spark DF → Pandas DF\n",
    "latest_drift_pd = latest_drift_df.toPandas()\n",
    "\n",
    "# Convert any datetime/timestamp columns to ISO string\n",
    "for col in latest_drift_pd.select_dtypes(include=['datetime64[ns]', 'datetime64[ns, UTC]']).columns:\n",
    "    latest_drift_pd[col] = latest_drift_pd[col].astype(str)\n",
    "\n",
    "# Now safely convert to dict\n",
    "latest_drift_json = latest_drift_pd.to_dict(orient=\"records\")\n",
    "\n",
    "# Pretty print JSON\n",
    "print(json.dumps(latest_drift_json, indent=2))\n"
   ]
  },
  {
   "cell_type": "code",
   "execution_count": 0,
   "metadata": {
    "application/vnd.databricks.v1+cell": {
     "cellMetadata": {
      "byteLimit": 2048000,
      "rowLimit": 10000
     },
     "inputWidgets": {},
     "nuid": "333b1913-201d-47e7-b2c1-693f340e8b1f",
     "showTitle": false,
     "tableResultSettingsMap": {},
     "title": ""
    }
   },
   "outputs": [
    {
     "output_type": "execute_result",
     "data": {
      "text/plain": [
       "'\\nimport requests, json\\n\\n# Replace with your Splunk HEC endpoint and token\\nSPLUNK_HEC_URL = \"https://splunk.example.com:8088/services/collector\"\\nSPLUNK_HEC_TOKEN = \"Splunk <YOUR_HEC_TOKEN>\"\\n\\nheaders = {\"Authorization\": SPLUNK_HEC_TOKEN, \"Content-Type\": \"application/json\"}\\n\\nfor record in latest_drift_json:\\n    payload = {\\n        \"event\": record,\\n        \"sourcetype\": \"ml_drift_summary\",\\n        \"index\": \"mlops_observability\",\\n        \"time\": record.get(\"window_start\")\\n    }\\n    response = requests.post(SPLUNK_HEC_URL, headers=headers, data=json.dumps(payload))\\n    print(f\"Sent {record[\\'feature\\']} drift -> {response.status_code}\")\\n'"
      ]
     },
     "execution_count": 52,
     "metadata": {},
     "output_type": "execute_result"
    }
   ],
   "source": [
    "# CELL A5.3 — Splunk HTTP Event Collector (HEC) Integration\n",
    "# Note: Uncomment & configure if Splunk endpoint + token are available.\n",
    "\n",
    "\"\"\"\n",
    "import requests, json\n",
    "\n",
    "# Replace with your Splunk HEC endpoint and token\n",
    "SPLUNK_HEC_URL = \"https://splunk.example.com:8088/services/collector\"\n",
    "SPLUNK_HEC_TOKEN = \"Splunk <YOUR_HEC_TOKEN>\"\n",
    "\n",
    "headers = {\"Authorization\": SPLUNK_HEC_TOKEN, \"Content-Type\": \"application/json\"}\n",
    "\n",
    "for record in latest_drift_json:\n",
    "    payload = {\n",
    "        \"event\": record,\n",
    "        \"sourcetype\": \"ml_drift_summary\",\n",
    "        \"index\": \"mlops_observability\",\n",
    "        \"time\": record.get(\"window_start\")\n",
    "    }\n",
    "    response = requests.post(SPLUNK_HEC_URL, headers=headers, data=json.dumps(payload))\n",
    "    print(f\"Sent {record['feature']} drift -> {response.status_code}\")\n",
    "\"\"\"\n"
   ]
  },
  {
   "cell_type": "code",
   "execution_count": 0,
   "metadata": {
    "application/vnd.databricks.v1+cell": {
     "cellMetadata": {
      "byteLimit": 2048000,
      "rowLimit": 10000
     },
     "inputWidgets": {},
     "nuid": "f2a0f5af-76af-4460-b8b5-1203040cb26a",
     "showTitle": false,
     "tableResultSettingsMap": {},
     "title": ""
    }
   },
   "outputs": [
    {
     "output_type": "execute_result",
     "data": {
      "text/plain": [
       "'\\nimport requests, json\\n\\n# Replace with your Splunk HEC endpoint and token\\nSPLUNK_HEC_URL = \"https://splunk.example.com:8088/services/collector\"\\nSPLUNK_HEC_TOKEN = \"Splunk <YOUR_HEC_TOKEN>\"\\n\\nheaders = {\"Authorization\": SPLUNK_HEC_TOKEN, \"Content-Type\": \"application/json\"}\\n\\nfor record in latest_drift_json:\\n    payload = {\\n        \"event\": record,\\n        \"sourcetype\": \"ml_drift_summary\",\\n        \"index\": \"mlops_observability\",\\n        \"time\": record.get(\"window_start\")\\n    }\\n    response = requests.post(SPLUNK_HEC_URL, headers=headers, data=json.dumps(payload))\\n    print(f\"Sent {record[\\'feature\\']} drift -> {response.status_code}\")\\n'"
      ]
     },
     "execution_count": 56,
     "metadata": {},
     "output_type": "execute_result"
    }
   ],
   "source": [
    "# CELL A5.3 — Splunk HTTP Event Collector (HEC) Integration\n",
    "# Note: Uncomment & configure if Splunk endpoint + token are available.\n",
    "\n",
    "\"\"\"\n",
    "import requests, json\n",
    "\n",
    "# Replace with your Splunk HEC endpoint and token\n",
    "SPLUNK_HEC_URL = \"https://splunk.example.com:8088/services/collector\"\n",
    "SPLUNK_HEC_TOKEN = \"Splunk <YOUR_HEC_TOKEN>\"\n",
    "\n",
    "headers = {\"Authorization\": SPLUNK_HEC_TOKEN, \"Content-Type\": \"application/json\"}\n",
    "\n",
    "for record in latest_drift_json:\n",
    "    payload = {\n",
    "        \"event\": record,\n",
    "        \"sourcetype\": \"ml_drift_summary\",\n",
    "        \"index\": \"mlops_observability\",\n",
    "        \"time\": record.get(\"window_start\")\n",
    "    }\n",
    "    response = requests.post(SPLUNK_HEC_URL, headers=headers, data=json.dumps(payload))\n",
    "    print(f\"Sent {record['feature']} drift -> {response.status_code}\")\n",
    "\"\"\"\n"
   ]
  },
  {
   "cell_type": "code",
   "execution_count": 0,
   "metadata": {
    "application/vnd.databricks.v1+cell": {
     "cellMetadata": {
      "byteLimit": 2048000,
      "rowLimit": 10000
     },
     "inputWidgets": {},
     "nuid": "69815713-56cf-4cfd-bd70-18659d4cb81e",
     "showTitle": false,
     "tableResultSettingsMap": {},
     "title": ""
    }
   },
   "outputs": [
    {
     "output_type": "stream",
     "name": "stdout",
     "output_type": "stream",
     "text": [
      "\uD83D\uDCCA Drift Telemetry Summary: {'latest_window': '2025-09-27', 'num_features': 2, 'mean_psi': 0.16641850000000002, 'high_drift_features': 0}\n"
     ]
    }
   ],
   "source": [
    "# CELL A5.4 — Quick summary metadata for dashboard embedding\n",
    "summary = {\n",
    "    \"latest_window\": latest_window,\n",
    "    \"num_features\": latest_drift_df.count(),\n",
    "    \"mean_psi\": latest_drift_df.select(F.mean(\"psi\")).collect()[0][0],\n",
    "    \"high_drift_features\": latest_drift_df.filter(F.col(\"psi\") > 0.25).count()\n",
    "}\n",
    "print(\"\uD83D\uDCCA Drift Telemetry Summary:\", summary)\n"
   ]
  },
  {
   "cell_type": "code",
   "execution_count": 0,
   "metadata": {
    "application/vnd.databricks.v1+cell": {
     "cellMetadata": {
      "byteLimit": 2048000,
      "rowLimit": 10000
     },
     "inputWidgets": {},
     "nuid": "ee531846-30b9-48af-bab2-05c27285dbd7",
     "showTitle": false,
     "tableResultSettingsMap": {},
     "title": ""
    }
   },
   "outputs": [
    {
     "output_type": "stream",
     "name": "stdout",
     "output_type": "stream",
     "text": [
      "A6.1 ✅ Prepared governance payload successfully.\n\nSummary meta: {'latest_window': '2025-09-27', 'num_features': 2, 'mean_psi': 0.16641850000000002, 'high_drift_features': 0}\n\nTop drifts preview (up to 10 rows):\n  {'feature': 'model_score', 'psi': 0.180849, 'baseline_n': 1150, 'current_n': 100, 'null_rate_change': 0.0, 'window_start': '2025-09-27', 'window_end': '2025-10-04'}\n  {'feature': 'txn_amount', 'psi': 0.151988, 'baseline_n': 1150, 'current_n': 100, 'null_rate_change': 0.0, 'window_start': '2025-09-27', 'window_end': '2025-10-04'}\n\nHeatmap preview (up to 10 rows):\n  {'window_start': '2025-09-27', 'feature': 'model_score', 'psi': 0.180849}\n  {'window_start': '2025-09-27', 'feature': 'txn_amount', 'psi': 0.151988}\n"
     ]
    }
   ],
   "source": [
    "# ===========================\n",
    "# A6.1 — Prepare governance payload (serverless-safe)\n",
    "# ===========================\n",
    "from pyspark.sql import functions as F\n",
    "import pandas as pd\n",
    "import traceback, sys\n",
    "\n",
    "# CONFIG: adjust if your table name differs\n",
    "SUMMARY_TABLE = \"ml_drift_summary_v2\"\n",
    "MAX_ROWS_FOR_PANDAS = 10000   # safety limit for converting Spark -> pandas\n",
    "RECENT_WINDOWS = 12           # how many recent windows to include in heatmap export\n",
    "\n",
    "def safe_to_pandas(spark_df, max_rows=MAX_ROWS_FOR_PANDAS):\n",
    "    \"\"\"Convert a small spark DataFrame to pandas safely (with a row cap).\"\"\"\n",
    "    cnt = spark_df.count()\n",
    "    if cnt > max_rows:\n",
    "        raise ValueError(f\"Refusing to convert large DataFrame ({cnt} rows) to pandas. \"\n",
    "                         f\"Set a larger MAX_ROWS_FOR_PANDAS if you know what you're doing.\")\n",
    "    return spark_df.toPandas()\n",
    "\n",
    "try:\n",
    "    # ---- 1) check table exists in current catalog\n",
    "    tables = [t.name for t in spark.catalog.listTables()]\n",
    "    if SUMMARY_TABLE not in tables:\n",
    "        raise FileNotFoundError(f\"Table '{SUMMARY_TABLE}' not found in current workspace/catalog. \"\n",
    "                                f\"Available tables: {tables}\")\n",
    "\n",
    "    # ---- 2) load summary table\n",
    "    df = spark.table(SUMMARY_TABLE)\n",
    "\n",
    "    # ---- 3) quick emptiness check without rdd\n",
    "    if df.limit(1).count() == 0:\n",
    "        raise ValueError(f\"Table '{SUMMARY_TABLE}' exists but is empty.\")\n",
    "\n",
    "    # ---- 4) determine latest window (robust fallbacks)\n",
    "    latest_window = None\n",
    "    if \"window_start\" in df.columns:\n",
    "        latest_row = df.select(F.max(\"window_start\").alias(\"latest_window\")).collect()[0]\n",
    "        latest_window = latest_row[\"latest_window\"]\n",
    "    elif \"collected_at\" in df.columns:\n",
    "        latest_row = df.select(F.max(\"collected_at\").alias(\"latest_window\")).collect()[0]\n",
    "        latest_window = latest_row[\"latest_window\"]\n",
    "    else:\n",
    "        # final fallback: try to find any timestamp-like column to use as window\n",
    "        ts_cols = [c for c, t in df.dtypes if 'timestamp' in t or 'date' in t]\n",
    "        if ts_cols:\n",
    "            latest_row = df.select(F.max(ts_cols[0]).alias(\"latest_window\")).collect()[0]\n",
    "            latest_window = latest_row[\"latest_window\"]\n",
    "\n",
    "    if latest_window is None:\n",
    "        raise ValueError(\"Could not resolve a latest window. Check your table schema for 'window_start' or 'collected_at'.\")\n",
    "\n",
    "    # ---- 5) slice latest window\n",
    "    latest_drift_df = df.filter(F.col(\"window_start\") == latest_window) if \"window_start\" in df.columns else df.filter(F.col(\"collected_at\") == latest_window)\n",
    "\n",
    "    # ---- 6) build summary metadata\n",
    "    mean_psi = None\n",
    "    if \"psi\" in latest_drift_df.columns and latest_drift_df.limit(1).count() > 0:\n",
    "        mean_psi = float(latest_drift_df.select(F.mean(\"psi\")).collect()[0][0])\n",
    "    summary_meta = {\n",
    "        \"latest_window\": str(latest_window),\n",
    "        \"num_features\": int(latest_drift_df.count()),\n",
    "        \"mean_psi\": mean_psi,\n",
    "        \"high_drift_features\": int(latest_drift_df.filter(F.col(\"psi\") > 0.25).count()) if \"psi\" in latest_drift_df.columns else 0\n",
    "    }\n",
    "\n",
    "    # ---- 7) prepare top_drifts (safe, small)\n",
    "    want_cols = [\"feature\",\"psi\",\"baseline_n\",\"current_n\",\"null_rate_change\",\"window_start\",\"window_end\"]\n",
    "    exist_cols = [c for c in want_cols if c in latest_drift_df.columns]\n",
    "    top_sdf = latest_drift_df.select(*exist_cols).orderBy(F.desc(\"psi\")) if \"psi\" in latest_drift_df.columns else latest_drift_df.select(*exist_cols)\n",
    "    top_sdf = top_sdf.limit(50)\n",
    "    top_pd = safe_to_pandas(top_sdf)\n",
    "    # convert pandas datetime columns to strings\n",
    "    for c in top_pd.select_dtypes(include=['datetime64[ns]', 'datetime64[ns, UTC]']).columns:\n",
    "        top_pd[c] = top_pd[c].astype(str)\n",
    "    top_drifts = top_pd.to_dict(orient=\"records\")\n",
    "\n",
    "    # ---- 8) prepare heatmap rows (recent windows only)\n",
    "    heatmap_rows = []\n",
    "    if \"window_start\" in df.columns:\n",
    "        distinct_windows = [r[0] for r in df.select(\"window_start\").distinct().orderBy(F.desc(\"window_start\")).limit(RECENT_WINDOWS).collect()]\n",
    "        heatmap_sdf = df.filter(F.col(\"window_start\").isin(distinct_windows)).select(\"window_start\",\"feature\",\"psi\").orderBy(\"window_start\",\"feature\")\n",
    "        heatmap_pd = safe_to_pandas(heatmap_sdf)\n",
    "        for c in heatmap_pd.select_dtypes(include=['datetime64[ns]', 'datetime64[ns, UTC]']).columns:\n",
    "            heatmap_pd[c] = heatmap_pd[c].astype(str)\n",
    "        heatmap_rows = heatmap_pd.to_dict(orient=\"records\")\n",
    "\n",
    "    # ---- 9) final payload preview\n",
    "    governance_payload = {\n",
    "        \"summary_meta\": summary_meta,\n",
    "        \"top_drifts_count\": len(top_drifts),\n",
    "        \"top_drifts_preview\": top_drifts[:10],\n",
    "        \"heatmap_rows_count\": len(heatmap_rows),\n",
    "        \"heatmap_rows_preview\": heatmap_rows[:10]\n",
    "    }\n",
    "\n",
    "    print(\"A6.1 ✅ Prepared governance payload successfully.\\n\")\n",
    "    print(\"Summary meta:\", governance_payload[\"summary_meta\"])\n",
    "    print(\"\\nTop drifts preview (up to 10 rows):\")\n",
    "    if governance_payload[\"top_drifts_preview\"]:\n",
    "        for r in governance_payload[\"top_drifts_preview\"]:\n",
    "            print(\" \", r)\n",
    "    else:\n",
    "        print(\"  (no top drifts)\")\n",
    "\n",
    "    print(\"\\nHeatmap preview (up to 10 rows):\")\n",
    "    if governance_payload[\"heatmap_rows_preview\"]:\n",
    "        for r in governance_payload[\"heatmap_rows_preview\"]:\n",
    "            print(\" \", r)\n",
    "    else:\n",
    "        print(\"  (no heatmap rows)\")\n",
    "\n",
    "except Exception as e:\n",
    "    print(\"A6.1 ❌ Failed to prepare governance payload.\")\n",
    "    traceback.print_exc(file=sys.stdout)\n",
    "    raise\n"
   ]
  },
  {
   "cell_type": "code",
   "execution_count": 0,
   "metadata": {
    "application/vnd.databricks.v1+cell": {
     "cellMetadata": {
      "byteLimit": 2048000,
      "rowLimit": 10000
     },
     "inputWidgets": {},
     "nuid": "55ce3957-b0f0-4bfe-86f4-9208ab8ac1aa",
     "showTitle": false,
     "tableResultSettingsMap": {},
     "title": ""
    }
   },
   "outputs": [
    {
     "output_type": "display_data",
     "data": {
      "text/html": [
       "<div style='font-family: system-ui, sans-serif; padding:8px'><a download=\"drift_governance_dashboard.json\" href=\"data:application/json;base64,ewogICJkYXNoYm9hcmRfdGl0bGUiOiAiTUwgRHJpZnQgR292ZXJuYW5jZSBTdW1tYXJ5IiwKICAiZGVzY3JpcHRpb24iOiAiR292ZXJuYW5jZSBzbmFwc2hvdCBmb3IgbW9kZWwgZHJpZnQgKFBTSS9LUykuIEdlbmVyYXRlZCBieSBTcGFya19EcmlmdF9QbGF5Ym9va1YxLjAiLAogICJzdW1tYXJ5Ijoge30sCiAgInRvcF9kcmlmdHMiOiBbXSwKICAiaGVhdG1hcF9yb3dzIjogW10sCiAgIm5vdGVzIjogewogICAgImRlc2NyaXB0aW9uIjogIldlZWtseSBkcmlmdCBkYXNoYm9hcmQgZm9yIG1vbml0b3JpbmcgUFNJICYgS1Mgc3RhYmlsaXR5LiIsCiAgICAibmV4dF9zdGVwcyI6ICJTZXQgdXAgU3BsdW5rIEhFQyAvIERhdGFicmlja3MgU1FMIGFsZXJ0cyBmb3IgcHNpID4gMC4yNSIKICB9Cn0=\">⬇️ Download dashboard JSON (click)</a></div>"
      ],
      "text/plain": [
       "<IPython.core.display.HTML object>"
      ]
     },
     "metadata": {},
     "output_type": "display_data"
    },
    {
     "output_type": "stream",
     "name": "stdout",
     "output_type": "stream",
     "text": [
      "\nPreview (first 1000 chars):\n\n{\n  \"dashboard_title\": \"ML Drift Governance Summary\",\n  \"description\": \"Governance snapshot for model drift (PSI/KS). Generated by Spark_Drift_PlaybookV1.0\",\n  \"summary\": {},\n  \"top_drifts\": [],\n  \"heatmap_rows\": [],\n  \"notes\": {\n    \"description\": \"Weekly drift dashboard for monitoring PSI & KS stability.\",\n    \"next_steps\": \"Set up Splunk HEC / Databricks SQL alerts for psi > 0.25\"\n  }\n}\n\nIf the download link does not work in your browser, copy the JSON below to a local file named 'drift_governance_dashboard.json':\n\n{\n  \"dashboard_title\": \"ML Drift Governance Summary\",\n  \"description\": \"Governance snapshot for model drift (PSI/KS). Generated by Spark_Drift_PlaybookV1.0\",\n  \"summary\": {},\n  \"top_drifts\": [],\n  \"heatmap_rows\": [],\n  \"notes\": {\n    \"description\": \"Weekly drift dashboard for monitoring PSI & KS stability.\",\n    \"next_steps\": \"Set up Splunk HEC / Databricks SQL alerts for psi > 0.25\"\n  }\n}\n"
     ]
    }
   ],
   "source": [
    "# A6.2 (FALLBACK) — produce a downloadable JSON link (works even when DBFS/FileStore is disabled)\n",
    "import json, base64, html, sys, traceback\n",
    "from IPython.display import HTML, display\n",
    "\n",
    "try:\n",
    "    # Build dashboard JSON (reuse A6.1 variables if available)\n",
    "    dashboard = {\n",
    "        \"dashboard_title\": \"ML Drift Governance Summary\",\n",
    "        \"description\": \"Governance snapshot for model drift (PSI/KS). Generated by Spark_Drift_PlaybookV1.0\",\n",
    "        \"summary\": globals().get(\"summary_meta\", {}),\n",
    "        \"top_drifts\": globals().get(\"top_drifts\", []),\n",
    "        \"heatmap_rows\": globals().get(\"heatmap_rows\", []),\n",
    "        \"notes\": {\n",
    "            \"description\": \"Weekly drift dashboard for monitoring PSI & KS stability.\",\n",
    "            \"next_steps\": \"Set up Splunk HEC / Databricks SQL alerts for psi > 0.25\"\n",
    "        }\n",
    "    }\n",
    "\n",
    "    json_txt = json.dumps(dashboard, indent=2, default=str)\n",
    "    b64 = base64.b64encode(json_txt.encode()).decode()\n",
    "\n",
    "    # Safe filename\n",
    "    filename = \"drift_governance_dashboard.json\"\n",
    "\n",
    "    # Build data URI / HTML link\n",
    "    href = f'data:application/json;base64,{b64}'\n",
    "    html_link = f'<a download=\"{html.escape(filename)}\" href=\"{href}\">⬇️ Download dashboard JSON (click)</a>'\n",
    "\n",
    "    # Show link and a preview\n",
    "    display(HTML(f\"<div style='font-family: system-ui, sans-serif; padding:8px'>{html_link}</div>\"))\n",
    "    print(\"\\nPreview (first 1000 chars):\\n\")\n",
    "    print(json_txt[:1000] + (\"\\n\\n... (truncated)\" if len(json_txt) > 1000 else \"\"))\n",
    "\n",
    "    # Extra helpful output (copy paste fallback)\n",
    "    print(\"\\nIf the download link does not work in your browser, copy the JSON below to a local file named 'drift_governance_dashboard.json':\\n\")\n",
    "    print(json_txt)\n",
    "\n",
    "except Exception:\n",
    "    print(\"A6.2 ❌ Failed to generate download link. Showing full JSON as fallback.\")\n",
    "    traceback.print_exc(file=sys.stdout)\n",
    "    try:\n",
    "        print(\"\\nFull JSON:\\n\")\n",
    "        print(json_txt)\n",
    "    except Exception:\n",
    "        pass\n"
   ]
  },
  {
   "cell_type": "code",
   "execution_count": 0,
   "metadata": {
    "application/vnd.databricks.v1+cell": {
     "cellMetadata": {
      "byteLimit": 2048000,
      "rowLimit": 10000
     },
     "inputWidgets": {},
     "nuid": "7280e010-c6bf-40cc-a3ad-a336ea218a33",
     "showTitle": false,
     "tableResultSettingsMap": {},
     "title": ""
    }
   },
   "outputs": [],
   "source": [
    "# --- UTILS (run once) For LinkedIn Article---\n",
    "import json, base64, io, sys, traceback\n",
    "from IPython.display import HTML, display\n",
    "import pandas as pd\n",
    "import matplotlib.pyplot as plt\n",
    "import numpy as np\n",
    "\n",
    "# create a downloadable data-uri link for bytes\n",
    "def make_data_uri_download(bytes_data, filename, mime=\"application/octet-stream\"):\n",
    "    b64 = base64.b64encode(bytes_data).decode()\n",
    "    href = f\"data:{mime};base64,{b64}\"\n",
    "    html = f'<a download=\"{filename}\" href=\"{href}\">⬇️ Download {filename}</a>'\n",
    "    display(HTML(html))\n",
    "\n",
    "# safe conversion Spark->pandas with cap\n",
    "def spark_to_pandas_safe(sdf, max_rows=10000):\n",
    "    cnt = sdf.count()\n",
    "    if cnt > max_rows:\n",
    "        raise ValueError(f\"DataFrame too large ({cnt} rows). Increase limit or sample.\")\n",
    "    return sdf.toPandas()\n"
   ]
  },
  {
   "cell_type": "code",
   "execution_count": 0,
   "metadata": {
    "application/vnd.databricks.v1+cell": {
     "cellMetadata": {
      "byteLimit": 2048000,
      "rowLimit": 10000
     },
     "inputWidgets": {},
     "nuid": "1865a1c2-14c6-49c2-8e2c-3e15f6b0f17f",
     "showTitle": false,
     "tableResultSettingsMap": {},
     "title": ""
    }
   },
   "outputs": [
    {
     "output_type": "display_data",
     "data": {
      "text/html": [
       "<a download=\"psi_summary.csv\" href=\"data:text/csv;base64,ZmVhdHVyZSxiYXNlbGluZV9uLGN1cnJlbnRfbixwc2ksa3MsY2hpMixudWxsX3JhdGVfY2hhbmdlLHdpbmRvd19zdGFydCx3aW5kb3dfZW5kLGNvbGxlY3RlZF9hdAptb2RlbF9zY29yZSwxMTUwLDEwMCwwLjE4MDg0OSx7MC4xMDMwNDM0NzgyNjA4Njk1N30sLDAuMCwyMDI1LTA5LTI3LDIwMjUtMTAtMDQsMjAyNS0xMC0wNCAyMDozMzoxNC41MTgyODEKdHhuX2Ftb3VudCwxMTUwLDEwMCwwLjE1MTk4OCx7MC4xNDc4MjYwODY5NTY1MjE2Nn0sLDAuMCwyMDI1LTA5LTI3LDIwMjUtMTAtMDQsMjAyNS0xMC0wNCAyMDozMzoxNC41MTgyODEK\">⬇️ Download psi_summary.csv</a>"
      ],
      "text/plain": [
       "<IPython.core.display.HTML object>"
      ]
     },
     "metadata": {},
     "output_type": "display_data"
    },
    {
     "output_type": "display_data",
     "data": {
      "text/html": [
       "<a download=\"psi_summary_table.png\" href=\"data:image/png;base64,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\">⬇️ Download psi_summary_table.png</a>"
      ],
      "text/plain": [
       "<IPython.core.display.HTML object>"
      ]
     },
     "metadata": {},
     "output_type": "display_data"
    },
    {
     "output_type": "stream",
     "name": "stdout",
     "output_type": "stream",
     "text": [
      "Saved psi_summary.csv and psi_summary_table.png (download links above).\n"
     ]
    }
   ],
   "source": [
    "# === ARTIFACT 1: PSI summary CSV + PNG ===\n",
    "from pyspark.sql import functions as F\n",
    "summary_table = \"ml_drift_summary_v2\"   # change if different\n",
    "sdf = spark.table(summary_table).orderBy(F.desc(\"collected_at\"), \"feature\")\n",
    "\n",
    "# limit rows for article (e.g., last 50)\n",
    "sdf_small = sdf.limit(200)\n",
    "pdf = spark_to_pandas_safe(sdf_small)\n",
    "\n",
    "# 1a) CSV bytes and download link\n",
    "csv_bytes = pdf.to_csv(index=False).encode()\n",
    "make_data_uri_download(csv_bytes, \"psi_summary.csv\", mime=\"text/csv\")\n",
    "\n",
    "# 1b) Render as image (matplotlib table)\n",
    "fig, ax = plt.subplots(figsize=(10, min(0.4*len(pdf)+1.5, 12)))\n",
    "ax.axis('off')\n",
    "table = ax.table(cellText=pdf.values, colLabels=pdf.columns, cellLoc='center', loc='center')\n",
    "table.auto_set_font_size(False)\n",
    "table.set_fontsize(8)\n",
    "table.scale(1, 1.2)\n",
    "plt.tight_layout()\n",
    "buf = io.BytesIO()\n",
    "plt.savefig(buf, format='png', bbox_inches='tight', dpi=150)\n",
    "buf.seek(0)\n",
    "img_bytes = buf.read()\n",
    "make_data_uri_download(img_bytes, \"psi_summary_table.png\", mime=\"image/png\")\n",
    "plt.close(fig)\n",
    "print(\"Saved psi_summary.csv and psi_summary_table.png (download links above).\")\n"
   ]
  },
  {
   "cell_type": "code",
   "execution_count": 0,
   "metadata": {
    "application/vnd.databricks.v1+cell": {
     "cellMetadata": {
      "byteLimit": 2048000,
      "rowLimit": 10000
     },
     "inputWidgets": {},
     "nuid": "c150cc82-091d-4e0f-ab06-0674e4c59953",
     "showTitle": false,
     "tableResultSettingsMap": {},
     "title": ""
    }
   },
   "outputs": [
    {
     "output_type": "display_data",
     "data": {
      "text/html": [
       "<a download=\"psi_timeseries.png\" href=\"data:image/png;base64,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\">⬇️ Download psi_timeseries.png</a>"
      ],
      "text/plain": [
       "<IPython.core.display.HTML object>"
      ]
     },
     "metadata": {},
     "output_type": "display_data"
    },
    {
     "output_type": "stream",
     "name": "stdout",
     "output_type": "stream",
     "text": [
      "Downloaded psi_timeseries.png\n"
     ]
    }
   ],
   "source": [
    "# === ARTIFACT 2: PSI timeseries PNG ===\n",
    "sql = f\"\"\"\n",
    "SELECT window_start, feature, AVG(psi) as mean_psi\n",
    "FROM ml_drift_summary_v2\n",
    "WHERE psi IS NOT NULL\n",
    "GROUP BY window_start, feature\n",
    "ORDER BY window_start\n",
    "\"\"\"\n",
    "pdf = spark.sql(sql).toPandas()\n",
    "if pdf.empty:\n",
    "    print(\"No PSI rows found. Run A3/A6 steps first.\")\n",
    "else:\n",
    "    pdf['window_start'] = pd.to_datetime(pdf['window_start'])\n",
    "    pivot = pdf.pivot(index='window_start', columns='feature', values='mean_psi').sort_index()\n",
    "    fig, ax = plt.subplots(figsize=(10,4))\n",
    "    for col in pivot.columns:\n",
    "        ax.plot(pivot.index, pivot[col], marker='o', label=col)\n",
    "    ax.set_xlabel('Window Start')\n",
    "    ax.set_ylabel('Mean PSI')\n",
    "    ax.set_title('Mean PSI by Feature Over Time')\n",
    "    ax.legend(title='feature')\n",
    "    ax.grid(True)\n",
    "    plt.tight_layout()\n",
    "    buf = io.BytesIO()\n",
    "    plt.savefig(buf, format='png', bbox_inches='tight', dpi=150)\n",
    "    buf.seek(0)\n",
    "    make_data_uri_download(buf.read(), \"psi_timeseries.png\", mime=\"image/png\")\n",
    "    plt.close(fig)\n",
    "    print(\"Downloaded psi_timeseries.png\")\n"
   ]
  },
  {
   "cell_type": "code",
   "execution_count": 0,
   "metadata": {
    "application/vnd.databricks.v1+cell": {
     "cellMetadata": {
      "byteLimit": 2048000,
      "rowLimit": 10000
     },
     "inputWidgets": {},
     "nuid": "dcf88b04-84f9-4211-8522-0b723ebc2805",
     "showTitle": false,
     "tableResultSettingsMap": {},
     "title": ""
    }
   },
   "outputs": [
    {
     "output_type": "display_data",
     "data": {
      "text/html": [
       "<a download=\"psi_heatmap.png\" href=\"data:image/png;base64,iVBORw0KGgoAAAANSUhEUgAAA3EAAAJHCAYAAAA+IN9IAAAAOXRFWHRTb2Z0d2FyZQBNYXRwbG90bGliIHZlcnNpb24zLjguNCwgaHR0cHM6Ly9tYXRwbG90bGliLm9yZy8fJSN1AAAACXBIWXMAABcSAAAXEgFnn9JSAACFR0lEQVR4nOzdd3xUxf7/8femNwgtlBAILRAI0qUISJOiSFEEFRQR8ac0UWygSFEsWOgqKvVKUQgEaV4UpEOCgPQmSBI6hF4S0s7vD767N2s2EMgm2U1ez/vYxw1z5szM2RLz2c+cGZNhGIYAAAAAAE7BJbcHAAAAAADIPII4AAAAAHAiBHEAAAAA4EQI4gAAAADAiRDEAQAAAIATIYgDAAAAACdCEAcAAAAAToQgDgAAAACcCEEcAAAAADgRgjgAAAAAcCIEcQAAAADgRAjiAAAAAMCJEMQBAAAAgBMhiAMAAAAAJ0IQBwCwq9WrV8tkMunRRx/N7aEgn2vevLlMJpNGjhyZK/2XK1dOJpNJM2fOzJX+M+unn36SyWTS888/n9tDAZBJBHGAExg5cqRMJlO6h5eXl4KCgtSxY0fNnz9fhmFk2MZvv/2m7t27q1KlSvL19ZW3t7fKlSunhg0bql+/fpo3b57Onz9/x77vh/nczPwR1atXL5lMJpUrV+6++souM2fO1MiRI7V27drcHorDS01N1ZtvvilJGjVqVLrjGb2XbT0cwciRIzVy5EhFR0fn9lDylMmTJ8tkMsnFxcXm7x2zIUOGZOp3yJkzZyz1vvvuu2wYcd7WrVs3VatWTXPmzNGOHTtyezgAMsEttwcA4N6UKFHC8vOVK1d08uRJnTx5UkuXLtXMmTMVEREhT09PS51bt27p+eef14IFCyxlLi4uKlSokE6dOqWYmBhFRUXp22+/1YgRI3LtG2tHNnPmTK1bt07S7W/2kbFZs2Zp165dat++verXr3/Humnfy47KHIg2b97c4b5ccGYtWrSQJBmGoXXr1umpp56yWW/NmjWWn+/0JUraei1btrT8XLZsWVWpUkXFihXL4ojzNhcXF33wwQd69tln9dZbb+mPP/7I7SEBuAsycYCTOXPmjOVx48YN7d27V61bt5Yk/frrrxo2bJhV/bffftsSwPXu3Vs7d+7UrVu3dOHCBSUkJOjgwYOaNGmSmjRp4jDZDzivzz//XJLUt2/fu9ZN+1629UDeFRYWpuLFi0vKODi7du2aduzYIT8/P/n5+SkyMlIJCQk265rbKF26tEJCQizl//nPf3Tw4EENGDDAruPPi5566ikVK1ZMa9as0bZt23J7OADugiAOcGIuLi4KCwvTkiVLVKlSJUnSd999p+TkZEm3/wj6/vvvJUmvvPKKpk2bppo1a8rNzc1yfpUqVTRgwABt2LBB77zzTu5cCPKEtWvX6uDBgwoICFDbtm1zezi4DxcvXlT37t0VFxd317pJSUl66aWXtGfPnvvqy5zVTptFS2vjxo1KTk5W48aN9dBDD+nWrVvasmWLzbrmNswZPtw7Nzc3Pf3005LElFTACRDEAXmAl5eXunbtKul24Hbw4EFJ0sGDB3Xr1i1JUqdOne7ajre3d/YN0k4SExP1zTffqEWLFipWrJg8PDxUsmRJderUSb/++muG5x07dkxjxoxRu3btVLlyZfn6+srPz0/VqlXT66+/rtjY2HTnzJw5UyaTyTKVctSoUenu20p7r5S5bO3atbpw4YIGDx6sihUrytvbW8HBwRowYIDV/T8xMTHq27evypcvLy8vL5UtW1Zvvvmmrl27ZvMabt68qXnz5qlnz56qVauWAgIC5OnpqcDAQHXu3PmO12++FvOUwN9//12PPvqoAgIC5O3trbCwMI0ePTrDTEdm/PDDD5Kkrl27Wr4osKfz589r2LBhql27tvz9/eXl5aUKFSropZde0r59+zI8LzIyUu+++66aNm2q4OBgeXl5qVChQmrYsKHGjBmj69evpzvHfH+mWYsWLaxe97RTK//93NoSHR1t8z1j6/w1a9aoc+fOKlWqlFxdXdWrVy+r+teuXdNnn32mRo0aqUiRIvL09FSZMmX0zDPPZBjkZFbv3r01b948tWrV6o6BXFJSkp5++mlNnz5dHTp0UGJi4j33ZQ649u/fb/O+OHN2rXnz5mrWrJlVWVqnTp3S33//bdWm2Z0WNkm76EhiYqK++OIL1axZU76+vvL391fLli313//+947XEB8fr9GjR6tatWry9vZW8eLF9dhjj2n16tV3u3xJUkJCgsaPH6+HHnpIhQsXlpeXl4KDg9WzZ0/t3LkzXf2UlBQVKlRIJpNJy5YtS3d83rx5lvfZW2+9le746dOnLcePHj2a7nj37t0t7dj6XABwIAYAhzdixAhDknGnj+zXX39tqbNp0ybDMAxj69atlrLvv/8+2/q+E/O5I0aMuGvdF154wZBkBAcH2zweHR1thIWFWdo0mUyGv7+/5d+SjFdffdXmuc2aNbPU8fDwMIoWLWq4uLhYyvz9/Y0NGzZYnfPTTz8ZJUqUMNzd3Q1Jhq+vr1GiRAmrR2xsbLprnTVrlhEUFGQ5x8PDw3KsatWqxqVLl4ytW7caRYsWNSQZBQsWNNzc3Cx1GjdubCQnJ6e7hhkzZqS7dh8fH6vrf/PNN21ev/nc4OBg4+uvvzZMJpMhyShUqJBV37Vr1zYuXrx419fq31JTUy3XM2/evAzr3e/76ffffzcKFSpkOdfd3d3w9fW1ek1nzZpl89y0z4+Pj49RuHBhq7Jq1aoZZ8+etTrntddeM0qUKGGpU7hwYavXvV69epa6aZ/bjBw7dszS1rFjx6yOpT1//PjxltfG39/fcHd3N1544QVL3b/++svy3pJkuLq6GgUKFLB6X3zyySf39NymdeTIEUv7NWrUMOLi4tLVSUxMNJ544glDkuHl5WX89ttv99XXwYMHLeOeP39+uuP169c3JBmbN282Nm7caEgyHn744XT15syZY2nnn3/+sTpm/tzb+v0THBxsSDImTZpkNGjQwPK+8vPzs3o+p02bZnP8Fy5cMGrXrm2p6+bmZnmPmkwm45tvvrH0MWPGjHTnnzhxwqhevbrVezrt7zMXFxdj4sSJ6c7r0KGDIcl444030h3r06eP1Wf532bPnm1IMsqWLWvzmhITEw0vLy9DkrFixQqbdQA4BoI4wAlk5g/ft99+21LnwIEDhmEYxs2bNy1/5JcuXdrYunVrtvR9J/YK4q5fv26EhoYakozmzZsba9euNRISEgzDMIzLly8bY8eOtfzxNX78+HTnDxo0yPj666+Nw4cPGykpKYZhGEZSUpIRFRVltGvXzpBkBAYGGjdv3kx37p3+ELR1rYUKFTJq1aplREZGGoZx+w+jefPmWV6LAQMGGMHBwUbLli2NvXv3GoZhGPHx8cakSZMMV1dXQ5Lxww8/pGt/8eLFxltvvWVs3LjRuHHjhqX81KlTxqhRoyzB5i+//JLuXHOg4OPjY7i7uxtdu3a1BKA3b940vv32W8PT09OQZDzxxBN3vE5b9u7da7n+o0ePZljvft5Pu3fvNry9vQ1Jxssvv2zs37/fEuTGxMQY/fr1s/wR/eeff6Y7v0OHDsbPP/9snD592lJ28+ZNY9GiRUaVKlXueM3msa5ZsybD8dkriPPy8jJcXV2NXr16WV6b5ORk48iRI4Zh3H6dixcvbkgynnzySWPbtm1GYmKiYRiGcfbsWeODDz6wBOQREREZjuVu7hTI2SuAMytVqpQhyejbt69V+dWrVw03NzfD19fXSEpKMm7dumV4e3sbnp6e6T6j5sDF1vOfmSCucOHCRunSpY3Fixdbns+DBw8aDRs2NCQZfn5+xuXLl9Odb34ePD09jSlTphjx8fGGYdz+sumJJ54w3N3dLZ/5fwdxycnJlsDR39/fmD17tnHr1i3DMAzj6NGjxuOPP24JBv8dTI0dO9aQZNSsWTPdmCpWrGj5YsjFxcW4cOGC1fGXXnrJkGT1xcC/PfTQQ4Yk4913382wDoDcRxAHOIG7/eF75coVIzAw0JBkFClSxBKkGIZhfPzxx1ZZh9DQUOOll14yvv32W2Pbtm1GUlJSlvq+G/O5trJY/36YvwG29cfYhx9+aEgymjVrZvlD698WLVpkSDKKFSt21+tKKzk52ahRo4Yhyfjxxx/THb/XIK5EiRI2MxgffPCBpU5YWJglCE3r+eefNyQZrVq1yvT4zb744osMz02bxWvWrJnVe8Rs6tSpljr3GvBPmzbNkGQUKFDgjvXSvp/u9F4wB7eGYRgtW7Y0JBlDhw7NsN3XXnvNkGR06tTpnsZ94sQJw9PT0zCZTEZMTEy64zkZxJmDs4z07t3bkGR07949wzp3+gP/Xvz9999G6dKlLW3FxcWlC+BWrlyZpT4MwzC6d+9uSLcz1GmtWLHCkGS0bt3aUmZ+H6xevdqqbqVKlQxJRq9evdK1n5kgztPT0/LFV1rnzp2z/E6aPXu21bGoqCjLa2YrU5ecnGw0adLEUuffQdxPP/1kOWbreUxKSrIEedWrV7c6tnPnTkuAl/b3TExMjCHJqFixouV5XbhwodW55cuXNyQZM2fOTNenWf/+/Q3JdtYTgOPgnjjAiV2+fFmrV69Wy5YtderUKUnSoEGD5OLyv4/2e++9p4kTJ6pIkSKSbt8nN23aNPXt21f16tVTsWLF1KdPH/3zzz/ZOtYbN27o7Nmzd3zc6X6sadOmSZIGDx4sd3d3m3U6d+6sggULKi4uTtu3b8/02FxdXdWuXTtJtxdTyKqXX35ZRYsWTVeedrGPwYMHW20F8e86u3fvvud+27dvL0nasmWLUlJSMqw3bNgwq/eI2YsvvqigoCBJtzf/vRfm99+9LOV+p/dCUlKSpNv3kv3xxx9yc3OzeY+PWc+ePSVJq1atuuO1/1vp0qVVs2ZNGYahzZs3Z/q87DJ06FCb5QkJCZo7d64k6d13383wfPPzsGvXLp09e/a+x1GpUiWtWbNGgYGB2rVrl1q1aqWuXbsqIiJCXl5e+uWXX9SmTZv7bt/MfA/bgQMHrMZrXqgk7ZYe5vvi0i6EcuLECR05csSqrXv11FNPKTQ0NF15QECAGjVqJCn959H8+ShTpoxefPHFdOe6urrqgw8+yLDPn3/+WZLUqFEjm8+jm5ubRowYIUnau3ev1eIxNWrUUNGiRWUYhtVzYf65ZcuWlm0W0m4VEBMTo2PHjkm683Nl/gybP9MAHBNBHOBk0i6uULhwYT3yyCOWgOW5557T+++/n+6cgQMH6sSJEwoPD1f//v314IMPWhYxuXLliqZNm6YHHnjA5o3y9jJixAgZt7P/GT5eeOEFm+eePHlSMTExkqSXXnpJJUuWtPkoVaqU5WZ8c/20NmzYoF69eik0NFR+fn5Wz6V5afwTJ05k+Voz2h8t7b5oDz744B3rXLp0yebxs2fPasSIEWrUqJGKFi0qNzc3yzVUq1ZN0u0FUDI6383NTU2bNrV5zMXFxfJH870uMW5emML8ZUFm3Om9UKtWLUnSpk2bJN3eRLxatWoZvvbmIPzGjRu6cOGCVT+pqamaO3euOnbsqLJly8rb29vqtd+6dask+7z2WeHt7a06derYPLZ9+3bLlxxt2rTJ8HkICwuznGPrM3AvQkJCrAK5X375RV5eXlq8eLFdAjjJOkhLu2iJ+Wdz4Jb2Z1v1pPsP4ho0aJDhscDAQEm3V+1My/z5MC+cYsvDDz+c4QI/5vMfeeSRDPtu0aKFXF1drepLt/8bYH7e0gZp5p9btmxpeS5sHa9QoYLKli2bYb/mz/CdNmEHkPvY7BtwMmkDAU9PTxUrVky1a9dWjx497vhHjLe3t7p06aIuXbpIkpKTk7V161Z9//33mjVrlm7evKlnnnlGR44cUcmSJbP9Ou5F2m+EM7P0uXQ7kEnr3XfftQRq0u1vygsXLiwPDw9J0vXr13Xjxg3duHEjy+MtUKCAzfK0f9DdrY55m4i0tmzZoscee0yXL1+2lPn5+cnHx0cmk0kpKSmW5+fGjRs2s2LFihWzmQE0K126tCTp3LlzGdaxxRxg3Knt+2F+7VNTUzOdWUr72t+8eVOPP/64VcbCw8NDRYoUsWR0L168qKSkJLu89llRtGhRmxlSyfozcD/Pw/0qX768atasaem/TJkyGQaa96NSpUoKCgrSiRMntHbtWj399NOW/eF8fHysvhBp0KCBPD09tXXrVsXHx8vb29sSxFWqVEllypS5rzFk9FmU/vd5NGeGzcyfD/PnxRYvLy8VLVrU5uuV2fOLFSums2fPpvs8tmjRQgsXLrQK0tJm4ooXL67g4GAdOHBAZ86cUcmSJTO9DYP5C76srFQLIPuRiQOcTNrNkGNiYrR9+3ZNnTr1nr+FdnNz00MPPaSZM2dq+PDhkm7/4X+v0+hyQtrpcQcOHLhrRs8wDKtl2X///XdLANevXz/t2bNHt27d0sWLFy3P5RtvvCHpdnbIESUnJ+vZZ5/V5cuXVatWLa1YsUJXr17VtWvXdPbsWZ05c0aRkZGW+jl9HebpoxllAO+X+bUvUaJEpl53wzCslvr/+OOPtWbNGnl7e2vcuHGKiYlRQkKCLly4YHntzZmY3H7tzVkXW9J+BuLj4zP1PKTNct0P8zYCv/76q3x8fFSqVCn9/fffatWqlV2zNObfXeYgY8OGDUpJSVGjRo2spk57eXmpQYMGSkxMtGRo8+v+cObpkocOHdKpU6d05MgRHT9+3GoT9X9Pqczsc2XOOtqaEg7AcRDEAdArr7xi+fnQoUO5OBLb0mYG72eKmDkwbdu2rb7++mtVr1493R/MZ86cydogs9mWLVsUExMjV1dXLVu2TI8++mi6DEJmriEuLu6Oe3qdPHlSkix/CGZWQECApPTTzrLK/NrHxcXdV6bM/NoPHz5cr7/+usqWLZtu+ltWX3tztuZOmYsrV65kqY+sfgbuVXJysp555hlFRETIx8dHS5cu1fr16xUUFKQ9e/bYNZAzBxWHDh3SmTNnrPaH+7e0UyqPHz9uuZc3p4M48+fD/Hmx5datW+mm9v77/DtN4TV/2ZC2vlnVqlUt74k//vjDaiqlWdoplYcPH7b0lbaOLebPsPkzDcAxEcQBkJ+fn+Vne0+Hs4dy5cpZph0tXbr0ns8/fvy4JKl27do2jxuGYTUt6d/MU9xyM1NjvoaAgIAMp2CtWrXqru0kJydrw4YNNo8ZhmHZ2LxevXr3ND7z/Xjnz5+36ybBjRs3lnQ7E3WnzcwzcrfXPjo62rIwhi3mgO9Or33hwoUl3Z4id+vWLZt1oqKiMjXejDz44IOWqb/38xm4F8nJyXr66ae1aNEieXt7a+nSpWrZsqVlsRN7B3JpA7A1a9bYvB/OLO3iJmmnyGY163ivzJ+PdevWZfjeWL9+vc1p0WnPv9Om4GvXrrWcb+se2rT3xaWdSmmWNhNnPl6lShWVKlUqwz4lWRY/qVq16h3rAchdBHFAHpbZVRpnzZpl+dme97vY08svvyzp9iqVf/311x3r/jsb5O/vL+n2in22TJky5Y6rcxYsWFCSrO5Fy2nmazCv3vhvJ06c0MSJEzPV1scff6zU1NR05bNmzbIEPU8//fQ9je+hhx6Sq6urUlNT73lRlDsJCQmx/LH6/vvv3zWjda+v/ZAhQ+7YXmZe+5o1a0q6HehFRESkOx4fH69x48bdsZ+78fX1Vffu3SVJY8aMUWxs7B3r329G1JyB+3cAZ5YdgVy5cuUsU2CXLl2qHTt2yNvb2+aCI+Ypln/++adWrFghSQoNDb1rYGJv5s9HbGys1e9Ps9TUVI0ePTrD85955hlJtzPsv/32W7rjycnJ+vDDDyVJ1atXV/Xq1dPVSRukrV271mphIun2/XYhISE6duyYZsyYISlzGUvzFw62gmgAjoMgDsjDzpw5o3r16qlZs2aaMmWKDh06ZPnWOCUlRYcOHdIbb7xhuR8sODjYsvCJo3nzzTf1wAMPKCEhQS1atNDkyZOtpipdvnxZv/76q3r27Jlu9UXzyoW//vqrPvroI8u0vMuXL+uTTz7RwIED73j/h/kPqBUrVtxx+lR2atKkiXx9fWUYhrp166bDhw9Luv06rly58o6r5KXl4+OjjRs3qnv37pbpVQkJCfr+++/Vt29fSVKnTp0yXGEzIwUKFFDdunUlZT3r9G+TJk2Sn5+fDh8+rIYNG+qXX36xmrp48uRJ/fjjj2rVqlW65ffNr/3o0aO1aNEiS2bj2LFj6t69u+bPn2/JpNlifu3nzJmT4UIhQUFBatKkiaTbW0ek3eZg+/bteuSRR+55oRhbPvnkEwUGBiouLk6NGjXSjz/+qGvXrlmOnz9/XgsXLtQTTzyhZ5999r766NOnjxYuXGgJ4Fq1apWuzr8DuUceeeSOU3QzwxxczJ8/XykpKWrYsKEl85iWj4+PHnzwQSUlJSk8PNzq3JzUoEEDdezYUZLUt29f/fDDD5YsbGxsrJ5++mlt2bJFPj4+Ns/v0qWLJUjt1q2b5s6da1k85dixY+rSpYu2bNkiSVYLMqVlvu6YmBidOXNGtWvXVqFChazqmAM982fybs/VmTNnLF8QEMQBDs5+W84ByC73u+H2gQMHDJPJZLXZt5ubm1GkSBHD1dXVqrxChQrGvn377Na3mfncu22UbRiG8cILL9xx0+STJ08aDRs2tLRpMpmMQoUKGQULFrS6lkqVKlmdl5iYaDRt2tTqvMKFCxsuLi6GJKN9+/bGsGHDLBth/9vhw4ctm/66uLgYJUqUMIKDg43g4GDj+PHj6a41o42h77Ths9maNWsyfL6//fZbq+v08/OzjKtYsWLGkiVL7rqhdHBwsDF58mTL+6Jw4cKGu7u75Tzzxs73Y9y4cYYk46GHHsqwzv2+nzZu3GiULFnScq6rq6tRtGhRw9vb2+o56dOnj9V50dHRRokSJaze//7+/pZ/f/LJJ3fcEPrHH3+01HV3dzdKly5tBAcHG40bN7aq99dff1m9D728vAxfX19D/7ep+fLlyzP12tzN/v37jcqVK1vacnFxMYoUKWLpy/x45JFH7un5NVuzZo1RpEgR4/fff79r3b///tsICgoyJk2adF99pfWf//zHavyjRo3KsO7QoUOt6s6fPz/DupnZ7PvfG3GnZf6d9MILL6Q7FhcXZ9SsWdPq/VGoUCHL75ivv/76jn2cOHHCCAsLs5zv4eFhOd/82k6YMCHDsRmGYZQpU8ZS/+233053PO2m4pKMs2fP3rG97777zpBk1KpV6471AOQ+MnFAHhYaGqrjx4/ru+++03PPPacaNWrI19dXV65ckaenp8qVK6eOHTtq6tSp2r9/v+W+JkcVGBiojRs3at68eerYsaNKlSqlmzdvKjExUeXKlVOHDh00fvx4rV+/3uo8d3d3/fbbbxoxYoQqV64sd3d3GYah+vXr69tvv9WSJUvuuDKgeb+sjh07KiAgQBcuXFBMTIxiYmIyvOclO7z66qtavny5mjdvLj8/PyUnJ6t06dIaOHCgdu3apQceeCBT7fTv318rV65Uu3bt5OLiIhcXF4WGhurDDz/Uli1b7ntVuhdeeEFeXl7avHmz5b4ae2ncuLEOHz6sL7/8Ug8//LAKFSqky5cvy9XVVVWrVtVzzz2nOXPmaPz48VbnBQcHa9u2bXrppZcse355eXnp8ccf18qVKzPcXNvsueee048//qgmTZrIx8dHp0+fVkxMTLoFKWrVqqWoqCg988wzKl68uFJTU1WsWDH1799fO3futNtnq2rVqtq9e7e+++47tWnTRsWKFdPVq1dlGIYqVaqkrl276vvvv9f8+fPvq/3mzZsrOjr6jvuXmVWqVEn79+/XgAED7quvtP6dIbpTFijtsbR7puW0okWLavPmzRo1apRCQ0Pl4uIiNzc3tWvXTr///rv69et3x/NLly6tbdu2aezYsWrYsKG8vb118+ZNlSlTRs8//7y2b9+u11577Y5tpH3ebC1Y0qJFC0uGPu3KlRmZM2eOJOvFrgA4JpNhOOh62gAAu5k5c6ZefPFFBQcHKzo6Otv66d27t2bMmKFRo0ZZtq4A4Piio6NVoUIFFShQQCdOnLjj/nkAch+ZOACA3QwfPlyenp6aPHlyrm+eDSDzxowZI8MwNHToUAI4wAkQxAEA7KZcuXIaOHCgzp8/r6+//jq3hwMgE44fP67p06erbNmyev3113N7OAAywS23BwAAyFvef/99+fn5ydfXN7eHAiATYmJiNHToULVo0UJeXl65PRwAmUAmDgBgV4UKFdKIESPUv3//3B4KgExo0qSJRo4cybYCyBbx8fEaPny4KleuLC8vLwUGBqp37973tGVPcnKyRo4cqfbt21vu3fTy8lJISIj69eunmJiYDM9NSUnRuHHj9MADD8jb21sBAQHq1q2bDhw4YI/LyzUsbAIAAADA7sx7u0ZGRqpUqVJq2rSpoqOjtXXrVgUEBCgyMlIVKlS4azvXr19XgQIF5Ofnpxo1aigwMFCJiYnauXOnYmNjVbBgQa1evVr16tWzOi81NVVPPfWUIiIiVKhQIbVq1UpxcXFav369vL29tWbNmnveF9VREMQBAAAAsLthw4bp448/VqNGjfTbb7/Jz89PkjR27Fi9+eabatasmdauXXvXdpKTkxUVFaUGDRrIze1/d4OlpKRo2LBh+uyzz1S3bl1t27bN6rypU6fq5ZdfVkhIiDZs2KASJUpIkhYuXKinnnpKlSpV0oEDB6zadBYEcQAAAADsKjExUcWLF9eVK1e0Y8cO1a5d2+p4zZo1tXv3bm3btk1169a9736Sk5NVoEABJSQk6PLly/L397ccq1atmg4cOKCIiAh17tzZ6rxOnTppyZIlCg8PV5cuXe67/9zCPXEAAAAA7GrTpk26cuWKKlasmC6Ak6SnnnpKkrR06dIs9WMymeTq6iqTySQPDw9L+bFjx3TgwAF5e3urffv22dZ/biGIAwAAAGBXu3btkiTVqVPH5nFz+e7du++7D8MwNGbMGN24cUMtWrSQt7d3uv6rV68ud3f3bOk/NznfBFAAAAAADi02NlaSFBQUZPO4ufxOK0va8u677+rs2bO6evWqdu/eraNHj6pq1aqaOnVqjvTvKAjikKtKliypGzduqGzZsrk9FAAAgEyLjY2Vr6+vzpw5k9tDUceOHXX06FG7thkbG5vh32f79u276/nXr1+XJPn4+Ng8bt5L9Nq1a/c0roULF1pda40aNTR79myVL18+R/p3FARxyFU3btzQ9YR4/X31fG4PBQAAINOSEuJzewgWR48e1ZEjB1SpXPppg/fjSHSSTCaPu1fMBUeOHJEkxcXFafv27Xr//fdVt25d/fDDD3rhhRdyeXQ5hyAOuaps2bL6++p5lf3ytdweCgAAQKbFvjVRZQsG5PYwLCqVc9eedcF2aeuBZjGSW8VMZdwyYt5O4ObNmzaP37hxQ5JUoECB+2q/WLFiatu2rRo2bKgHHnhAffv2VcuWLVWmTJkc6T+3sbAJAAAA4PQMpdrpf1LWdyAzT8U8ceKEzePm8uDgrAWe/v7+6tChg+Lj4/X777/neP+5hUwcAAAA4OQMSSlGqt3aMmWxjZo1a0qSduzYYfO4ubxGjRpZ7Ol2Vk6Szp//3+055v737t2rpKSkdCtU2rP/3EAmDgAAAIBdNW7cWP7+/jp69Kh27tyZ7nh4eLgkqUOHDlnua926dZKkihUrWsrKly+vqlWrKj4+XsuXL8/W/nMDQRwAAACQB6TKsMvDHjw8PDRgwABJUv/+/S33oEnS2LFjtXv3bjVr1kx169a1lE+ePFmhoaEaOnSoVVvLly/X5s2b0/Vx8+ZNvf/++1q3bp1Kliypdu3aWR0fPHiwJOmdd97RuXPnLOWLFi3SkiVLVKlSJXXq1CnrF5sLmE4JAAAAwO6GDRumVatWafPmzQoJCVHTpk0VExOjqKgoBQQEaPr06Vb14+LidOjQIZ0+fdqq/M8//9SoUaNUunRp1apVS/7+/jpz5ox27typixcvyt/fX/Pnz7csZmLWu3dvrVixQhEREQoNDVWrVq0UFxendevWydvbW7Nnz5abm3OGQ2TiAAAAACdnSHZb2MQ+uTjJy8tLa9as0QcffCAfHx8tXrxYMTEx6tWrl3bs2KEKFSpkqp0nn3xSgwcPVmBgoP7880/Nnz9ff/75p4KDgzV06FAdOHBATZs2TXeei4uLFixYoK+++kqBgYFatmyZ9uzZoy5dumjbtm1q0KCBna4055kMw7DX6wTcs7CwMLYYAAAATif2rYkKKRiQpWX47SUsLEypyYcVtaaUXdpr0OK0XNwqO8S1wTYycQAAAADgRJxzEigAAAAAK/abCAlHRxAHAAAAODlDUoqdgjhCQcfHdEoAAAAAcCJk4gAAAIA8gOmU+QeZOAAAAABwImTiAAAAACdnSEqx085h5PMcH0EcAAAAkAek5vYAkGOYTgkAAAAAToRMHAAAAODk2GIgfyGIAwAAAPKAFKKvfIPplAAAAADgRMjEAQAAAHkAC5vkH2TiAAAAAMCJkIkDAAAAnNzthU1MdmsLjo0gDgAAAHB2hpRqr+iLKM7hMZ0SAAAAAJwImTgAAADAyTGdMn8hiAMAAADyAHsFcXB8TKcEAAAAACdCJg4AAABwcoakVIPplPkFmTgAAAAAcCJk4gAAAIA8gHvi8g+COAAAAMDJGTIpxU6T7AyCQYfHdEoAAAAAcCJk4gAAAIA8wF4Lm8DxEcQBAAAATo7NvvMXplMCAAAAgBMhEwcAAADkASkG+Zn8giAOAAAAcHompdptkh331jk6wnUAAAAAcCJk4gAAAAAnx8Im+QuZOAAAAABwImTiAAAAgDyAhU3yD4I4AAAAwMkZklKZTplvEK4DAAAAgBMhEwcAAAA4PZNS2GIg3yCIAwAAAJycIfvdE8d0SsfHdEoAAAAAcCJk4gAAAIA8IJX8TL7BKw0AAAAAToRMHAAAAODkDMOkFMNOWwzYqR1kH4I4AAAAIA+w3+qUcHS80gAAAADgRMjEAQAAAHlAqp22GIDjI4gDAAAAnJxhx82+DTb7dniE6wAAAADgRMjEAQAAAHmAvVanhOMjEwcAAAAAToRMHAAAAODkDEmpdrsnDo6OIA4AAADIA1JYnTLf4JUGAAAAkC3i4+M1fPhwVa5cWV5eXgoMDFTv3r118uTJTLdx+fJlzZ07V88++6zKly8vDw8PFShQQA0aNNCECROUlJRk87xevXrJZDJl+JgyZYq9LjPHkYkDAAAAnJwhk1LttDWAvbYYSEhIUMuWLRUZGalSpUqpU6dOio6O1owZM7Rs2TJFRkaqQoUKd23nyy+/1McffyyTyaRatWqpQYMGOn/+vDZt2qStW7cqPDxcK1eulI+Pj83z27Ztq5IlS6Yrr1KlSpavMbcQxAEAAAB5gKNNpxw9erQiIyPVqFEj/fbbb/Lz85MkjR07Vm+++aZ69+6ttWvX3rUdX19fvfPOO+rfv7/Kli1rKf/777/1yCOPaOPGjRo9erQ++eQTm+cPGTJEzZs3t8clOQzHeqUBAAAAOL3ExERNnjxZkvT1119bAjhJGjx4sGrUqKF169Zp+/btd21r6NChGjNmjFUAJ0khISH67LPPJEnz5s2z4+gdH0EcAAAA4OQMSSlyscvDHqtTbtq0SVeuXFHFihVVu3btdMefeuopSdLSpUuz1E/NmjUlSadOncpSO86G6ZQAAAAA7GrXrl2SpDp16tg8bi7fvXt3lvr5559/JMnmPW9mixYt0sKFC5WSkqLy5curQ4cOCg0NzVK/uY0gDgAAAHB2hpRq2GdBEnuk4mJjYyVJQUFBNo+by2NiYrLUz4QJEyRJnTp1yrDOpEmTrP797rvvqm/fvpowYYLc3JwzHHLOUQMAAABIw6QUu90pZdLRo0cVFhZm8+i+ffvu2sL169clKcMVI319fSVJ165du88xSlOmTNGqVatUqFAhDRkyJN3x2rVrq1GjRmrZsqWCgoJ05swZ/frrrxo2bJi++eYbeXh4aNy4cffdf27injgAAAAATmXDhg0aNGiQTCaTpk+frsDAwHR1Bg0apFdeeUUhISHy9vZW+fLl1a9fP23YsEEeHh6aPHmyjh8/ngujzzoycQAAAICTMySl2mmLAUNSxYoVM5Vxy4h5NcqbN2/aPH7jxg1JUoECBe657b1796pTp05KTEzUxIkT9cQTT9zT+WFhYerYsaPCw8O1evVq9erV657HkNsI4gAAAIA8IMVOm3Tbg3k7gBMnTtg8bi4PDg6+p3aPHTumNm3a6NKlSxo5cqQGDhx4X+MLCQmRJJ0+ffq+zs9tTKcEAAAAYFfmpf937Nhh87i5vEaNGplu8/Tp02rdurVOnz6tQYMGacSIEfc9vkuXLkn63715zoYgDgAAAHByhkxKNVzs8jDskNFr3Lix/P39dfToUe3cuTPd8fDwcElShw4dMtXepUuX1LZtWx09elQvvvhilhYkuXXrlpYvXy4p4y0QHB1BHAAAAJAHpMhkl4c9eHh4aMCAAZKk/v37W+6Bk6SxY8dq9+7datasmerWrWspnzx5skJDQzV06FCrtm7evKn27dtrz5496tatm3744QeZTHce58GDB/Xjjz/q1q1bVuXnz5/XM888o+PHj6tmzZpq3LhxVi81V3BPHAAAAAC7GzZsmFatWqXNmzcrJCRETZs2VUxMjKKiohQQEKDp06db1Y+Li9OhQ4fS3af2/vvva8uWLXJ1dZWbm5teeuklm/3NnDnT8vOZM2fUs2dPDRo0SPXq1VNAQIBOnTql7du369q1awoKCtL8+fPvGgw6KoI4AAAAIA+w1+qU9uLl5aU1a9bo008/1dy5c7V48WIVKVJEvXr10kcffZThRuD/Zr5/LSUlRXPnzs2wXtogrnLlynr99dcVGRmpPXv26MKFC/L09FTlypXVoUMHDRo0SIULF87S9eUmk2EYdtiTHbg/YWFh+vvqeZX98rXcHgoAAECmxb41USEFA7K0DL+9hIWFKe5WrF77pZld2pvYaZ2KeZZ1iGuDbWTiAAAAACdnSEqx4z5xcGwEcQAAAIDTMynVbvvEOed9YvmJY02cBQAAAADcEZk4AAAAwMkxnTJ/IYgDAAAAnJ0hpRp2mgZJFOfwmE4JAAAAAE6ETBwAAADg5AxJKXbKz5CIc3xk4gAAAADAiZCJAwAAAJyeyX73xLHFgMMjiAMAAADygFQm2eUbvNIAAAAA4ETIxAEAAABO7vY+cfaZBsnCJo6PIA4AAADIA+x3TxwcHdMpAQAAAMCJkIkDAAAAnJ5JqYa98jNk9BwdmTgAAAAAcCJk4gAAAAAnZ0hKsVMGjYVNHF++COJGjhypUaNGacaMGerVq1eW2ipXrpxiYmJkGLy9ASC7ebi4alD1Zupc7gH5u3vp4JVzGrdnrTadPXbH88oXKKLuFeuqZtFAhRUuJU9XNzVbOkknb16x2UfvKg3UOfgBlfYtpCuJ8frrwglN3Ltef1+Ny6YrAwD7Y2GT/IPplAAAhzWmfkf1rtJAS2L26qO/flOqkaqpDz+jusXK3PG82kWD1DPkQfm6eeroXQKxsQ07a1D1Zoo6H6OP/lqpn47+pQcDymrBIy8q0MffnpcDAIBd5ItMHADA+dQoEqgOwWH6dOcqTTsUKUmKiN6tX9u9ondrtlS31bMyPHf1qcOqE/GlbiQn6qUqDVWtcEmb9Up4F1C7MlX1w8EtGrNrtaV8W1ysZrd4Xm2DqmjG4a32vTAAyAaGIbstbMKEM8dHJg4A4JDaBYUqOTVVPx/dYSlLTE3RgmM7VadYGZXyLpjhuVcSE3QjOfGuffi6eUiS4hJuWJWfi78uSUpISb6foQNArkiVyS4POD67BHHR0dEymUxq3ry5bty4ocGDB6tMmTLy9vZWnTp1tHTpUkvdBQsWqEGDBvL19VWJEiX02muvKT4+Pl2bx48f1yuvvKLg4GB5enqqePHievLJJ/Xnn39mOI4lS5aoUaNG8vHxUdGiRdWlSxcdPnz4jmO/efOmPv30U9WuXVt+fn7y8/NTw4YNNWtWxt/wZkViYqK++eYbPfjggypatKh8fHxUrlw5Pf744/rpp5/S1U9KStKUKVPUpEkTFSpUSN7e3qpUqZJefPFFbd++PV39FStWqHXr1ipcuLC8vLxUpUoVDRkyRJcvX05Xd+TIkTKZTJo5c6a2bt2qxx9/XEWLFpXJZNLOnTst9aKiotS1a1eVKlVKHh4eCgoKUp8+fRQbG2vPpwYArFQrXFLR1y7o+r+CsV0XTkmSqhYukeU+Yq9f0umbV/VSlQZqGRiikt4FVKNIoD6q95hir1/Ssth9We4DAAB7s+t0ysTERLVq1UrHjh3Tww8/rLi4OK1fv15PPPGE/vvf/2rPnj1655131KxZM7Vt21br16/XpEmTdOHCBc2ZM8fSzp49e9SyZUvFxcWpSpUqevLJJxUbG6uIiAgtXbpUc+fOVdeuXa36njJlivr27SuTyaSmTZuqVKlSioyMVP369dWhQweb4z137pxat26t3bt3q2TJkmrWrJkMw9DmzZvVq1cvbdu2TZMmTbLnU6QePXooPDxcBQoUUNOmTVWwYEGdPHlSGzdu1PXr1/XMM89Y6t64cUOPPfaY1q9fL19fX0sgFx0drTlz5sjf319169a11P/000/13nvvyc3NTc2aNVOxYsW0adMmjRkzRhEREVq/fr1KlEj/R8/69ev1//7f/1PlypXVpk0bnTp1Si4ut+P7b775RgMHDpQkPfjgg2ratKkOHTqkadOmacmSJVq3bp2qVq1q1+cIACSpuLefziVcT1d+/v/KinsXyHIfyUaq+m8K17iGnfV906ct5XsunlK31TN1LelWlvsAgJxhUordFjYhG+fo7BrEbdmyRS1bttQ///wjX19fSdLMmTP14osvqm/fvrpw4YK2bNmievXqSZJOnTql2rVra+7cufroo49UoUIFGYahHj16KC4uTu+8844+++wzmUy330gLFy5Ut27d1Lt3bzVp0kSlSpWSJMXExOiNN96Qu7u7li5dqrZt20q6ncV68cUXNXv2bJvjffHFF7V7924NGjRIY8aMkaenpyTp7NmzevzxxzV58mS1b99e7dq1s8vzc+zYMYWHhys4OFjbt29X0aJFLccSEhL0119/WdUfNGiQ1q9fr4cffljh4eEKCAiwHDt79qyio6Mt//7zzz81bNgw+fn5adWqVWrQoIEk6datW3r++ee1YMEC9e/fX+Hh4enGNWPGDI0ZM0bvvPOOVXlkZKRee+01lSpVSr/88otVwDht2jT16dNHL774oiIjI7P0vACALV6u7kpMSUlXfuv/pjh6udrnP2FXEuN14PJZ/Xr8gHZeOKngAoX1StXGmvRQF72wdo4SU9OPAQCA3GTXe+JcXFz07bffWgI4SerZs6eKFSumI0eOqH///pYATpICAwPVo0cPSbezQZK0du1a7dmzR2XLltXo0aMtAZwkdenSRZ07d9b169c1ffp0S/n06dOVkJCgZ5991hLASZK7u7smTJggHx+fdGPduXOnVqxYoQcffFBjx461BHCSVKJECX3//feSpG+//TarT4vF+fPnJUm1a9e2CuAkycvLS40aNbL8+9SpU5o5c6Y8PT31n//8xyqAM4/RHKhJ0uTJk5WamqqBAwdalXt6emry5Mny9vZWRESEjh8/nm5cDzzwgN5+++105Z999plSUlI0ZcoUqwBOkl566SV17NhRUVFR6YJPW8LCwmw+jh49etdzAeRPCSlJ8nB1TVfu+X/Bmz3uV/Nz99RPLV/QXxdO6Ms9a7Tq1GFNOxSlAZvC9WBAWT1VvmaW+wCAnGDo9sIm9niwronjs2sQV65cOVWuXNm6AxcXBQcHS5LatGmT7pwKFSpIkk6fPi1J2rBhgySpW7ducnd3T1f/+eeft6qX9ue0UxHNihYtarPf3377TZLUuXNny9TBtMz3yG3dar9VyUJDQ+Xr66vly5friy++0KlTpzKsu3btWqWkpKhdu3aW5+9OzM+BOShOq3jx4mrTpo1SU1O1adOmdMcff/xxq2BZklJTU7V69Wr5+PhYBcZpNW3aVJLs+hwBgNm5+Osq7uWXrjzg/8rOxV/Lch/tgkIV4O2nVSet75/eej5W1xIT7rqVAQA4klTDZJcHHJ9dg7jSpUvbLPfz88vwuPnYrVu37zswBzblypWz2Za5/OTJk5Yy8zkZBTu22jJPRXz//fdlMplsPq5fv664OPtt9FqwYEH98MMP8vT01DvvvKPSpUurSpUqevXVV9MFV+aMWcWKFTPV9v08b2Zly5ZNVxYXF6fr16/r5s2b8vDwsPn8mLN3mXmO9u3bZ/OR2esDkP8cuHxW5QoUld//rSBpVqvo7f+WHLh0Nst9FPO6PXPE1ZT+P4cuJhe52viSDwCA3GbXe+JsZbTu5Xhm/DtjdL9SU1MlSU2aNMnRQOLZZ5/VI488ol9++UW//fab1q1bp++++07fffedBg8erK+++ipb+r3T8+bl5ZWuzPz8+Pn5qUuXLndsOywsLGuDAwAb/nv8gF4ObaSnK9ax7BPn4eKqLuVraueFEzodf1WSVMqnoLxd3fXPtQv33MexaxclSY+XDdPEfest5Y8EVpavu4f2XzpjhysBgJzB9gD5h8Nt9h0YGCjp9mIltpgzaGmzeqVKldKhQ4cUExOjatWqpTvHVltBQUGSbk+nfPPNN7M67HsSEBCgPn36qE+fPjIMQytXrtTTTz+tsWPHqnfv3goLC1OZMren8GT2nrHAwEAdO3Ysw+fA1vN2J8WKFZOXl5dcXFw0Y8YMuwXPAJBZuy6e0orY/XqrRgsV9fRRzPVLerJ8DZX29dfQP5dZ6n3ZoJMaFA9WpZ9HW8r83D3VM+RBSVLdYrd/3z8fUk9Xk27pWmKCfjyyTZL0x6nDOnzlnAaENVWgr//thU38Cuv5SvV0Nv6aFvyzM+cuGACy4PY9cfb5e4174hyfw80TMd9ntWDBAqXYWJXMvNKkuV7an+fPn5+u/sWLFy33v6XVunVrSVJERETWB50FJpNJ7dq1U/v27SXdnnYoSc2bN5erq6tWrlxpczGSfzM/B/PmzUt37Pz581q5cqVMJpMaN26cqXG5ubmpefPmunr1qlavXp3ZywEAu3or6hfNPLxVncs9oOF12srN5KL/t+Fn/Xn+zvtU+rt7afADzTX4geZqVqqSJKlPaCMNfqC5XgptaKmXlJqqZ1b/RzMPR6lO0SB9ULuNupSrod9PHtbTq2fpUmL6fUwBAMhtDhfENW/eXA888ICio6M1fPhwGcb/vguIiIjQokWL5Ofnp969e1vKX3zxRXl6emrOnDlatWqVpTwpKUlvvPGGbty4ka6fBg0aqHXr1tq0aZP69++vq1evpquza9cu/fe//7Xbtf31119atGiREhOtN669ePGioqKiJMmSgQsMDFTPnj2VkJCgF154QRcuWE8TOnfunOUcSerfv79cXFw0ceJEbdu2zVKemJiogQMHKj4+Xk8++aSl/cx4//335eLiohdffFFr165Nd9y8SqitzdoBwB4SU1M0ZtdqPbRkgsLCP1OXVTO04cw/VnV6rPnRKgsnSSdvXlGln0fbfDRfNtmq7tWkBH2yc5Xa/PqtwsI/U/1fxumNyAiduHE5uy8PAOzIZLfVKdknzvE53HRKk8mkOXPmqEWLFvrkk08UERGhWrVqKTY2Vps2bZKbm5umTZtm2SNOksqXL6+vvvpKAwYMUNu2bfXwww+rZMmSioyM1KVLl9SjRw+rzcTNZs+erXbt2umbb77R3LlzVatWLQUGBurKlSvavXu3jh8/rkGDBtltn7iYmBh16dJF/v7+qlevnkqWLKnLly9r/fr1unbtmjp06GC1zcCECRN06NAhrVmzRsHBwXr44YdVsGBBxcTEaMeOHerbt69lO4H69evro48+0vvvv69GjRqpefPmls2+jx8/rpCQEH399df3NN4mTZro66+/1oABA9SiRQtVr15dlStXlru7u6Kjo7Vz507dunVLTz75pLy9ve3yHAEAAOA+GPabTsl8SsfncJk46fa+ZTt27NDLL7+s69evKzw8XIcOHVLnzp21adMmdevWLd05/fv3V0REhB588EFFRUVp5cqVqlmzpiIjI1WpUiWb/RQvXlybN2/WxIkTVa1aNf31118KDw/X7t27VaFCBX3xxRd666237HZdDRs21OjRo1W3bl0dOnRICxYs0LZt21SjRg1Nnz5dCxcutKpfoEABrVmzRhMmTFBYWJg2bNigJUuW6Pz58+rRo4d69uxpVf+9997TsmXL1KxZM/35559atGiRZSXMqKgolShR4p7H/Oqrr2rbtm164YUXdO3aNS1btkwrV67U9evX1aNHDy1btkz+/v5Zel4AAAAAZJ7JSDtfEchhYWFh+vvqeZX98rXcHgoAAECmxb41USEFAyzrGeSmsLAwHb95Wq3npN8z+X783uMnlfEp5RDXBtscMhMHAAAAALDN4e6JAwAAAHDv7HZPHBweQVwWHDx4UJ999lmm6jZp0kR9+vTJ5hEBAAAgvyKIyz8I4rLgzJkzmjVrVqbrE8QBAAAAyCqCuCxo3ry5WBcGAAAAuc2QyW6ZOIN94hweQRwAAACQBzCdMv9gdUoAAAAAcCJk4gAAAIA8IJVpkPkGmTgAAAAAcCJk4gAAAAAnZ8h+98SxbJ/jI4gDAAAAnJ1hx4VNiOIcHtMpAQAAAMCJkIkDAAAA8gC2GMg/COIAAAAAJ8dm3/kL0ykBAAAAwImQiQMAAADyAIPplPkGmTgAAAAAcCIEcQAAAEAekCqTXR72FB8fr+HDh6ty5cry8vJSYGCgevfurZMnT2a6jcuXL2vu3Ll69tlnVb58eXl4eKhAgQJq0KCBJkyYoKSkpAzPTUlJ0bhx4/TAAw/I29tbAQEB6tatmw4cOGCPy8s1TKcEAAAAnJwjbvadkJCgli1bKjIyUqVKlVKnTp0UHR2tGTNmaNmyZYqMjFSFChXu2s6XX36pjz/+WCaTSbVq1VKDBg10/vx5bdq0SVu3blV4eLhWrlwpHx8fq/NSU1PVtWtXRUREqFChQmrfvr3i4uIUHh6u5cuXa82aNapfv76drjZnkYkDAAAAYHejR49WZGSkGjVqpMOHD+vnn39WVFSUvvrqK50/f169e/fOVDu+vr565513FB0drR07duinn37S6tWrtWfPHpUtW1YbN27U6NGj0503ffp0RUREKCQkRAcPHlR4eLjWrl2rBQsW6ObNm+rRo4eSk5Ptfdk5giAOAAAAyAMMw2SXhz0kJiZq8uTJkqSvv/5afn5+lmODBw9WjRo1tG7dOm3fvv2ubQ0dOlRjxoxR2bJlrcpDQkL02WefSZLmzZuX7ryxY8dKkj7//HOVKFHCUt6lSxd17NhRR44c0S+//HLvF+cACOIAAAAAZ2fcnk5pj4c95lNu2rRJV65cUcWKFVW7du10x5966ilJ0tKlS7PUT82aNSVJp06dsio/duyYDhw4IG9vb7Vv3z7b+s8tBHEAAAAA7GrXrl2SpDp16tg8bi7fvXt3lvr5559/JEklS5a02X/16tXl7u6ebf3nFhY2AQAAAJye/aZCyg4rVMbGxkqSgoKCbB43l8fExGSpnwkTJkiSOnXqlCv95xaCOAAAAABWjh49qrCwMJvH9u3bd9fzr1+/LknpVow08/X1lSRdu3btPkcoTZkyRatWrVKhQoU0ZMiQHO8/NxHEAQAAAE7OEbcYyE4bNmzQoEGDZDKZNH36dAUGBub2kHIUQRwAAACQBxh2jL4qVqyYqYxbRsyrUd68edPm8Rs3bkiSChQocM9t7927V506dVJiYqImTpyoJ554Ikf7dwQsbAIAAADArszbAZw4ccLmcXN5cHDwPbV77NgxtWnTRpcuXdLIkSM1cODAHO3fUZCJAwAAAPKAVDssSGIv5qX/d+zYYfO4ubxGjRqZbvP06dNq3bq1Tp8+rUGDBmnEiBF37X/v3r1KSkpKt0Ll/fTvSMjEAQAAAHmAI2323bhxY/n7++vo0aPauXNnuuPh4eGSpA4dOmSqvUuXLqlt27Y6evSoXnzxRY0bN+6O9cuXL6+qVasqPj5ey5cvz3L/joYgDgAAAIBdeXh4aMCAAZKk/v37W+5Bk6SxY8dq9+7datasmerWrWspnzx5skJDQzV06FCrtm7evKn27dtrz5496tatm3744QeZTHcPNgcPHixJeuedd3Tu3DlL+aJFi7RkyRJVqlQp3dYEzoLplAAAAICTc8TVKYcNG6ZVq1Zp8+bNCgkJUdOmTRUTE6OoqCgFBARo+vTpVvXj4uJ06NAhnT592qr8/fff15YtW+Tq6io3Nze99NJLNvubOXOm1b979+6tFStWKCIiQqGhoWrVqpXi4uK0bt06eXt7a/bs2XJzc85wyDlHDQAAAOB/DDuuTmmndry8vLRmzRp9+umnmjt3rhYvXqwiRYqoV69e+uijjzLciPvfLl26JElKSUnR3LlzM6z37yDOxcVFCxYs0IQJEzR9+nQtW7ZMvr6+6tKli0aNGqVq1ard97XlNpNh2HMxUuDehIWF6e+r51X2y9dyeygAAACZFvvWRIUUDMjSMvz2EhYWpqPXzqnKN6/apb1D/aaoYoHiDnFtsI1MHAAAAJAH2GtREjg+FjYBAAAAACdCJg4AAABwevbbHkAOtN8cbCOIAwAAAPIAe61OCcfHdEoAAAAAcCJk4gAAAAAnZ8h+WwywdL3jI4gDAAAA8gBWp8w/mE4JAAAAAE6ETBwAAADg7Aw7ZuKYT+nwyMQBAAAAgBMhEwcAAADkASTQ8g+COAAAACAPYGGT/IPplAAAAADgRMjEAQAAAHkB8ynzDYI4AAAAIA9gOmX+wXRKAAAAAHAiZOIAAAAAJ2dIMuw0nZJZmY6PTBwAAAAAOBEycQAAAIDTM9nxnjjurXN0BHEAAACAszMk2SuIYz6lw2M6JQAAAAA4ETJxAAAAQB5gr4VN4PgI4gAAAIC8gCAu32A6JQAAAAA4ETJxAAAAQB5gv9Up4ejIxAEAAACAEyETBwAAAOQF3BOXbxDEAQAAAHkA0ynzD6ZTAgAAAIATIRMHAAAAODtD9ptOybRMh0cQBwAAAOQJTKfML5hOCQAAAABOhEwcAAAAkBcwDTLfIIgDAAAA8gKCuHyD6ZQAAAAA4ETIxAEAAAB5AfvE5Rtk4gAAAADAiZCJAwAAAPIAg3vi8g2COAAAACAvIIjLN5hOCQAAAABOhEwcAAAA4OwMk/0WNmGBFIdHEAcAAADkASamU+YbTKcEAAAAACdCJg4AAADIC8jE5Rtk4gAAAADAiZCJAwAAAPICFiTJNwjiAAAAgLyA6ZT5BtMpAQAAAMCJkIkDAAAA8gIycfkGmTgAAADA2Rl2fsAmFxcXubm56fDhw5IkV1fXTD/c3OyXPyMTBwAAAACZULZsWZlMJrm7u0uSypQpI5Mp5xeUIYgDAAAA8gIHXJ0yPj5en376qX766SfFxsaqSJEiateunT766COVLl060+2sW7dOa9eu1datW7V161bFxcUpODhY0dHRGZ7Tq1cvzZo1K8Pj3377rV599dV7uZx0/d2p/+xEEAcAAADA7hISEtSyZUtFRkaqVKlS6tSpk6KjozVjxgwtW7ZMkZGRqlChQqbaGjRokHbt2nVf42jbtq1KliyZrrxKlSr31Z4jIIgDAAAA8gCTg93LNnr0aEVGRqpRo0b67bff5OfnJ0kaO3as3nzzTfXu3Vtr167NVFtt2rRR165d9eCDDyooKEhhYWGZHseQIUPUvHnz+7iCrIuLi1OhQoXsej+cxMImAAAAQN7gQIuaJCYmavLkyZKkr7/+2hLASdLgwYNVo0YNrVu3Ttu3b89Ue59//rnef/99tWnTRkWKFLHPIO1g27Zt+vDDD7V//36r8oiICJUsWVIlSpRQ0aJFNWHCBLv2SxAHAAAAwK42bdqkK1euqGLFiqpdu3a640899ZQkaenSpTk9NLuaNGmSPvnkE5UoUcJSduzYMT3zzDM6d+6cSpYsqRs3bmjw4MGZzjpmBkEcAAAAALsy379Wp04dm8fN5bt37872sSxatEgDBw5Uv3799MUXX+jgwYN2azsyMlK1a9dW0aJFLWXTp09XUlKSvvzyS508eVJRUVFycXGxazaOe+IAAACAPMCR7omLjY2VJAUFBdk8bi6PiYnJ9rFMmjTJ6t/vvvuu+vbtqwkTJmT5XrWzZ8+qVq1aVmW///67fH19NWDAAElS3bp11bRp0/temMUWgjgAAAAAVo4ePZrh4iH79u276/nXr1+XJPn4+Ng87uvrK0m6du3afY7w7mrXrq1GjRqpZcuWCgoK0pkzZ/Trr79q2LBh+uabb+Th4aFx48ZlqY+UlBQlJydb/n39+nXt2LFDLVu2lIeHh6U8MDBQkZGRWeorLYI45L5kF6Wc9c7tUQAAAGResgPeleSA+8TlpkGDBln9u3z58urXr5+aNWumOnXqaPLkyRo8eLDKlClz332ULVvWanGW5cuXKzk5WY888ohVvatXr8rf3/+++/k3B3z3AQAAAMhNFStW1L59+2w+MsO8GuXNmzdtHr9x44YkqUCBAvYZ8D0ICwtTx44dlZycrNWrV2eprQ4dOig2NlZPPvmkJk2apLfeeksuLi7q1KmTVb2//vpLwcHBWeorLYI4AAAAwNnZa3sBO20zULZsWUnSiRMnbB43l9szsLkXISEhkqTTp09nqZ233npL5cqV0+LFizVo0CCdPHlSgwYNsrQvSVFRUTp58qQefvjhLPWVFtMpAQAAgLzAgRY2qVmzpiRpx44dNo+by2vUqJFjY0rr0qVLkv53b979KlasmHbv3q3w8HCdP39edevWVcuWLa3qnDlzRoMGDdJzzz2Xpb7SIogDAAAAYFeNGzeWv7+/jh49qp07d6ZbwTE8PFzS7emIOe3WrVtavny5pIy3QLgXfn5+6tWrl+Xf5gCxUKFCMplM6tSpU7rplVnFdEoAAAAgDzAZ9nnYg4eHh2WJ/f79+1vugZOksWPHavfu3WrWrJnq1q1rKZ88ebJCQ0M1dOjQLPd/8OBB/fjjj7p165ZV+fnz5/XMM8/o+PHjqlmzpho3bpzlviRpyZIlatOmjfz8/FSsWDEVK1ZMBQoUUJs2bfTLL7/YpY+0yMQBAAAAeYEDTaeUpGHDhmnVqlXavHmzQkJC1LRpU8XExCgqKkoBAQGaPn26Vf24uDgdOnTI5n1qU6dO1dSpUyVJSUlJkm7fz9awYUNLnW+++caSWTtz5ox69uypQYMGqV69egoICNCpU6e0fft2Xbt2TUFBQZo/f75Mpqyt6GkYhl566SXNmjVLhnH7BShUqJAk6fLly1q1apVWr16t559/XjNmzMhyf2Zk4gAAAADYnZeXl9asWaMPPvhAPj4+Wrx4sWJiYtSrVy/t2LFDFSpUyHRbJ06cUFRUlKKioiz30yUmJlrKoqKidPXqVUv9ypUr6/XXX1eVKlW0Z88eLViwQNu2bVNISIhGjBih3bt3q3Llylm+xgkTJmjmzJkqVaqUvv32W12+fFkXL17UxYsXdeXKFU2ZMkWlSpXSjz/+qAkTJmS5PzOTYQ4ZgVwQFhamvy9eUOmhb+f2UAAAADLt5KdfKKRI0UwvuZ+dwsLC9PeFCyrz1jt2ae/4l58rpKhjXJujq1atmmJjY7Vnzx6VL1/eZp1jx47pgQceUNmyZbV//3679EsmDgAAAMgDHOmeuPzi2LFjatWqVYYBnHR7k/FWrVrp2LFjduuXIA4AAAAA7kNAQIA8PDzuWs/d3V3FihWzW78EcQAAAICzMyQZJjs9cvtinMcTTzyhP/74w7KtgC0XL17UH3/8oc6dO9utX4I4AAAAALgPo0ePVoUKFdSyZUv98ccf6Y6vWbNGrVu3VsWKFfXJJ5/YrV+2GAAAAADyAjJoOa5Tp07y8PDQ9u3b1bp1axUpUkTBwcGSpNjYWF24cEGS1LBhw3QbfptMJq1evfq++iWIAwAAAJycSfZblMQ+O5nlD2vXrrX8bBiGLly4YAnc0tqyZUu6sqzsGUcQBwAAAAD3wZ4rTt4LgjgAAAAgL2A6ZY4zT53MaQRxAAAAQB7AHm/5B6tTAgAAAIATIRMHAAAA5AVk4vINMnEAAAAA4ETIxAEAAADOzpD9MnFk9BweQRwAAACQB7CwSf7BdEoAAAAAcCIEcQAAAADgRJhOCQAAAOQFTKfMN8jEAQAAAIATIRMHAAAA5AEsbJJ/kIkDAAAAACdCJg4AAADIC8jE5RsEcQAAAEBeQBCXbzCdEgAAAACcCJk4AAAAwNkZdlzYhIyewyOIAwAAAPICgq98g+mUAAAAAOBEyMQBAAAAeQD7xOUfZOIAAAAAwImQiQMAAADyAjJx+QZBHAAAAJAXEMTlG0ynBAAAAAAnQiYOAAAAcHIm2W9hE5N9mkE2IogDAAAAnJ0h+02nZFqmw2M6JQAAAAA4ETJxAAAAQF5ABi3fIBMHAAAAAE6ETBwAAACQB9hrYRM4PoI4AAAAIC8giMs3mE4JAAAAAE6ETBwAAACQBzCdMv8giAMAAADyAoK4fIPplAAAAADgRMjEAQAAAM7OkP0ycWT0HB5BHAAAAJAHmHJ7AMgxTKcEAAAAACdCJg4AAADIC5gGmW+QiQMAAAAAJ0ImDgAAAMgD2Ccu/yCIAwAAAPICgrh8g+mUAAAAAOBEyMQBAAAAeQGZuHyDTBwAAACQB5gM+zzsKT4+XsOHD1flypXl5eWlwMBA9e7dWydPnryndtatW6dRo0apffv2CggIkMlkUrly5e56XkpKisaNG6cHHnhA3t7eCggIULdu3XTgwIH7vCLHQCYOAAAAgN0lJCSoZcuWioyMVKlSpdSpUydFR0drxowZWrZsmSIjI1WhQoVMtTVo0CDt2rXrnvpPTU1V165dFRERoUKFCql9+/aKi4tTeHi4li9frjVr1qh+/fr3c2m5jkwcAAAA4OwMOz/sYPTo0YqMjFSjRo10+PBh/fzzz4qKitJXX32l8+fPq3fv3pluq02bNho9erRWrlypffv2Zeqc6dOnKyIiQiEhITp48KDCw8O1du1aLViwQDdv3lSPHj2UnJx8v5eXqwjiAAAAANhVYmKiJk+eLEn6+uuv5efnZzk2ePBg1ahRQ+vWrdP27dsz1d7nn3+u999/X23atFGRIkUydc7YsWMt55YoUcJS3qVLF3Xs2FFHjhzRL7/8ktlLcigEcQAAAICTM8l+98SZ7DCeTZs26cqVK6pYsaJq166d7vhTTz0lSVq6dKkdekvv2LFjOnDggLy9vdW+ffsc7z+7cU8cAAAAkBc40OqU5vvX6tSpY/O4uXz37t3Z2n/16tXl7u6e4/1nNzJxAAAAAOwqNjZWkhQUFGTzuLk8JiYmT/af3cjEAQAAAHmAPbcHOHr0qMLCwmwey8zCItevX5ck+fj42Dzu6+srSbp27dp9jtCx+89uBHEAAABAXuBA0ymRvQjiAAAAAFipWLFippfyt8W8GuXNmzdtHr9x44YkqUCBAvfdhyP3n90I4gAAAIC8wIEycWXLlpUknThxwuZxc3lwcHCe7D+7sbAJAAAAALuqWbOmJGnHjh02j5vLa9Soka397927V0lJSTnef3YjiAMAAACcnb32iDNkl4xe48aN5e/vr6NHj2rnzp3pjoeHh0uSOnTokPXObChfvryqVq2q+Ph4LV++PMf7z24EcQAAAEBeYNjpYQceHh4aMGCAJKl///6We9AkaezYsdq9e7eaNWumunXrWsonT56s0NBQDR061C5jGDx4sCTpnXfe0blz5yzlixYt0pIlS1SpUiV16tTJLn3lNO6JAwAAAGB3w4YN06pVq7R582aFhISoadOmiomJUVRUlAICAjR9+nSr+nFxcTp06JBOnz6drq2pU6dq6tSpkmSZHnn69Gk1bNjQUuebb76x2ly8d+/eWrFihSIiIhQaGqpWrVopLi5O69atk7e3t2bPni03N+cMh5xz1AAAAACsmAwHWtlEkpeXl9asWaNPP/1Uc+fO1eLFi1WkSBH16tVLH330UYYbcdty4sQJRUVFWZUlJiZalV29etXquIuLixYsWKAJEyZo+vTpWrZsmXx9fdWlSxeNGjVK1apVy9oF5iKTYTjYq418JSwsTH9fvKDSQ9/O7aEAAABk2slPv1BIkaJZWobfXsLCwvTPqQsKe/Idu7S3b9HnqhDoGNcG27gnDgAAAACcCNMpAQAAgDzAxPy6fINMHAAAAAA4ETJxAAAAQF5AJi7fIIgDAAAAnJ1hx+mUBIMOj+mUAAAAAOBEyMQBAAAAeQEZtHyDIA4AAABwcibZbzqlyT7NIBsxnRIAAAAAnAiZOAAAACAvYDplvkEQBwAAAOQBbPadfzCdEgAAAACcCJk4AAAAIC8wSMXlF2TiAAAAAMCJkIkDAAAAnJ1hx3viSOg5PII4AAAAIC8g+Mo3mE4JAAAAAE6ETBwAwGF5uLrqjQYP6YnQavL38tTBuDh9tWWTNh6PueN5FQoVVvcHaqpWyVKqHlBcnm5uajLjB528djVd3Q29+iiooH+68jl7dmnYmlV2uxYAyG6m1NweAXJKtgdx0dHRKl++vJo1a6a1a9dmd3fIZiaTScHBwYqOjs7toQDIB754pJ0erRSiGTt3KPryJXWpVl3TOz6h7osWaNvpkxmeV7tUoHrVrK2/L17QkUsXFRZQ/I797Dt/TlN3bLMqO3b5kl2uAQByDNMp8w0ycQAAh1SzREl1rBKqTzas0w9/3Q6wFh7cr5U9XtCQJg/rqQXzMjx31T9HVfPIZN1IStLLtevdNYg7c/2aFh86YNfxAwCQXbgnDgDgkB6tVFnJqamat2+3pSwxJUXz9+9V3VKBKuVXIMNzr9xK0I2kpHvqz93FRd5ufLcJwHmZDPs84PiyNYgbOXKkypcvL0lat26dTCaT5dGrVy+9++67MplM6tatW7pz4+LiFBgYKFdXV23cuNFS3qtXL5lMJq1du1br169Xy5YtVaBAARUsWFDt27fX/v37szTmDRs2aMCAAapRo4YKFy4sb29vhYaGasiQIbp8+XK6+mvXrrVcz7lz5/TSSy+pZMmS8vX1VZMmTbR582ZL3SlTpqhGjRry9vZWmTJlNHLkSKWm2p68vH//fvXo0UOlSpWSh4eHSpcurZ49e+rQoUPp6s6cOVMmk0kjR4602Vbz5s1lMpmspkBGR0fLZDKpefPmio+P15AhQxQcHCxPT09VqlRJY8aMkZFmw0hzH5IUExNj9Vo2b9787k8sANyjsIDiOnb5kq4nJlqV7zpzRpJULSDAbn09FFRW+/sN0v5+g7ShVx/1qlnbbm0DAGBv2fqVY61atdSlSxctXLhQJUqUULt27SzHmjRpop49e+r333/XggULNGvWLL3wwguW4y+//LJOnz6t999/X02aNEnX9tKlSzVhwgTVq1dPjz32mHbu3KkVK1YoKipKe/fuVcmSJe9rzG+//bZ27dqlGjVqqFWrVkpISNCOHTs0ZswYLVu2TJGRkfLz80t33qVLl9SoUSOlpKSoefPmio6O1qZNm9S6dWtt3bpV33//vX744Qe1aNFCwcHBWrdunUaNGqWkpCR9/PHHVm2tXr1aHTp0UHx8vGrXrq3mzZvr4MGD+vHHHxUREaEVK1aoadOm93V9/5aYmKg2bdpo//79at68uW7cuKF169ZpyJAhunbtmkaPHi1JqlSpkl544QXNmjVLvr6+euqppyxthIaG2mUsAJBWgK+vzt24nq783M3bZcV90/8uvh8H4+K07dRJ/XP5ogp5eeupqmEa0aylSvj6aczmDXbpAwCynSHJsFMajWycw8vWIK5z586qVauWFi5cqNDQUM2cOTNdnTlz5qhu3boaOHCgHn74YZUvX14//PCDFi9erAcffDDD7NL48eO1cOFCde7cWZKUkpKip59+WgsXLtQ333yjDz/88L7GPGLECD300EPy9//fSmW3bt3Sa6+9pu+//15jx47V8OHD0523ZMkSPffcc5o+fbrc3d0l3c5Ejho1St26ddPly5e1Z88eVaxYUdLtTFvt2rU1fvx4DR061BIY3rhxQz169FB8fLwmT56s/v37W/oYN26cBg8erO7du+vvv/+Wl5fXfV1jWlu2bFGzZs107NgxFSxYUJK0bds2NWzYUOPGjdOQIUPk5+enJk2aqEmTJpo1a5aKFStm87UEAHvycnNTYkpKuvJbySmW4/bw8rLFVv9esH+vZnZ6Ui/VrqtZu//SmevpA0kAcERMhcw/cv2euKpVq+rLL7/UtWvX1KNHDx04cEBvvPGGfHx8NHv2bLll8B/pZ5991hLASZKrq6uGDh0qSVq/fv19j+fRRx+1CuAkydPTU+PHj5ebm5t++eUXm+cVLFhQEydOtARwkvTGG2/IZDJp//79+vDDDy0BnCRVq1ZN7du3182bN7Vt2/9WRJs/f77Onj2rRo0aWQVw5vbq1q2rEydOaOHChfd9jWm5uLjou+++swRwklSvXj09+uij6caWFWFhYTYfR48etUv7APKehORkebi6piv3dHO1HM8u0//aLndXVzUsXSbb+gAA4H45xB3c/fr104oVK7R8+XI1bNhQN27c0HfffafKlStneE6bNm3SlZnrnz59OkvjOXnypJYuXaqDBw/q6tWrlvvWPDw89Pfff9s8p169eipcuLBVmb+/v4oUKaILFy7YHG+FChXSjXfDhttTd3r06GGzn+eee07bt2/Xhg0bMqxzL4KDg1WlSpV05fZ6LgHgfp2/cUMlbExfL+5zu8zWVEt7OXX9miSpkB1mPABAjiETl284RBAnSdOmTVO5cuV09epVPfroo/p//+//3bF+UFBQurICBW6vVHbr1q37HsfYsWM1ZMgQJd3jqmalS5e2We7n56cLFy7YPG6eQpl2vKdOnZIklStXzmZ75vKTJzPeH+le2HoeJfs8l2nt27fPZnlYWJj+vnjBLn0AyFv2nz+nhkFl5OfhYbW4Sa3/u+d5//nz2dZ32YKFJEkX4uOzrQ8AsCeT7Ded0mSfZpCNcn06pdmSJUuUkJAgSTp06JCu3+UeBBcX+w89MjJSb775pnx8fDRz5kxFR0crISFBhmHIMAyVKlXqvsdjr/GaV4i8FxmtgCllz/MIAPbw65HDcnNx0bNhNSxlHq6ueqpadf115pRO/1+2LNCvgCoULnJfffh7esnlX79X3Vxc9Gq9+rqVkqwtJ2Lv/wIAAMgmDpGJ+/vvvy33wbVr106LFi3Sa6+9punTp+foOCIiIiRJH3/8sdVKmZIUHx+vM/+3rHV2CgwMlHR7GX9bzNsEpM3seXh4SFKGge/x48ftOEIAyBk7z57R8r8P6e2Hmqioj49iLl/Sk1XDFFSgoIasWmmp91WbR9UwqIzKT/zKUlbAw0Mv/N82AXVL3f59+ULN2rp6K0FXb93Sf3bvlCQ9UqGiBjzYQL8e+VvHr15RIS8vdawcqtBiAfp88wbF3byZcxcMAFllr9Up4fCyPYgzBxjJGdyAnpycrOeee043btzQlClT1LNnT9WpU0czZsxQ+/bt1aVLl+weosWlS5ck2Z5iuGDBAqt907JL06ZNNWPGDM2bN0/9+vVLd3z27NmWembmDOHhw4fT1T98+LBiY+33TbK7u3uGryUA2Nvg337Vmw0b64nQqvL39NLBuPPqszRCW0/deUp5QU8vvdnIenual+vUkySduHrFEsQdijuvIxcvqnNoVRXx9lZSSqoOnD+n/iuWasWR9L9TAQBwBNkexBUrVkzu7u46evSoUlJS5PqvlcY+/PBDbd26VR06dNArr7wi6Xag0qhRI/2///f/1KhRI0t2KruZF/OYNm2aHnvsMctKk/v379e7776bI2Po1q2bhg4dqo0bN+r777+3ujdw4sSJ2rZtm0qXLm0V3D744IPy8fHRr7/+qu3bt6tu3bqSbm+Y3qdPnztOp7xXgYGBOnnypC5fvqxChQrZrV0AsCUxJUWfblqvTzdlvOrws4vmpys7ee2qVWYuI3vPn0u3xQAAOCu2GMg/sv2GKA8PD7Vr105nzpxRzZo11bNnT/Xp00czZszQli1b9Mknn6hEiRKaNm2a5Zy6detq5MiRunjxonr16pUjGTBJevHFF1WyZEktXbpUVapU0dNPP63WrVurVq1aatq0qYKDg7N9DL6+vpozZ468vb31yiuvqF69eurevbvq1KmjQYMGyc/PT/PmzbPaI87Pz09vvfWWkpOT1aRJE7Vr106PPvqoKleurJSUFDVq1Mhu4+vYsaOSk5NVp04dPffcc+rTp4+++OILu7UPAACA+2DY+QGHliOrWkydOlXPP/+8Lly4oLlz52ratGlavny5nnvuOaWkpGj69OkKCAiwOmfIkCFq0qSJfv/9d40fPz4nhqmiRYvqzz//VPfu3ZWYmKglS5bo5MmT+uijjzRv3rwcGYMktWrVSn/++aeeffZZnThxQuHh4Tpz5oyee+45bdu2zWoqpdnIkSP1xRdfKCgoSH/88Yf27t2r3r176/fff7dMabWHTz/9VAMGDFBycrJ+/vlny2sJAAAAIGeYjJxKcwE2mLcYKD307dweCgAAQKad/PQLhRQpmuE2SjkpLCxM0bEXVK/5m3Zpb9var1SurGNcG2xziNUpAQAAAGSFIaXaKzdDjsfRsUkYAAAAADiRPJ2Jmzp1qjZu3JipukOGDFFoaGg2jwgAAADIJiTQ8o08HcRt3LhRs2bNylTdXr16EcQBAAAAcHh5ejrlzJkzZRhGph7NmzfP7eECAAAA981k2OcBx5enM3EAAABAvmBIstei8wRyDi9PZ+IAAAAAIK8hEwcAAADkAUyFzD8I4gAAAIC8gCAu32A6JQAAAAA4ETJxAAAAQB5gstfCJnB4BHEAAABAXpCa2wNATmE6JQAAAAA4ETJxAAAAgJO7vVG3faZTssql4yMTBwAAAABOhEwcAAAAkBeQQcs3COIAAACAvIDVKfMNplMCAAAAyBbx8fEaPny4KleuLC8vLwUGBqp37946efLkPbd16dIlDRo0SMHBwfL09FRwcLBef/11Xb582Wb9Xr16yWQyZfiYMmVKFq8u95CJAwAAAPIAR1uQJCEhQS1btlRkZKRKlSqlTp06KTo6WjNmzNCyZcsUGRmpChUqZKqtuLg4NWrUSEeOHFGFChXUuXNn7du3TxMmTNCvv/6qLVu2qEiRIjbPbdu2rUqWLJmuvEqVKlm6vtxEEAcAAADkBQ42nXL06NGKjIxUo0aN9Ntvv8nPz0+SNHbsWL355pvq3bu31q5dm6m2Xn/9dR05ckRPPvmkfv75Z7m53Q5jXnvtNU2aNEmDBw/WzJkzbZ47ZMgQNW/e3A5X5DiYTgkAAADArhITEzV58mRJ0tdff20J4CRp8ODBqlGjhtatW6ft27ffta3Tp09r3rx58vDw0DfffGMJ4CTpiy++UEBAgGbPnq1z587Z/0IcFEEcAAAA4OwMyZRqn4c9VrnctGmTrly5oooVK6p27drpjj/11FOSpKVLl961rf/+979KTU1V06ZNVaJECatjnp6e6tChg1JSUrRixYqsD9xJMJ0SAAAAgF3t2rVLklSnTh2bx83lu3fvtktb06dPz7CtRYsWaeHChUpJSVH58uXVoUMHhYaG3rVfR0YQBwAAADg9w473xGW9ndjYWElSUFCQzePm8piYmGxva9KkSVb/fvfdd9W3b19NmDDBamqmM3HOUQMAAACwZsd1TY4ePaqwsDCbx/bt23fX869fvy5J8vHxsXnc19dXknTt2rVsa6t27dpq1KiRWrZsqaCgIJ05c0a//vqrhg0bpm+++UYeHh4aN27cXft3RNwTBwAAACDPGTRokF555RWFhITI29tb5cuXV79+/bRhwwZ5eHho8uTJOn78eG4P876QiQMAAADyAJMdtxioWLFipjJuGTGvRnnz5k2bx2/cuCFJKlCgQI62JUlhYWHq2LGjwsPDtXr1avXq1StT5zkSgjgAAAAgL3CgfeLKli0rSTpx4oTN4+by4ODgHG3LLCQkRNLt7QucEdMpAQAAANhVzZo1JUk7duywedxcXqNGjRxty+zSpUuS/nc/nbMhiAMAAACcnSEp1U4POyT0GjduLH9/fx09elQ7d+5Mdzw8PFyS1KFDh7u21a5dO7m4uGjDhg3pNvS+deuWli5dKldXVz322GOZGtutW7e0fPlySRlvW+DoCOIAAAAA2JWHh4cGDBggSerfv7/lvjVJGjt2rHbv3q1mzZqpbt26lvLJkycrNDRUQ4cOtWqrVKlSevbZZ5WYmKh+/fopOTnZcuydd97R+fPn9dxzz6l48eKW8oMHD+rHH3/UrVu3rNo6f/68nnnmGR0/flw1a9ZU48aN7XrdOYV74gAAAIA8wJ4Lm9jDsGHDtGrVKm3evFkhISFq2rSpYmJiFBUVpYCAAE2fPt2qflxcnA4dOmTzPrXx48crMjJSCxcuVGhoqOrVq6d9+/Zp7969CgkJ0dixY63qnzlzRj179tSgQYNUr149BQQE6NSpU9q+fbuuXbumoKAgzZ8/XyaTKVufg+xCJg4AAADICwzDPg878fLy0po1a/TBBx/Ix8dHixcvVkxMjHr16qUdO3aoQoUKmW6rWLFi2rp1qwYOHKjExERFREToypUreu2117R161YVKVLEqn7lypX1+uuvq0qVKtqzZ48WLFigbdu2KSQkRCNGjNDu3btVuXJlu11rTjMZhoOF7MhXwsLC9PfFCyo99O3cHgoAAECmnfz0C4UUKZqlZfjtJSwsTDH/nFfjsH52aW/Tvm8UXCHAIa4NtjGdEgAAAMgLyM3kGwRxAAAAQF6QmtsDQE7hnjgAAAAAcCJk4gAAAABnZxj2W52SaZkOj0wcAAAAADgRMnEAAABAXkAGLd8giAMAAADyAoK4fIPplAAAAADgRMjEAQAAAHkBmbh8gyAOAAAAyAvYJy7fYDolAAAAADgRMnEAAACAkzMZsts+cSZmZTo8gjgAAAAgL+CeuHyD6ZQAAAAA4ETIxAEAAABOz5BS7ZWJI6Pn6MjEAQAAAIATIRMHAAAA5AXcE5dvEMQBAAAAeQFBXL7BdEoAAAAAcCJk4gAAAABnZ8h+mTgSeg6PIA4AAADIC+y2OiUcHdMpAQAAAMCJkIkDAAAAnJ4hGan2awsOjUwcAAAAADgRMnEAAABAXsAWA/kGQRwAAADg7AzZb2ETYkGHx3RKAAAAAHAiZOIAAACAvIDplPkGQRwAAACQFxDE5RtMpwQAAAAAJ0ImDgAAAMgLyMTlG2TiAAAAAMCJkIkDAAAAnJ4hpabary04NII4AAAAwNkZst90SmI4h8d0SgAAAABwImTiAAAAgLyAhU3yDYI4AAAAIC9IJYjLL5hOCQAAAABOhEwcAAAA4OQMGTIM+6xOabCyicMjEwcAAAAAToRMHAAAAODsDNnvnjgScQ6PIA4AAADIC1idMt9gOiUAAAAAOBEycQAAAEBekGqfhU3g+AjiAAAAgLyA6ZT5BtMpAQAAAMCJkIkDAAAAnJ1hyLDXdEoyeg6PIA4AAADICwi+8g2mUwIAAACAEyETBwAAAOQF9trsGw6PTBwAAAAAOBGCOAAAACAvMFLt87Cj+Ph4DR8+XJUrV5aXl5cCAwPVu3dvnTx58p7bunTpkgYNGqTg4GB5enoqODhYr7/+ui5fvpzhOSkpKRo3bpweeOABeXt7KyAgQN26ddOBAweycFW5jyAOAAAAcHaGISPVPg97LZCSkJCgli1b6qOPPtL169fVqVMnlSlTRjNmzFDt2rX1zz//ZLqtuLg41a9fXxMnTpSbm5s6d+6sAgUKaMKECWrQoIEuXryY7pzU1FR17dpVgwcP1okTJ9S+fXuFhYUpPDxc9erV09atW+1ynbmBIA4AAACA3Y0ePVqRkZFq1KiRDh8+rJ9//llRUVH66quvdP78efXu3TvTbb3++us6cuSInnzySR06dEg///yz9u7dq4EDB+rw4cMaPHhwunOmT5+uiIgIhYSE6ODBgwoPD9fatWu1YMEC3bx5Uz169FBycrI9LznHEMQBAAAAeYEDTadMTEzU5MmTJUlff/21/Pz8LMcGDx6sGjVqaN26ddq+fftd2zp9+rTmzZsnDw8PffPNN3Jz+9/ajF988YUCAgI0e/ZsnTt3zuq8sWPHSpI+//xzlShRwlLepUsXdezYUUeOHNEvv/ySpevMLQRxAAAAQB5gt+mUdrBp0yZduXJFFStWVO3atdMdf+qppyRJS5cuvWtb//3vf5WamqqmTZtaBWOS5OnpqQ4dOiglJUUrVqywlB87dkwHDhyQt7e32rdvn6X+HRFBHAAAAAC72rVrlySpTp06No+by3fv3p0tbZnPqV69utzd3bPUvyNinzgAAAAgL7DzypJZERsbK0kKCgqyedxcHhMTky1t2bN/R0QQh1wVGxurpIR4nfz0i9weCgAAQKYlxcUp9vqN3B6GxU1d1xbjN7u1dfToUYWFhdk8vm/fvru2cf36dUmSj4+PzeO+vr6SpGvXrmVLW/bs3xERxCFXmT9AZYsUzeWRAMhrjh49KkmqWLFiLo8EQF4Ue/2G5e+Y3JYdv+fMmSw4JoI45KozZ87k9hAA5FHmb5Az840xADizJUuW5PYQ0jGvRnnz5k2bx2/cuJ3FLFCgQLa0Zc/+HRELmwAAAACwq7Jly0qSTpw4YfO4uTw4ODhb2rJn/46IIA4AAACAXdWsWVOStGPHDpvHzeU1atTIlrbM5+zdu1dJSUlZ6t8REcQBAAAAsKvGjRvL399fR48e1c6dO9MdDw8PlyR16NDhrm21a9dOLi4u2rBhQ7oNvW/duqWlS5fK1dVVjz32mKW8fPnyqlq1quLj47V8+fIs9e+ICOIAAAAA2JWHh4cGDBggSerfv7/lHjRJGjt2rHbv3q1mzZqpbt26lvLJkycrNDRUQ4cOtWqrVKlSevbZZ5WYmKh+/fopOTnZcuydd97R+fPn9dxzz6l48eJW5w0ePNhSJ23wt2jRIi1ZskSVKlVSp06d7HfROYiFTQAAAADY3bBhw7Rq1Spt3rxZISEhatq0qWJiYhQVFaWAgABNnz7dqn5cXJwOHTqk06dPp2tr/PjxioyM1MKFCxUaGqp69epp37592rt3r0JCQjR27Nh05/Tu3VsrVqxQRESEQkND1apVK8XFxWndunXy9vbW7Nmz5ebmnOEQmTgAQJ60b98+VqYEgFzk5eWlNWvW6IMPPpCPj48WL16smJgY9erVSzt27FCFChUy3VaxYsW0detWDRw4UImJiYqIiNCVK1f02muvaevWrSpSpEi6c1xcXLRgwQJ99dVXCgwM1LJly7Rnzx516dJF27ZtU4MGDex5uTnKZBiGkduDAAAAAABkDpk4AAAAAHAiBHEAAAAA4EQI4gAAAADAiRDEAQAAAIATIYgDAAAAACdCEAcAAAAAToQgDgAAAACcCEEcAMBhXb16NbeHAACAwyGIAwA4pA8//FDTpk2TJKWmpubyaAAAcBwmwzCM3B4EAABpvfvuu/riiy8UFBSk7du3KyAgILeHBACAwyATBwBwKK+//rq++OILFS5cWCdOnNCkSZOUkpKS28MCAMBhEMQBABzGG2+8oYkTJ+rpp5/We++9J39/f23cuFHJycmSJCaPAABAEAcAcBBvvPGGJkyYoK5du2r06NHq3bu3SpcurbVr1+q7776TJJlMplweJQAAuY8gDgCQ6wYPHmwJ4D788ENVrFhRhQsX1pAhQyRJCxcu1PHjx3N5lAAAOAaCOABArvr00081fvx4devWTR9++KGqVKmi1NRUGYahFi1aqEGDBoqKitLevXslMaUSAACCOABArrl165ZKlSqlQYMGacSIEapSpYokycXFRSaTSaVLl1abNm2UmJioDz74QGfPnmVKJQAg32OLAQBArkpISFBSUpIKFChgVZ6amioXFxdduXJFrVu31pEjRzRv3jy1bdtWKSkpcnV1zaURAwCQu8jEAQByXNrvD728vNIFcNLtbJwkeXt7q1WrVrp8+bKmTp0qSQRwAIB8jUwcACDXGYZxx2mS//zzj+rXr6+LFy9qwYIF6tKlSw6ODgAAx0ImDgCQY3bt2qVFixZp1KhRWrx4sQ4ePCjp9tYBqampNs9JTU1VhQoVNGjQIJlMJm3evDknhwwAgMMhEwcAyBGfffaZJk2apNOnT1vK6tWrp9dee03PPffcXc9fs2aN2rRpo5SUFK1fv15NmjTJzuECAOCwyMQBALLd22+/rffee09eXl4aNmyYXnvtNTVq1Ejbtm3TqFGj9Pvvv9+1jRYtWmjAgAGSpJ9++kmJiYkZZu8AAMjLCOIAANnqu+++01dffaWOHTtqyZIl+vDDDzV+/HhNnDhRzzzzjI4ePao//vhDUsZ7wJmDtSeffFJlypTR/PnzdenSJcviJwAA5Cf81w8AkG0OHz6s7777TkWLFtWwYcMUFhamlJQUSVLdunXVuXNnSdJ//vMfxcXFZbi4iTlYa9iwocqUKaO4uDglJCTkyDUAAOBoCOIAANlm+/bt2r17t9577z3Vq1dPkvX2AN26dVOdOnV08+ZNJSUl3bGt1NRUubu7a+rUqTp06JCCg4OzdewAADgqt9weAAAg74qPj1fZsmXVuHFjSdZbCaSkpMjFxUUFChTQlStXdOLECZUqVSrDtszZuNDQ0OwfOAAADoxMHAAg2/Tu3Vv/+c9/VL9+fUlKN13SZDKpcuXKkm4HfGb/vjeOBUwAAPgfgjgAQLYwB17mrQD+HYiZp1UWLlzYqjw5OdkS7P3999+SxAImAACkwX8VAQDZ4t+BV0aBmLe3tyTp2rVrkiQ3t9sz/WfOnKnu3btr1qxZ2ThKAACcD/fEAQByhfn+uEKFCkn6XxAnSbNmzdKQIUOUkJCghg0b5tIIAQBwTGTiAAC5wjxl0sPDQ5Lk6ekpSZo+fbqGDh2qW7duaePGjapSpUqujREAAEdEJg4AkO3Srkr573+b///y5cuaM2eOVQBXvXr1XBkvAACOjCAOAHBfUlJS5Orqmi5A+7fU1FTL/XD//POPKlSoYFXfPJ1yzpw5OnbsGAEcAAB3wXRKAMB9+fdqkykpKTbrmAO4b7/9Vq+++qqWL19uVcfX11cuLi76448/dPHiRW3YsIEADgCAOyATBwC4JwsWLNCmTZu0efNmVa9eXRUqVNCgQYNUoEABq3ppA7gpU6bo3XfflZ+fn+rWrWtVz83NTampqSpcuLA2bNigatWq5di1AADgjEzGv3dUBQAgA0OHDtWYMWNkMpnk5eWl5ORkJSUlqVq1anrrrbfUpk0bBQYGWp3z7bff6v3335ePj482bdqk4OBgqwBPkiZMmKC2bdsqNDQ0py8JAACnQxAHAMiUL774Qu+++67atGmj4cOHq0yZMoqLi9OgQYO0ceNGlShRQt26dVPfvn0twdiKFSvUrVs3+fv7a/PmzQoODlZycrJlLzjzfXUAACDzCOIAAHcVGxurtm3b6tq1a1q+fLlq1qxpWdDk8uXL6t27txYvXqwiRYqoffv2Gjp0qEJDQ5WQkKBXX31VI0eOVLly5QjaAACwA4I4AMBd/fnnn2rQoIF69+6tqVOnWrJp5qDs8uXLatCggf7++28VLFhQ3bt315AhQ1S2bFlLG2kzcAAA4P6xOiUA4K4uXLgg6XZGLiEhwRKMubq6Kjk5WYUKFVLLli3l7u6ugIAAzZkzRxs2bJB0O3iTRAAHAICdEMQBAO6qatWqKl68uA4dOqS1a9dathMwDMOyQElqaqqKFSumXr16KSEhQZ988omuXLlC8AYAgJ0RxAEA0vn3TPsiRYqoefPmOn78uCZPnqzdu3crKSlJJpNJLi4uunjxolauXKnmzZvr/fffV4cOHXTgwAGFh4fn0hUAAJB38fUoACAdk8lk9e8CBQrojTfe0NatW7VixQpdu3ZNLVu2VLt27RQbG6sxY8bo/PnzevzxxyVJH3zwgRYvXqz9+/fnxvABAMjTWNgEAGCxdetWxcTEKDY2VnXr1lW5cuVUrlw5y/ENGzbotdde08GDB3Xr1i15e3srPj5eJUqUUL9+/TR48GD5+voqOjpa1atXV+fOnTV79uzcuyAAAPIgMnEAAEnSiBEjNGHCBF29etVSVrFiRfXv31+vv/66JKlp06b6z3/+o/Xr1ys8PFwpKSmqVKmSnnnmGTVp0kQ+Pj6SpIIFCyo5OVl+fn65cSkAAORpZOIAABo9erSGDx+upk2b6tVXX9WVK1e0d+9effPNN5KkXr16afDgwapWrZrVQiYpKSlyd3dP1957772nzz77TD///LO6du2ao9cCAEBeRxAHAPncgQMH1KJFC5UsWVI//fSTQkNDLceWL1+uIUOGaN++fWrXrp2GDRumRo0apbtnLjU11RLcfffddxo2bJiCgoK0YsUKlSpVKkevBwCAvI7VKQEgnzt+/LjOnTunJ554QqGhoUpKSlJqaqokqX379po2bZratWun//73v/rwww+1c+fOdG2YTCadPHlSAwYM0Ntvvy1XV1fNmTOHAA4AgGzAPXEAkM8lJCRIkq5cuSJJlumRhmHIZDKpfv36+uSTT+Ti4qIVK1aocOHC+uGHH+Tn52fJwJlMJn3++ef65ptv1KxZM3333XeqXLlyrl0TAAB5GZk4AMjngoKCJEm///671ZYAaadM1qpVSyNHjlT9+vX1888/a9y4cZIkFxcXy55yX331lZYuXar58+cTwAEAkI24Jw4A8rnExER17dpVK1as0Oeff6433njDkoX7t9WrV6t169Zyc3PT2rVr9dBDD0mSUlJS5OrqmtNDBwAgXyITBwD5nIeHhzp06KCUlBS9++67+u2332QymSz3xUmyZNtatWqlzz//XMnJydqzZ4/lOAEcAAA5hyAOAPIxc3DWp08fDRgwQMnJyXr88ce1ceNGq6mSJpNJhmHIMAw1aNBA0u3plykpKWJCBwAAOYsgDgDyMZPJpJSUFEnSxIkT1aNHDyUnJ6tly5b6448/rKZUJiUlyWQyqXbt2vLw8JC/v79cXV1tTrsEAADZhyAOAPI5V1dXy9TJb7/9Vt27d1dycrLatWunadOm6eTJk5JuT7uUpClTpigxMVFVq1aVJDJxAADkMBY2AQBYLWSSmpqqV155RdOmTZOLi4vatWuntm3bqn79+lq6dKmmTp0qLy8vrV+/XmXLls3lkQMAkP8QxAFAPmfe602Szpw5o5IlS0q6vWXA3Llz9ddff1nVr1SpkhYvXqxq1arl+FgBAABBHADkSX379lVoaKgGDRp0x3ppA7gpU6Zo586d6tOnj+rVqydJOnr0qHbv3q1NmzYpJSVFtWrVUqtWrSx7ywEAgJxHEAcAecxbb72lsWPHqn379po9e7b8/f1t1vt3APfmm2+qaNGi+uuvv1S0aNGcHDIAALgHLGwCAHnIG2+8obFjx+qZZ57RF198kWEAJ8kqgHvvvfdUuHBhrV+/XkWLFrXaIw4AADgWgjgAyCPeeOMNTZgwQV27dtWIESMUGhoqSTYDMvMkjDlz5qhfv37y8/PTpk2bVK5cOSUnJ1sCPAAA4Hj4rzQA5AFDhgzRhAkT1KNHDw0fPlxVqlSxHHNxcVFiYqLi4+MtZeaVKNu0aaOGDRtq7dq1Cg4OVkpKitzc3HJ8/AAAIPO4Jw4AnNxXX32lt99+W0FBQVq6dKlq1qyplJQUubq66siRI/rzzz/17bff6vr166pYsaKqV6+u4cOHW20p4OLiouTkZAI4AACcAEEcADi5CxcuqEmTJjp06JC6du2qmTNnytvbW+vWrdPYsWP13//+V0lJSfL19VVycrJu3bqlli1bavbs2SpZsqSSkpLk7u6e25cBAAAyiemUAODEkpOTVbRoUW3evFnVqlXTggUL1LNnT+3cuVMTJkzQ0qVLNXDgQC1fvlxbtmzR0qVLFRoaqj/++EM9evRQSkqK3N3dxfd5AAA4DzJxAODkzNMgL126pKZNm2r//v0qV66coqOjNW7cuHR7xZ08eVJt2rTRgQMH9O677+rTTz/NpZEDAID7QSYOAJycm5ubEhMTVbhwYW3YsEFVqlRRdHS0hgwZYgngzN/XpaSkqHTp0vrhhx/k4eGhnTt3sp0AAABOhjvYAcCJnDhxQsePH9fZs2dVtWpVBQUFydfXVx4eHpZAbtOmTerRo4fq169vOc+8iImrq6skqWjRonJzc9O+fft07tw5FS9enG0FAABwEgRxAOAkxo8fr+nTp2vv3r2SJF9fX3Xv3l0vv/yy6tWrJw8PDyUlJalIkSKKiIiQl5dXujbMq1b6+vpKkqpXr66SJUvm6HUAAICs4WtXAHACb7/9tgYPHqyzZ8+qW7duat26tdzd3TV9+nSNGTNG//zzjyRZFikxB3Bpb3tOTU21ZOImTJigmzdvqkmTJkpNTWVhEwAAnAhBHAA4uPHjx+urr75Sx44dtWrVKv30009auXKlxo8fr9DQUK1YsUI7d+6UdDtoM0+dlP43jdIwDMt0ye+//17ff/+9QkND1bNnT7m4uFidAwAAHBurUwKAA9uxY4eefvppJScnKyIiQrVq1bKsRpmSkqLhw4fr008/1SOPPKIVK1bI1dXVZkCWmpqq69ev67PPPtMPP/wgFxcXrVmzRtWqVcuFqwIAAFlBJg4AHNiaNWt09OhRjRo1SrVq1ZJ0ezVKwzDk6uqqvn37qmjRorpw4YLc3NxsBnBJSUkKDw9XixYt9Nlnn6ls2bJat24dARwAAE6KhU0AwIH9888/Kly4sB5++GFJ/5suaTKZZBiGvL295e7urr179+rMmTM2V5l0d3dXpUqVVKdOHT322GN69dVXVbp06dy4HAAAYAdMpwQABzd//nx169YtXXlKSopcXFzUpEkTRUVFKTo6WkFBQZLS3xsnSZcvX5aXl5fNVSsBAIDzYDolADioW7duSZIlgPv3ptzm+9+KFCkik8lkWXkyJSXFEsCdP3/eUr9QoUIEcAAA5AEEcQDgIOLj43X69GmdPXtWkuTp6Snpf8Hbv6dJmidSeHh4KCUlRVevXrXcKydJP/74owYPHqytW7fm1CUAAIAcQBAHAA5g0qRJeuyxx1SlShVVrVpVTzzxhKZPn66LFy/KxcVFKSkp6c4xB3EFCxaUJF27ds2SgZs1a5beeOMNrVy5UiVKlMi5CwEAANmOIA4ActmQIUM0aNAgHT58WK1atVKJEiW0evVq9enTR0899ZRiY2Pl6uqabkNuc2bOx8dHkuTn5ydJmjFjhoYOHarU1FStXr1awcHBOXtBAAAgWxHEAUAuWrBggT7//HM9/vjj+vXXXxUREaHVq1dr7ty5atCggdauXavGjRtr27ZtGW7IbQ7mrl+/rh9//FFDhw7VzZs3tX79ej3wwAM5eTkAACAHEMQBQC4wZ9U2bdokSXrzzTdVo0YNpaamKjAwUI8//rjWrVunJ598UidPnlTHjh0VGRkpSZapleY2/P39JUmTJ0/WsGHDlJCQoI0bN6p69eo5fVkAACAHEMQBQC5JTk7WgQMHJMmyNYBZSkqKPDw8FB4erueff15nzpzRk08+qSNHjsjV1VWpqamWzJyvr6+k2wuZXLlyRRs2bCCAAwAgDyOIA4BcYDKZ5ObmplKlSkmStmzZIul/2TVXV1dLxm3WrFl6+umndebMGT3zzDM6f/68XFxcLHXd3d0lSUWKFNHmzZuZQgkAQB5HEAcAucC8bUCzZs0kSXPmzJFkHbyl/Xnu3Ll6+OGHtWPHDk2aNEnJycmWIO6tt97Sc889pz/++EPVqlXL6UsBAAA5zGT8e7kzAIDdGYZhc2GSmJgYNW3aVCdOnNDAgQM1YcIESbeDPPOCJcnJyXJzc9P27dvVuXNnlS5dWlu2bJHJZFJSUpIlEwcAAPIHMnEAkAOOHz+uP//8U6tXr9aff/5pKQ8ODtbUqVPl4+OjSZMm6ZNPPpEkq73h3NzcJEmVK1dW/fr1tXXrVm3cuFGSCOAAAMiHCOIAIJtNmjRJnTt3VuPGjdW6dWs1b95c/7+9+3mJet/jOP7ScQQpkwoqijYuSkzctCgK2kTQKloU4T+QFUUECUWEFEQgREEUtgipXYugTVFRCFEIgZugVlF/gaIm/RqdzkLGc869wT2L64zfex+PnTMjvL/LJ58vn/fx48fz/fv3JMnu3bszODiY1tbWXLlyJVevXk3y99cp5+bm0t7enr179yZJvn371piHAQAaTsQBLKGBgYGcPn06Hz9+zL59+7Jnz578/Pkzd+7cybFjx5Is3C7Z19eXgYGBzM/PZ3BwMOfOnUuyEHLJn6dx4+PjKZfL2bRpU2MeCABoOBEHsESuX7+ea9eu5cCBAxkdHc3jx4/z/PnzPHnyJKVSKffv38+tW7eSLKwY6O/vz8WLF1MulzM0NJRDhw7l7du3mZiYSJIMDw/n0aNH2b59ezZu3NjIRwMAGsjFJgBLYHx8PEeOHElTU1MePnyY3t7eJH9eWHLjxo2cPXs2R48eze3btxf/b2ZmJs+ePUt/f3+mpqbS0dGR1atXZ8WKFXn//n3Wr1+f0dHRdHV1NerRAIAGcxIHsARevnyZT58+5dKlS4sBl2Txxsmenp5Uq9W8ePEik5OTi9+vWrUqhw8fztjYWM6cOZPu7u5MTk6mubk5fX19efXqlYADgP9zLY0eAOB/zfz8fGZnZ7Nt27bs3Lnzt7/ZsWNHOjs7F/fF/VW1Ws3WrVszNDSUarWaz58/Z8OGDSmXy2lra1vq8QGAZU7EAfyXlUqlnDx5Mrt27UpnZ+dvf9PS0pJSqZSJiYlMT09nzZo1SRb2ydVO65qbm1MqlbJly5a6zQ4ALH9epwRYAuvWrcv+/fuT5N9O26rVatra2tLR0ZFKpZJKpbL4eW0heKVS+e1ycAAAEQewxGona//699q1a9PS0rK4PqD2+fDwcE6cOJHp6en6DgoAFIKIA6iz2slctVrN7OxspqamFr+7d+9eLl++nLt372ZmZqZBEwIAy5mIA6iz2maXcrn8t9cmR0ZGcv78+fz48SPv3r3L5s2bGzkmALBMudgEoM5KpVKShdcp29vb09zcnAcPHuTChQv5+vVrXr9+nZ6engZPCQAsVyIOoM5+/fqVpqamtLa25suXL7l582aePn0q4ACAf0TEAdRZLeJqF5mMjIxk5cqVefPmjYADAP4jEQdQZ7V46+3tTZK0tbVlbGws3d3djRwLACgIEQfQIAcPHsyHDx9y6tSpdHV1NXocAKAgmn7VrkkDoO7m5uYW98QBAPwTIg4AAKBA7IkDAAAoEBEHAABQICIOAACgQEQcAABAgYg4AACAAhFxAAAABSLiAAAACkTEAQAAFIiIAwAAKBARBwAAUCAiDgAAoEBEHAAAQIGIOAAAgAIRcQAAAAUi4gAAAApExAEAABTIH5ZF/4QyvQtOAAAAAElFTkSuQmCC\">⬇️ Download psi_heatmap.png</a>"
      ],
      "text/plain": [
       "<IPython.core.display.HTML object>"
      ]
     },
     "metadata": {},
     "output_type": "display_data"
    },
    {
     "output_type": "stream",
     "name": "stdout",
     "output_type": "stream",
     "text": [
      "Downloaded psi_heatmap.png\n"
     ]
    }
   ],
   "source": [
    "# === ARTIFACT 3: PSI heatmap PNG ===\n",
    "sql = f\"SELECT window_start, feature, psi FROM ml_drift_summary_v2 WHERE psi IS NOT NULL ORDER BY window_start, feature\"\n",
    "pdf = spark.sql(sql).toPandas()\n",
    "if pdf.empty:\n",
    "    print(\"No PSI rows found. Run A3/A6 steps first.\")\n",
    "else:\n",
    "    pdf['window_start'] = pd.to_datetime(pdf['window_start'])\n",
    "    pivot = pdf.pivot(index='feature', columns='window_start', values='psi').fillna(0)\n",
    "    matrix = pivot.values\n",
    "    fig, ax = plt.subplots(figsize=(max(6, matrix.shape[1]*0.6), max(4, matrix.shape[0]*0.6)))\n",
    "    im = ax.imshow(matrix, aspect='auto', vmin=0, vmax=max(0.3, matrix.max()))\n",
    "    ax.set_yticks(np.arange(len(pivot.index)))\n",
    "    ax.set_yticklabels(pivot.index)\n",
    "    ax.set_xticks(np.arange(len(pivot.columns)))\n",
    "    ax.set_xticklabels([d.strftime(\"%Y-%m-%d\") for d in pivot.columns], rotation=45, ha='right')\n",
    "    # annotate\n",
    "    for i in range(pivot.shape[0]):\n",
    "        for j in range(pivot.shape[1]):\n",
    "            val = pivot.values[i, j]\n",
    "            color = \"white\" if val > (0.15) else \"black\"\n",
    "            ax.text(j, i, f\"{val:.2f}\", ha=\"center\", va=\"center\", color=color, fontsize=8)\n",
    "    ax.set_title('PSI Heatmap (Feature × Window)')\n",
    "    fig.colorbar(im, ax=ax, orientation='vertical', label='psi')\n",
    "    plt.tight_layout()\n",
    "    buf = io.BytesIO()\n",
    "    plt.savefig(buf, format='png', bbox_inches='tight', dpi=150)\n",
    "    buf.seek(0)\n",
    "    make_data_uri_download(buf.read(), \"psi_heatmap.png\", mime=\"image/png\")\n",
    "    plt.close(fig)\n",
    "    print(\"Downloaded psi_heatmap.png\")\n"
   ]
  },
  {
   "cell_type": "code",
   "execution_count": 0,
   "metadata": {
    "application/vnd.databricks.v1+cell": {
     "cellMetadata": {
      "byteLimit": 2048000,
      "rowLimit": 10000
     },
     "inputWidgets": {},
     "nuid": "dcfbe607-6767-4d07-869b-54534eb565f2",
     "showTitle": false,
     "tableResultSettingsMap": {},
     "title": ""
    }
   },
   "outputs": [
    {
     "output_type": "display_data",
     "data": {
      "text/html": [
       "<a download=\"drift_governance_dashboard.json\" href=\"data:application/json;base64,ewogICJzdW1tYXJ5IjogewogICAgImxhdGVzdF93aW5kb3ciOiAiMjAyNS0wOS0yNyIsCiAgICAibnVtX2ZlYXR1cmVzIjogMiwKICAgICJtZWFuX3BzaSI6IDAuMTY2NDE4NTAwMDAwMDAwMDIsCiAgICAiaGlnaF9kcmlmdF9mZWF0dXJlcyI6IDAKICB9LAogICJ0b3BfZHJpZnRzIjogWwogICAgewogICAgICAiZmVhdHVyZSI6ICJtb2RlbF9zY29yZSIsCiAgICAgICJwc2kiOiAwLjE4MDg0OSwKICAgICAgImJhc2VsaW5lX24iOiAxMTUwLAogICAgICAiY3VycmVudF9uIjogMTAwLAogICAgICAibnVsbF9yYXRlX2NoYW5nZSI6IDAuMCwKICAgICAgIndpbmRvd19zdGFydCI6ICIyMDI1LTA5LTI3IiwKICAgICAgIndpbmRvd19lbmQiOiAiMjAyNS0xMC0wNCIKICAgIH0sCiAgICB7CiAgICAgICJmZWF0dXJlIjogInR4bl9hbW91bnQiLAogICAgICAicHNpIjogMC4xNTE5ODgsCiAgICAgICJiYXNlbGluZV9uIjogMTE1MCwKICAgICAgImN1cnJlbnRfbiI6IDEwMCwKICAgICAgIm51bGxfcmF0ZV9jaGFuZ2UiOiAwLjAsCiAgICAgICJ3aW5kb3dfc3RhcnQiOiAiMjAyNS0wOS0yNyIsCiAgICAgICJ3aW5kb3dfZW5kIjogIjIwMjUtMTAtMDQiCiAgICB9CiAgXSwKICAiaGVhdG1hcF9yb3dzIjogWwogICAgewogICAgICAid2luZG93X3N0YXJ0IjogIjIwMjUtMDktMjciLAogICAgICAiZmVhdHVyZSI6ICJtb2RlbF9zY29yZSIsCiAgICAgICJwc2kiOiAwLjE4MDg0OQogICAgfSwKICAgIHsKICAgICAgIndpbmRvd19zdGFydCI6ICIyMDI1LTA5LTI3IiwKICAgICAgImZlYXR1cmUiOiAidHhuX2Ftb3VudCIsCiAgICAgICJwc2kiOiAwLjE1MTk4OAogICAgfQogIF0KfQ==\">⬇️ Download drift_governance_dashboard.json</a>"
      ],
      "text/plain": [
       "<IPython.core.display.HTML object>"
      ]
     },
     "metadata": {},
     "output_type": "display_data"
    },
    {
     "output_type": "stream",
     "name": "stdout",
     "output_type": "stream",
     "text": [
      "Downloaded drift_governance_dashboard.json\n"
     ]
    }
   ],
   "source": [
    "# === ARTIFACT 4: Governance JSON (fresh download link) ===\n",
    "# re-run the A6.1 logic to prepare summary_meta, top_drifts, heatmap_rows (quick version)\n",
    "try:\n",
    "    # attempt to reuse variables if present; otherwise rebuild minimal payload\n",
    "    summary_meta = globals().get(\"summary_meta\")\n",
    "    top_drifts = globals().get(\"top_drifts\")\n",
    "    heatmap_rows = globals().get(\"heatmap_rows\")\n",
    "    if summary_meta is None:\n",
    "        # small fallback: compute latest summary\n",
    "        df = spark.table(\"ml_drift_summary_v2\")\n",
    "        latest_window = df.select(F.max(\"window_start\")).collect()[0][0]\n",
    "        latest_drift_df = df.filter(F.col(\"window_start\") == latest_window)\n",
    "        summary_meta = {\n",
    "            \"latest_window\": str(latest_window),\n",
    "            \"num_features\": int(latest_drift_df.count()),\n",
    "            \"mean_psi\": float(latest_drift_df.select(F.mean(\"psi\")).collect()[0][0]) if latest_drift_df.count() else None,\n",
    "            \"high_drift_features\": int(latest_drift_df.filter(F.col(\"psi\") > 0.25).count())\n",
    "        }\n",
    "        top_drifts = latest_drift_df.select(\"feature\",\"psi\",\"baseline_n\",\"current_n\",\"null_rate_change\",\"window_start\",\"window_end\").orderBy(F.desc(\"psi\")).limit(20).toPandas().to_dict(orient=\"records\")\n",
    "        heatmap_rows = spark.table(\"ml_drift_summary_v2\").select(\"window_start\",\"feature\",\"psi\").orderBy(\"window_start\",\"feature\").limit(2000).toPandas().to_dict(orient=\"records\")\n",
    "    dashboard = {\"summary\": summary_meta, \"top_drifts\": top_drifts, \"heatmap_rows\": heatmap_rows}\n",
    "    json_txt = json.dumps(dashboard, indent=2, default=str)\n",
    "    make_data_uri_download(json_txt.encode(), \"drift_governance_dashboard.json\", mime=\"application/json\")\n",
    "    print(\"Downloaded drift_governance_dashboard.json\")\n",
    "except Exception as e:\n",
    "    print(\"Could not prepare governance JSON:\", e)\n",
    "    traceback.print_exc()\n"
   ]
  }
 ],
 "metadata": {
  "application/vnd.databricks.v1+notebook": {
   "computePreferences": null,
   "dashboards": [],
   "environmentMetadata": {
    "base_environment": "",
    "environment_version": "3"
   },
   "inputWidgetPreferences": null,
   "language": "python",
   "notebookMetadata": {
    "pythonIndentUnit": 4
   },
   "notebookName": "Spark_Drift_PlaybookV1.0",
   "widgets": {}
  },
  "language_info": {
   "name": "python"
  }
 },
 "nbformat": 4,
 "nbformat_minor": 0
}